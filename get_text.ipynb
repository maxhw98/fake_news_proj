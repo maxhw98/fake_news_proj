{
 "cells": [
  {
   "cell_type": "code",
   "execution_count": 7,
   "id": "8b48888f",
   "metadata": {},
   "outputs": [],
   "source": [
    "from bs4 import BeautifulSoup\n",
    "from mechanize import Browser"
   ]
  },
  {
   "cell_type": "code",
   "execution_count": 4,
   "id": "426de342",
   "metadata": {},
   "outputs": [],
   "source": [
    "webpage = \"https://www.theguardian.com/politics/2022/may/15/margaret-thatcher-statue-grantham-egged-within-hours-of-it-being-installed\"\n"
   ]
  },
  {
   "cell_type": "code",
   "execution_count": 9,
   "id": "d5d71cad",
   "metadata": {},
   "outputs": [
    {
     "name": "stdout",
     "output_type": "stream",
     "text": [
      "b'Margaret Thatcher statue egged within hours of it being installed | Margaret Thatcher | The Guardian'\n"
     ]
    }
   ],
   "source": [
    "#This retrieves the webpage content\n",
    "br = Browser()\n",
    "res = br.open(webpage)\n",
    "data = res.get_data() \n",
    "\n",
    "#This parses the content\n",
    "soup = BeautifulSoup(data)\n",
    "title = soup.find('title')\n",
    "\n",
    "#This outputs the content :)\n",
    "print(title.renderContents())"
   ]
  },
  {
   "cell_type": "code",
   "execution_count": null,
   "id": "b0bf049d",
   "metadata": {},
   "outputs": [],
   "source": []
  }
 ],
 "metadata": {
  "kernelspec": {
   "display_name": "Python 3 (ipykernel)",
   "language": "python",
   "name": "python3"
  },
  "language_info": {
   "codemirror_mode": {
    "name": "ipython",
    "version": 3
   },
   "file_extension": ".py",
   "mimetype": "text/x-python",
   "name": "python",
   "nbconvert_exporter": "python",
   "pygments_lexer": "ipython3",
   "version": "3.8.12"
  }
 },
 "nbformat": 4,
 "nbformat_minor": 5
}
