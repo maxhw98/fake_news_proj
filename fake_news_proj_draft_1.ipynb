{
 "cells": [
  {
   "cell_type": "markdown",
   "id": "af1f530a",
   "metadata": {},
   "source": [
    "# FAKE NEWS PROJ DRAFT 1"
   ]
  },
  {
   "cell_type": "code",
   "execution_count": 62,
   "id": "fb5692c8",
   "metadata": {},
   "outputs": [],
   "source": [
    "# Lots of help and code and inspiration from Andrii Shchur's three part blog post\n",
    "# https://towardsdatascience.com/fake-news-detector-with-deep-learning-approach-part-i-eda-757f5c052\n",
    "# https://towardsdatascience.com/fake-news-detector-with-deep-learning-approach-part-ii-modeling-42b9f901b12b\n",
    "# https://medium.com/analytics-vidhya/fake-news-detector-with-deep-learning-approach-part-iii-deploy-292be3be7950"
   ]
  },
  {
   "cell_type": "code",
   "execution_count": 117,
   "id": "7a80b22d",
   "metadata": {},
   "outputs": [],
   "source": [
    "import pandas as pd\n",
    "import numpy as np\n",
    "import matplotlib.pyplot as plt\n",
    "\n",
    "from tensorflow.keras.preprocessing.sequence import pad_sequences\n",
    "from tensorflow.keras.preprocessing.text import one_hot\n",
    "\n",
    "from tensorflow.keras.layers import Dense, LSTM, Input,GlobalMaxPool1D,Dropout\n",
    "from keras.utils.vis_utils import plot_model\n",
    "from tensorflow.keras.layers import Embedding, Input,GlobalMaxPool1D,Dropout,concatenate\n",
    "from tensorflow.keras.models import Model, Sequential\n",
    "\n",
    "import nltk\n",
    "import re\n",
    "from nltk.corpus import stopwords\n",
    "from nltk.stem.porter import PorterStemmer\n",
    "\n",
    "from sklearn.model_selection import train_test_split\n",
    "from sklearn.metrics import accuracy_score, confusion_matrix, f1_score, roc_auc_score\n",
    "\n",
    "import pydot\n",
    "import os\n",
    "\n",
    "from keras.backend import manual_variable_initialization \n",
    "from tensorflow.keras.models import Sequential, save_model\n",
    "\n",
    "manual_variable_initialization(True)"
   ]
  },
  {
   "cell_type": "code",
   "execution_count": 93,
   "id": "4bbf0162",
   "metadata": {},
   "outputs": [
    {
     "name": "stderr",
     "output_type": "stream",
     "text": [
      "[nltk_data] Downloading package stopwords to /Users/max/nltk_data...\n",
      "[nltk_data]   Package stopwords is already up-to-date!\n"
     ]
    },
    {
     "data": {
      "text/plain": [
       "True"
      ]
     },
     "execution_count": 93,
     "metadata": {},
     "output_type": "execute_result"
    }
   ],
   "source": [
    "nltk.download('stopwords')"
   ]
  },
  {
   "cell_type": "code",
   "execution_count": 94,
   "id": "d20add91",
   "metadata": {},
   "outputs": [
    {
     "name": "stdout",
     "output_type": "stream",
     "text": [
      "submit.csv test.csv   train.csv\r\n"
     ]
    }
   ],
   "source": [
    "!ls fake_news"
   ]
  },
  {
   "cell_type": "code",
   "execution_count": 95,
   "id": "b2af2d40",
   "metadata": {},
   "outputs": [],
   "source": [
    "data = pd.read_csv(\"fake_news/train.csv\")"
   ]
  },
  {
   "cell_type": "code",
   "execution_count": 96,
   "id": "0b4e4408",
   "metadata": {},
   "outputs": [
    {
     "data": {
      "text/plain": [
       "title    0\n",
       "text     0\n",
       "label    0\n",
       "dtype: int64"
      ]
     },
     "execution_count": 96,
     "metadata": {},
     "output_type": "execute_result"
    }
   ],
   "source": [
    "data = data[['title', \"text\",\"label\"]].dropna()\n",
    "data.isnull().sum()"
   ]
  },
  {
   "cell_type": "code",
   "execution_count": 97,
   "id": "317066f3",
   "metadata": {
    "scrolled": true
   },
   "outputs": [
    {
     "data": {
      "text/plain": [
       "'House Dem Aide: We Didn’t Even See Comey’s Letter Until Jason Chaffetz Tweeted It'"
      ]
     },
     "execution_count": 97,
     "metadata": {},
     "output_type": "execute_result"
    }
   ],
   "source": [
    "data[0:1].title[0]"
   ]
  },
  {
   "cell_type": "markdown",
   "id": "cebacd36",
   "metadata": {},
   "source": [
    "## Process Data"
   ]
  },
  {
   "cell_type": "code",
   "execution_count": 98,
   "id": "c38dac6e",
   "metadata": {},
   "outputs": [],
   "source": [
    "#Get the Depndent feature\n",
    "X = data.drop('label',axis=1)\n",
    "y = data['label']\n",
    "\n",
    "X_train, X_test, y_train, y_test = train_test_split(X, y, test_size=0.2, random_state=53421)"
   ]
  },
  {
   "cell_type": "code",
   "execution_count": 99,
   "id": "b893de63",
   "metadata": {},
   "outputs": [],
   "source": [
    "# X_train.shape"
   ]
  },
  {
   "cell_type": "code",
   "execution_count": 100,
   "id": "cc879940",
   "metadata": {},
   "outputs": [],
   "source": [
    "vo_size = 500\n",
    "messages = X_train.copy()\n",
    "messages.reset_index(inplace=True)"
   ]
  },
  {
   "cell_type": "code",
   "execution_count": 101,
   "id": "b8c0ce3a",
   "metadata": {},
   "outputs": [
    {
     "data": {
      "text/html": [
       "<div>\n",
       "<style scoped>\n",
       "    .dataframe tbody tr th:only-of-type {\n",
       "        vertical-align: middle;\n",
       "    }\n",
       "\n",
       "    .dataframe tbody tr th {\n",
       "        vertical-align: top;\n",
       "    }\n",
       "\n",
       "    .dataframe thead th {\n",
       "        text-align: right;\n",
       "    }\n",
       "</style>\n",
       "<table border=\"1\" class=\"dataframe\">\n",
       "  <thead>\n",
       "    <tr style=\"text-align: right;\">\n",
       "      <th></th>\n",
       "      <th>index</th>\n",
       "      <th>title</th>\n",
       "      <th>text</th>\n",
       "    </tr>\n",
       "  </thead>\n",
       "  <tbody>\n",
       "    <tr>\n",
       "      <th>0</th>\n",
       "      <td>10647</td>\n",
       "      <td>It Was The Devil vs. The Loch Ness Monster</td>\n",
       "      <td>Financial Markets , Gold , Market Manipulation...</td>\n",
       "    </tr>\n",
       "    <tr>\n",
       "      <th>1</th>\n",
       "      <td>5869</td>\n",
       "      <td>Comment on NSA Whistleblower: ‘NSA Has ALL of ...</td>\n",
       "      <td>Home / Be The Change / NSA Whistleblower: ‘NSA...</td>\n",
       "    </tr>\n",
       "    <tr>\n",
       "      <th>2</th>\n",
       "      <td>16754</td>\n",
       "      <td>Google to Get Fiat Chrysler Minivans for Self-...</td>\n",
       "      <td>DETROIT  —   The development of   cars in rece...</td>\n",
       "    </tr>\n",
       "    <tr>\n",
       "      <th>3</th>\n",
       "      <td>16812</td>\n",
       "      <td>Comment on Predetermined vote counts show Nov....</td>\n",
       "      <td>Dr. Eowyn | 2 Comments WARNING: \\nThis post ...</td>\n",
       "    </tr>\n",
       "    <tr>\n",
       "      <th>4</th>\n",
       "      <td>13042</td>\n",
       "      <td>The US Elections Do Matter But Not Necessary T...</td>\n",
       "      <td>By Rixon Stewart on September 12, 2006 \\nIs te...</td>\n",
       "    </tr>\n",
       "    <tr>\n",
       "      <th>...</th>\n",
       "      <td>...</td>\n",
       "      <td>...</td>\n",
       "      <td>...</td>\n",
       "    </tr>\n",
       "    <tr>\n",
       "      <th>16157</th>\n",
       "      <td>17043</td>\n",
       "      <td>Astronomers Think They Have Just Discovered Me...</td>\n",
       "      <td>The Daily Sheeple \\nby Jake Anderson \\nAnomalo...</td>\n",
       "    </tr>\n",
       "    <tr>\n",
       "      <th>16158</th>\n",
       "      <td>2769</td>\n",
       "      <td>Putin Responds to Claims He’s Undermining US D...</td>\n",
       "      <td>Migrant Crisis Disclaimer \\nWe here at the Dai...</td>\n",
       "    </tr>\n",
       "    <tr>\n",
       "      <th>16159</th>\n",
       "      <td>8624</td>\n",
       "      <td>Turkey Seeks to Rid Education of Erdogan Oppon...</td>\n",
       "      <td>ISTANBUL  —   The Turkish authorities extended...</td>\n",
       "    </tr>\n",
       "    <tr>\n",
       "      <th>16160</th>\n",
       "      <td>17005</td>\n",
       "      <td>Culture War – The ‘Have Mores’ Mock DAPL Prote...</td>\n",
       "      <td>Waking Times \\nMore evidence emerges that a cu...</td>\n",
       "    </tr>\n",
       "    <tr>\n",
       "      <th>16161</th>\n",
       "      <td>11012</td>\n",
       "      <td>Interview 1229 – Nomi Prins Explains The Centr...</td>\n",
       "      <td>Podcast: Play in new window | Download | Embed...</td>\n",
       "    </tr>\n",
       "  </tbody>\n",
       "</table>\n",
       "<p>16162 rows × 3 columns</p>\n",
       "</div>"
      ],
      "text/plain": [
       "       index                                              title  \\\n",
       "0      10647         It Was The Devil vs. The Loch Ness Monster   \n",
       "1       5869  Comment on NSA Whistleblower: ‘NSA Has ALL of ...   \n",
       "2      16754  Google to Get Fiat Chrysler Minivans for Self-...   \n",
       "3      16812  Comment on Predetermined vote counts show Nov....   \n",
       "4      13042  The US Elections Do Matter But Not Necessary T...   \n",
       "...      ...                                                ...   \n",
       "16157  17043  Astronomers Think They Have Just Discovered Me...   \n",
       "16158   2769  Putin Responds to Claims He’s Undermining US D...   \n",
       "16159   8624  Turkey Seeks to Rid Education of Erdogan Oppon...   \n",
       "16160  17005  Culture War – The ‘Have Mores’ Mock DAPL Prote...   \n",
       "16161  11012  Interview 1229 – Nomi Prins Explains The Centr...   \n",
       "\n",
       "                                                    text  \n",
       "0      Financial Markets , Gold , Market Manipulation...  \n",
       "1      Home / Be The Change / NSA Whistleblower: ‘NSA...  \n",
       "2      DETROIT  —   The development of   cars in rece...  \n",
       "3        Dr. Eowyn | 2 Comments WARNING: \\nThis post ...  \n",
       "4      By Rixon Stewart on September 12, 2006 \\nIs te...  \n",
       "...                                                  ...  \n",
       "16157  The Daily Sheeple \\nby Jake Anderson \\nAnomalo...  \n",
       "16158  Migrant Crisis Disclaimer \\nWe here at the Dai...  \n",
       "16159  ISTANBUL  —   The Turkish authorities extended...  \n",
       "16160  Waking Times \\nMore evidence emerges that a cu...  \n",
       "16161  Podcast: Play in new window | Download | Embed...  \n",
       "\n",
       "[16162 rows x 3 columns]"
      ]
     },
     "execution_count": 101,
     "metadata": {},
     "output_type": "execute_result"
    }
   ],
   "source": [
    "messages"
   ]
  },
  {
   "cell_type": "code",
   "execution_count": 102,
   "id": "175a70b6",
   "metadata": {},
   "outputs": [
    {
     "name": "stdout",
     "output_type": "stream",
     "text": [
      "Status: 16161 / 16162\r"
     ]
    }
   ],
   "source": [
    "ps_title = PorterStemmer()\n",
    "ps_text = PorterStemmer()\n",
    "corpus_title = []\n",
    "corpus_text = []\n",
    "\n",
    "for i in range(0, len(messages)):\n",
    "    print(\"Status: %s / %s\" %(i, len(messages)), end=\"\\r\")\n",
    "    \n",
    "    #preproc title\n",
    "    review = re.sub('[^a-zA-Z]', ' ',messages['title'][i])\n",
    "    review = review.lower()\n",
    "    review = review.split()\n",
    "    \n",
    "    review = [ps_title.stem(word) for word in review if not word in stopwords.words('english')]\n",
    "    review = ' '.join(review)\n",
    "    corpus_title.append(review)\n",
    "    \n",
    "    #preproc text\n",
    "    review = re.sub('[^a-zA-Z]', ' ',messages['text'][i])\n",
    "    review = review.lower()\n",
    "    review = review.split()\n",
    "    \n",
    "    review = [ps_text.stem(word) for word in review if not word in stopwords.words('english')]\n",
    "    review = ' '.join(review)\n",
    "    corpus_text.append(review)"
   ]
  },
  {
   "cell_type": "code",
   "execution_count": 103,
   "id": "9f10accb",
   "metadata": {},
   "outputs": [],
   "source": [
    "# One hot representation\n",
    "onehot_rep_title = [one_hot(words, vo_size) for words in corpus_title]\n",
    "onehot_rep_text = [one_hot(words, vo_size) for words in corpus_text]"
   ]
  },
  {
   "cell_type": "code",
   "execution_count": 104,
   "id": "363aa96c",
   "metadata": {},
   "outputs": [],
   "source": [
    "# sequences representation\n",
    "sent_length_title = 20\n",
    "sent_length_text = 1000\n",
    "embedded_doc_title = pad_sequences(onehot_rep_title, padding='pre', maxlen=sent_length_title)\n",
    "embedded_doc_text = pad_sequences(onehot_rep_text, padding='pre', maxlen=sent_length_text)"
   ]
  },
  {
   "cell_type": "code",
   "execution_count": 105,
   "id": "0de4b285",
   "metadata": {},
   "outputs": [
    {
     "name": "stdout",
     "output_type": "stream",
     "text": [
      "16162 (16162,)\n",
      "16162 (16162,)\n"
     ]
    }
   ],
   "source": [
    "\n",
    "print(len(embedded_doc_title),y_train.shape)\n",
    "print(len(embedded_doc_text),y_train.shape)"
   ]
  },
  {
   "cell_type": "code",
   "execution_count": 106,
   "id": "a36202bf",
   "metadata": {},
   "outputs": [
    {
     "name": "stdout",
     "output_type": "stream",
     "text": [
      "(16162, 20) (16162,)\n",
      "(16162, 1000) (16162,)\n"
     ]
    }
   ],
   "source": [
    "# final data for NN\n",
    "X_final_title=np.array(embedded_doc_title)\n",
    "X_final_text=np.array(embedded_doc_text)\n",
    "y_final=np.array(y_train)\n",
    "print(X_final_title.shape,y_final.shape)\n",
    "print(X_final_text.shape,y_final.shape)"
   ]
  },
  {
   "cell_type": "markdown",
   "id": "814334f6",
   "metadata": {},
   "source": [
    "## Building Model"
   ]
  },
  {
   "cell_type": "code",
   "execution_count": 107,
   "id": "ac38d7f4",
   "metadata": {},
   "outputs": [
    {
     "name": "stdout",
     "output_type": "stream",
     "text": [
      "Model: \"model_2\"\n",
      "__________________________________________________________________________________________________\n",
      " Layer (type)                   Output Shape         Param #     Connected to                     \n",
      "==================================================================================================\n",
      " input_6 (InputLayer)           [(None, 1000)]       0           []                               \n",
      "                                                                                                  \n",
      " embedding_5 (Embedding)        (None, 1000, 100)    50000       ['input_6[0][0]']                \n",
      "                                                                                                  \n",
      " lstm_5 (LSTM)                  (None, 1000, 128)    117248      ['embedding_5[0][0]']            \n",
      "                                                                                                  \n",
      " global_max_pooling1d_2 (Global  (None, 128)         0           ['lstm_5[0][0]']                 \n",
      " MaxPooling1D)                                                                                    \n",
      "                                                                                                  \n",
      " input_5 (InputLayer)           [(None, 20)]         0           []                               \n",
      "                                                                                                  \n",
      " dropout_4 (Dropout)            (None, 128)          0           ['global_max_pooling1d_2[0][0]'] \n",
      "                                                                                                  \n",
      " embedding_4 (Embedding)        (None, 20, 10)       5000        ['input_5[0][0]']                \n",
      "                                                                                                  \n",
      " dense_4 (Dense)                (None, 50)           6450        ['dropout_4[0][0]']              \n",
      "                                                                                                  \n",
      " lstm_4 (LSTM)                  (None, 128)          71168       ['embedding_4[0][0]']            \n",
      "                                                                                                  \n",
      " dropout_5 (Dropout)            (None, 50)           0           ['dense_4[0][0]']                \n",
      "                                                                                                  \n",
      " concatenate_2 (Concatenate)    (None, 178)          0           ['lstm_4[0][0]',                 \n",
      "                                                                  'dropout_5[0][0]']              \n",
      "                                                                                                  \n",
      " dense_5 (Dense)                (None, 1)            179         ['concatenate_2[0][0]']          \n",
      "                                                                                                  \n",
      "==================================================================================================\n",
      "Total params: 250,045\n",
      "Trainable params: 250,045\n",
      "Non-trainable params: 0\n",
      "__________________________________________________________________________________________________\n",
      "None\n"
     ]
    }
   ],
   "source": [
    "\n",
    "embedding_vector_feature_title = 10\n",
    "embedding_vector_feature_text = 100\n",
    "\n",
    "input_title = Input(shape=(sent_length_title,))\n",
    "input_text = Input(shape=(sent_length_text,))\n",
    "\n",
    "emb_title = Embedding(vo_size, embedding_vector_feature_title)(input_title)\n",
    "lstm_title = LSTM(128, return_sequences=False)(emb_title)\n",
    "\n",
    "emb_text = Embedding(vo_size, embedding_vector_feature_text)(input_text)\n",
    "lstm_text = LSTM(128, return_sequences=True)(emb_text)\n",
    "\n",
    "max_pool_text = GlobalMaxPool1D()(lstm_text)\n",
    "dropout_1_text = Dropout(0.1)(max_pool_text)\n",
    "dense_1_text = Dense(50, activation='relu')(dropout_1_text)\n",
    "dropout_2_text = Dropout(0.1)(dense_1_text)\n",
    "\n",
    "out = concatenate([lstm_title,dropout_2_text],axis=-1)\n",
    "output=Dense(1, activation='sigmoid')(out)\n",
    "\n",
    "model = Model(inputs=[input_title, input_text], outputs=output)\n",
    "model.compile(loss='binary_crossentropy', optimizer='adam', metrics=['accuracy'])\n",
    "print(model.summary())\n"
   ]
  },
  {
   "cell_type": "code",
   "execution_count": 108,
   "id": "384f4f1e",
   "metadata": {},
   "outputs": [
    {
     "data": {
      "text/plain": [
       "<keras.engine.functional.Functional at 0x1779c20d0>"
      ]
     },
     "execution_count": 108,
     "metadata": {},
     "output_type": "execute_result"
    }
   ],
   "source": [
    "model"
   ]
  },
  {
   "cell_type": "code",
   "execution_count": 109,
   "id": "e31b0599",
   "metadata": {
    "scrolled": false
   },
   "outputs": [
    {
     "data": {
      "image/png": "[encoded data removed]",
      "text/plain": [
       "<IPython.core.display.Image object>"
      ]
     },
     "execution_count": 109,
     "metadata": {},
     "output_type": "execute_result"
    }
   ],
   "source": [
    "plot_model(model, show_shapes=True, show_layer_names=True)"
   ]
  },
  {
   "cell_type": "markdown",
   "id": "992a4b75",
   "metadata": {},
   "source": [
    "## Training and saving training with checkpoints"
   ]
  },
  {
   "cell_type": "code",
   "execution_count": 110,
   "id": "e72c78d8",
   "metadata": {},
   "outputs": [],
   "source": [
    "from tensorflow.keras.callbacks import ModelCheckpoint"
   ]
  },
  {
   "cell_type": "code",
   "execution_count": 111,
   "id": "5539bc0e",
   "metadata": {},
   "outputs": [],
   "source": [
    "checkpoint_path = \"training_1/cp.ckpt\"\n",
    "checkpoint_dir = os.path.dirname(checkpoint_path)\n",
    "\n",
    "cp_callback = ModelCheckpoint(filepath=checkpoint_path,\n",
    "                                                 save_weights_only=True,\n",
    "                                                 verbose=1)"
   ]
  },
  {
   "cell_type": "code",
   "execution_count": 112,
   "id": "b0f6d761",
   "metadata": {},
   "outputs": [
    {
     "name": "stdout",
     "output_type": "stream",
     "text": [
      "Epoch 1/10\n"
     ]
    },
    {
     "name": "stderr",
     "output_type": "stream",
     "text": [
      "2022-05-15 19:40:33.706322: I tensorflow/core/grappler/optimizers/custom_graph_optimizer_registry.cc:113] Plugin optimizer for device_type GPU is enabled.\n",
      "2022-05-15 19:40:34.236378: I tensorflow/core/grappler/optimizers/custom_graph_optimizer_registry.cc:113] Plugin optimizer for device_type GPU is enabled.\n",
      "2022-05-15 19:40:34.236411: I tensorflow/core/grappler/optimizers/custom_graph_optimizer_registry.cc:113] Plugin optimizer for device_type GPU is enabled.\n",
      "2022-05-15 19:40:39.152474: I tensorflow/core/grappler/optimizers/custom_graph_optimizer_registry.cc:113] Plugin optimizer for device_type GPU is enabled.\n",
      "2022-05-15 19:40:39.192060: I tensorflow/core/grappler/optimizers/custom_graph_optimizer_registry.cc:113] Plugin optimizer for device_type GPU is enabled.\n"
     ]
    },
    {
     "name": "stdout",
     "output_type": "stream",
     "text": [
      "102/102 [==============================] - ETA: 0s - loss: 0.5430 - accuracy: 0.7205"
     ]
    },
    {
     "name": "stderr",
     "output_type": "stream",
     "text": [
      "2022-05-15 19:42:59.685365: I tensorflow/core/grappler/optimizers/custom_graph_optimizer_registry.cc:113] Plugin optimizer for device_type GPU is enabled.\n",
      "2022-05-15 19:42:59.825429: I tensorflow/core/grappler/optimizers/custom_graph_optimizer_registry.cc:113] Plugin optimizer for device_type GPU is enabled.\n",
      "2022-05-15 19:42:59.825455: I tensorflow/core/grappler/optimizers/custom_graph_optimizer_registry.cc:113] Plugin optimizer for device_type GPU is enabled.\n"
     ]
    },
    {
     "name": "stdout",
     "output_type": "stream",
     "text": [
      "\n",
      "Epoch 1: saving model to training_1/cp.ckpt\n",
      "102/102 [==============================] - 164s 1s/step - loss: 0.5430 - accuracy: 0.7205 - val_loss: 0.3351 - val_accuracy: 0.8704\n",
      "Epoch 2/10\n",
      "102/102 [==============================] - ETA: 0s - loss: 0.2261 - accuracy: 0.9127\n",
      "Epoch 2: saving model to training_1/cp.ckpt\n",
      "102/102 [==============================] - 112s 1s/step - loss: 0.2261 - accuracy: 0.9127 - val_loss: 0.1711 - val_accuracy: 0.9391\n",
      "Epoch 3/10\n",
      "102/102 [==============================] - ETA: 0s - loss: 0.1573 - accuracy: 0.9422\n",
      "Epoch 3: saving model to training_1/cp.ckpt\n",
      "102/102 [==============================] - 113s 1s/step - loss: 0.1573 - accuracy: 0.9422 - val_loss: 0.1417 - val_accuracy: 0.9465\n",
      "Epoch 4/10\n",
      "102/102 [==============================] - ETA: 0s - loss: 0.1085 - accuracy: 0.9612\n",
      "Epoch 4: saving model to training_1/cp.ckpt\n",
      "102/102 [==============================] - 114s 1s/step - loss: 0.1085 - accuracy: 0.9612 - val_loss: 0.1281 - val_accuracy: 0.9502\n",
      "Epoch 5/10\n",
      "102/102 [==============================] - ETA: 0s - loss: 0.0857 - accuracy: 0.9681\n",
      "Epoch 5: saving model to training_1/cp.ckpt\n",
      "102/102 [==============================] - 138s 1s/step - loss: 0.0857 - accuracy: 0.9681 - val_loss: 0.2538 - val_accuracy: 0.8862\n",
      "Epoch 6/10\n",
      "102/102 [==============================] - ETA: 0s - loss: 0.1046 - accuracy: 0.9669\n",
      "Epoch 6: saving model to training_1/cp.ckpt\n",
      "102/102 [==============================] - 135s 1s/step - loss: 0.1046 - accuracy: 0.9669 - val_loss: 0.1099 - val_accuracy: 0.9626\n",
      "Epoch 7/10\n",
      "102/102 [==============================] - ETA: 0s - loss: 0.0667 - accuracy: 0.9773\n",
      "Epoch 7: saving model to training_1/cp.ckpt\n",
      "102/102 [==============================] - 139s 1s/step - loss: 0.0667 - accuracy: 0.9773 - val_loss: 0.1073 - val_accuracy: 0.9623\n",
      "Epoch 8/10\n",
      "102/102 [==============================] - ETA: 0s - loss: 0.0517 - accuracy: 0.9821\n",
      "Epoch 8: saving model to training_1/cp.ckpt\n",
      "102/102 [==============================] - 153s 1s/step - loss: 0.0517 - accuracy: 0.9821 - val_loss: 0.1033 - val_accuracy: 0.9644\n",
      "Epoch 9/10\n",
      "102/102 [==============================] - ETA: 0s - loss: 0.0406 - accuracy: 0.9875\n",
      "Epoch 9: saving model to training_1/cp.ckpt\n",
      "102/102 [==============================] - 141s 1s/step - loss: 0.0406 - accuracy: 0.9875 - val_loss: 0.1114 - val_accuracy: 0.9654\n",
      "Epoch 10/10\n",
      "102/102 [==============================] - ETA: 0s - loss: 0.0307 - accuracy: 0.9920\n",
      "Epoch 10: saving model to training_1/cp.ckpt\n",
      "102/102 [==============================] - 83s 812ms/step - loss: 0.0307 - accuracy: 0.9920 - val_loss: 0.1360 - val_accuracy: 0.9601\n"
     ]
    }
   ],
   "source": [
    "history = model.fit(x=[X_final_title,X_final_text], y=y_final, batch_size=128, epochs=10, verbose=1, validation_split=0.2, callbacks=[cp_callback])\n",
    "\n"
   ]
  },
  {
   "cell_type": "code",
   "execution_count": 113,
   "id": "a3c964fd",
   "metadata": {},
   "outputs": [
    {
     "data": {
      "text/plain": [
       "['cp.ckpt.data-00000-of-00001', 'checkpoint', 'cp.ckpt.index']"
      ]
     },
     "execution_count": 113,
     "metadata": {},
     "output_type": "execute_result"
    }
   ],
   "source": [
    "os.listdir(checkpoint_dir)"
   ]
  },
  {
   "cell_type": "code",
   "execution_count": 118,
   "id": "9075b042",
   "metadata": {},
   "outputs": [
    {
     "name": "stderr",
     "output_type": "stream",
     "text": [
      "WARNING:absl:Found untraced functions such as lstm_cell_5_layer_call_fn, lstm_cell_5_layer_call_and_return_conditional_losses, lstm_cell_4_layer_call_fn, lstm_cell_4_layer_call_and_return_conditional_losses while saving (showing 4 of 4). These functions will not be directly callable after loading.\n"
     ]
    },
    {
     "name": "stdout",
     "output_type": "stream",
     "text": [
      "INFO:tensorflow:Assets written to: ./saved_model/assets\n"
     ]
    },
    {
     "name": "stderr",
     "output_type": "stream",
     "text": [
      "INFO:tensorflow:Assets written to: ./saved_model/assets\n",
      "WARNING:absl:<keras.layers.recurrent.LSTMCell object at 0x33be50430> has the same name 'LSTMCell' as a built-in Keras object. Consider renaming <class 'keras.layers.recurrent.LSTMCell'> to avoid naming conflicts when loading with `tf.keras.models.load_model`. If renaming is not possible, pass the object in the `custom_objects` parameter of the load function.\n",
      "WARNING:absl:<keras.layers.recurrent.LSTMCell object at 0x33be44400> has the same name 'LSTMCell' as a built-in Keras object. Consider renaming <class 'keras.layers.recurrent.LSTMCell'> to avoid naming conflicts when loading with `tf.keras.models.load_model`. If renaming is not possible, pass the object in the `custom_objects` parameter of the load function.\n"
     ]
    }
   ],
   "source": [
    "filepath = './saved_model'\n",
    "save_model(model, filepath)"
   ]
  },
  {
   "cell_type": "markdown",
   "id": "2cfd115a",
   "metadata": {},
   "source": [
    "## Testing Model"
   ]
  },
  {
   "cell_type": "code",
   "execution_count": 119,
   "id": "100dd6b8",
   "metadata": {},
   "outputs": [],
   "source": [
    "# X_test, y_test"
   ]
  },
  {
   "cell_type": "code",
   "execution_count": 120,
   "id": "b7c679ee",
   "metadata": {},
   "outputs": [
    {
     "name": "stdout",
     "output_type": "stream",
     "text": [
      "(4041, 20)40 / 4041\n",
      "(4041, 1000)\n"
     ]
    }
   ],
   "source": [
    "# test\n",
    "messages=X_test.copy()\n",
    "messages.reset_index(inplace=True)\n",
    "\n",
    "ps_title =PorterStemmer()\n",
    "ps_text =PorterStemmer()\n",
    "corpus_title = []\n",
    "corpus_text = []\n",
    "for i in range(0, len(messages)):\n",
    "    print(\"Status: %s / %s\" %(i, len(messages)), end=\"\\r\")\n",
    "    \n",
    "    #preproc title\n",
    "    review = re.sub('[^a-zA-Z]', ' ',messages['title'][i])\n",
    "    review = review.lower()\n",
    "    review = review.split()\n",
    "    \n",
    "    review = [ps_title.stem(word) for word in review if not word in stopwords.words('english')]\n",
    "    review = ' '.join(review)\n",
    "    corpus_title.append(review)\n",
    "    \n",
    "    #preproc text\n",
    "    review = re.sub('[^a-zA-Z]', ' ',messages['text'][i])\n",
    "    review = review.lower()\n",
    "    review = review.split()\n",
    "    \n",
    "    review = [ps_text.stem(word) for word in review if not word in stopwords.words('english')]\n",
    "    review = ' '.join(review)\n",
    "    corpus_text.append(review)\n",
    "\n",
    "onehot_rep_title = [one_hot(words, vo_size) for words in corpus_title]\n",
    "onehot_rep_text = [one_hot(words, vo_size) for words in corpus_text]\n",
    "\n",
    "sent_length_title = 20\n",
    "sent_length_text = 1000\n",
    "embedded_doc_title=pad_sequences(onehot_rep_title, padding='pre', maxlen=sent_length_title)\n",
    "embedded_doc_text=pad_sequences(onehot_rep_text, padding='pre', maxlen=sent_length_text)\n",
    "\n",
    "X_final_title=np.array(embedded_doc_title)\n",
    "X_final_text=np.array(embedded_doc_text)\n",
    "print(X_final_title.shape)\n",
    "print(X_final_text.shape)\n",
    "\n"
   ]
  },
  {
   "cell_type": "code",
   "execution_count": 123,
   "id": "77e40af6",
   "metadata": {
    "scrolled": true
   },
   "outputs": [],
   "source": [
    "# predict final\n",
    "y_pred_final = model.predict ([X_final_title,X_final_text])\n",
    "y_prob = pd.DataFrame(y_pred_final)\n",
    "y_prob['0'] = 1 - y_prob[0]\n",
    "y_class = pd.DataFrame(y_prob.values.argmax(axis=-1))\n",
    "y_class[0] = np.where(y_class[0]==1, 0, 1)\n"
   ]
  },
  {
   "cell_type": "code",
   "execution_count": 124,
   "id": "cfdb5752",
   "metadata": {},
   "outputs": [
    {
     "data": {
      "text/plain": [
       "0.6926503340757239"
      ]
     },
     "execution_count": 124,
     "metadata": {},
     "output_type": "execute_result"
    }
   ],
   "source": [
    "accuracy_score(y_test, y_class[0])"
   ]
  },
  {
   "cell_type": "code",
   "execution_count": null,
   "id": "c3326efd",
   "metadata": {},
   "outputs": [],
   "source": []
  },
  {
   "cell_type": "code",
   "execution_count": null,
   "id": "63b1acd6",
   "metadata": {},
   "outputs": [],
   "source": []
  },
  {
   "cell_type": "code",
   "execution_count": null,
   "id": "4d93c8c6",
   "metadata": {},
   "outputs": [],
   "source": []
  }
 ],
 "metadata": {
  "kernelspec": {
   "display_name": "Python 3 (ipykernel)",
   "language": "python",
   "name": "python3"
  },
  "language_info": {
   "codemirror_mode": {
    "name": "ipython",
    "version": 3
   },
   "file_extension": ".py",
   "mimetype": "text/x-python",
   "name": "python",
   "nbconvert_exporter": "python",
   "pygments_lexer": "ipython3",
   "version": "3.8.12"
  }
 },
 "nbformat": 4,
 "nbformat_minor": 5
}
