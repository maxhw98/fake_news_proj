{
 "cells": [
  {
   "cell_type": "code",
   "execution_count": 1,
   "metadata": {
    "colab": {
     "base_uri": "https://localhost:8080/"
    },
    "id": "3WfHAhqAPnmD",
    "outputId": "ceb63f97-14ff-4918-c661-9639e402c735"
   },
   "outputs": [],
   "source": [
    "import pandas as pd\n",
    "import numpy as np\n",
    "\n",
    "from tensorflow.keras.preprocessing.sequence import pad_sequences\n",
    "from tensorflow.keras.preprocessing.text import one_hot\n",
    "\n",
    "from tensorflow.keras.layers import Dense, LSTM, Input,GlobalMaxPool1D,Dropout\n",
    "from keras.utils.vis_utils import plot_model\n",
    "from tensorflow.keras.layers import Embedding, Input,GlobalMaxPool1D,Dropout,concatenate\n",
    "from tensorflow.keras.models import Model, Sequential\n",
    "\n",
    "import nltk\n",
    "import re\n",
    "from nltk.corpus import stopwords\n",
    "from nltk.stem.porter import PorterStemmer\n",
    "\n",
    "from sklearn.model_selection import train_test_split\n",
    "from sklearn.metrics import accuracy_score, confusion_matrix, f1_score, roc_auc_score"
   ]
  },
  {
   "cell_type": "code",
   "execution_count": 2,
   "metadata": {
    "colab": {
     "base_uri": "https://localhost:8080/"
    },
    "id": "PpzydiiLQAca",
    "outputId": "d97b01f7-e6e1-416f-b961-79651001387a"
   },
   "outputs": [
    {
     "name": "stderr",
     "output_type": "stream",
     "text": [
      "[nltk_data] Downloading package stopwords to /Users/max/nltk_data...\n",
      "[nltk_data]   Package stopwords is already up-to-date!\n"
     ]
    },
    {
     "data": {
      "text/plain": [
       "True"
      ]
     },
     "execution_count": 2,
     "metadata": {},
     "output_type": "execute_result"
    }
   ],
   "source": [
    "nltk.download('stopwords')"
   ]
  },
  {
   "cell_type": "code",
   "execution_count": null,
   "metadata": {
    "id": "tGi5EKLoQFMO"
   },
   "outputs": [],
   "source": []
  },
  {
   "cell_type": "code",
   "execution_count": 4,
   "metadata": {
    "colab": {
     "base_uri": "https://localhost:8080/",
     "height": 206
    },
    "id": "GdSt_YZFQBp_",
    "outputId": "d1860107-4934-43c7-cd33-52916412dd45"
   },
   "outputs": [
    {
     "data": {
      "text/html": [
       "<div>\n",
       "<style scoped>\n",
       "    .dataframe tbody tr th:only-of-type {\n",
       "        vertical-align: middle;\n",
       "    }\n",
       "\n",
       "    .dataframe tbody tr th {\n",
       "        vertical-align: top;\n",
       "    }\n",
       "\n",
       "    .dataframe thead th {\n",
       "        text-align: right;\n",
       "    }\n",
       "</style>\n",
       "<table border=\"1\" class=\"dataframe\">\n",
       "  <thead>\n",
       "    <tr style=\"text-align: right;\">\n",
       "      <th></th>\n",
       "      <th>id</th>\n",
       "      <th>title</th>\n",
       "      <th>author</th>\n",
       "      <th>text</th>\n",
       "      <th>label</th>\n",
       "    </tr>\n",
       "  </thead>\n",
       "  <tbody>\n",
       "    <tr>\n",
       "      <th>0</th>\n",
       "      <td>0</td>\n",
       "      <td>House Dem Aide: We Didn’t Even See Comey’s Let...</td>\n",
       "      <td>Darrell Lucus</td>\n",
       "      <td>House Dem Aide: We Didn’t Even See Comey’s Let...</td>\n",
       "      <td>1</td>\n",
       "    </tr>\n",
       "    <tr>\n",
       "      <th>1</th>\n",
       "      <td>1</td>\n",
       "      <td>FLYNN: Hillary Clinton, Big Woman on Campus - ...</td>\n",
       "      <td>Daniel J. Flynn</td>\n",
       "      <td>Ever get the feeling your life circles the rou...</td>\n",
       "      <td>0</td>\n",
       "    </tr>\n",
       "    <tr>\n",
       "      <th>2</th>\n",
       "      <td>2</td>\n",
       "      <td>Why the Truth Might Get You Fired</td>\n",
       "      <td>Consortiumnews.com</td>\n",
       "      <td>Why the Truth Might Get You Fired October 29, ...</td>\n",
       "      <td>1</td>\n",
       "    </tr>\n",
       "    <tr>\n",
       "      <th>3</th>\n",
       "      <td>3</td>\n",
       "      <td>15 Civilians Killed In Single US Airstrike Hav...</td>\n",
       "      <td>Jessica Purkiss</td>\n",
       "      <td>Videos 15 Civilians Killed In Single US Airstr...</td>\n",
       "      <td>1</td>\n",
       "    </tr>\n",
       "    <tr>\n",
       "      <th>4</th>\n",
       "      <td>4</td>\n",
       "      <td>Iranian woman jailed for fictional unpublished...</td>\n",
       "      <td>Howard Portnoy</td>\n",
       "      <td>Print \\nAn Iranian woman has been sentenced to...</td>\n",
       "      <td>1</td>\n",
       "    </tr>\n",
       "  </tbody>\n",
       "</table>\n",
       "</div>"
      ],
      "text/plain": [
       "   id                                              title              author  \\\n",
       "0   0  House Dem Aide: We Didn’t Even See Comey’s Let...       Darrell Lucus   \n",
       "1   1  FLYNN: Hillary Clinton, Big Woman on Campus - ...     Daniel J. Flynn   \n",
       "2   2                  Why the Truth Might Get You Fired  Consortiumnews.com   \n",
       "3   3  15 Civilians Killed In Single US Airstrike Hav...     Jessica Purkiss   \n",
       "4   4  Iranian woman jailed for fictional unpublished...      Howard Portnoy   \n",
       "\n",
       "                                                text  label  \n",
       "0  House Dem Aide: We Didn’t Even See Comey’s Let...      1  \n",
       "1  Ever get the feeling your life circles the rou...      0  \n",
       "2  Why the Truth Might Get You Fired October 29, ...      1  \n",
       "3  Videos 15 Civilians Killed In Single US Airstr...      1  \n",
       "4  Print \\nAn Iranian woman has been sentenced to...      1  "
      ]
     },
     "execution_count": 4,
     "metadata": {},
     "output_type": "execute_result"
    }
   ],
   "source": [
    "data = pd.read_csv(\"fake_news_labelled.csv\")\n",
    "data.head()"
   ]
  },
  {
   "cell_type": "code",
   "execution_count": 5,
   "metadata": {
    "id": "m7M9JSz_RDN6"
   },
   "outputs": [],
   "source": [
    "# drop nulls, keep only title, text and labels\n",
    "data = data[['title', \"text\",\"label\"]].dropna()"
   ]
  },
  {
   "cell_type": "code",
   "execution_count": 6,
   "metadata": {
    "colab": {
     "base_uri": "https://localhost:8080/",
     "height": 363
    },
    "id": "XF7yUTcQRSia",
    "outputId": "eaf010c8-b4d7-4bcb-a78e-54aa6aaad576"
   },
   "outputs": [
    {
     "data": {
      "text/html": [
       "<div>\n",
       "<style scoped>\n",
       "    .dataframe tbody tr th:only-of-type {\n",
       "        vertical-align: middle;\n",
       "    }\n",
       "\n",
       "    .dataframe tbody tr th {\n",
       "        vertical-align: top;\n",
       "    }\n",
       "\n",
       "    .dataframe thead th {\n",
       "        text-align: right;\n",
       "    }\n",
       "</style>\n",
       "<table border=\"1\" class=\"dataframe\">\n",
       "  <thead>\n",
       "    <tr style=\"text-align: right;\">\n",
       "      <th></th>\n",
       "      <th>title</th>\n",
       "      <th>text</th>\n",
       "      <th>label</th>\n",
       "    </tr>\n",
       "  </thead>\n",
       "  <tbody>\n",
       "    <tr>\n",
       "      <th>0</th>\n",
       "      <td>House Dem Aide: We Didn’t Even See Comey’s Let...</td>\n",
       "      <td>House Dem Aide: We Didn’t Even See Comey’s Let...</td>\n",
       "      <td>1</td>\n",
       "    </tr>\n",
       "    <tr>\n",
       "      <th>2</th>\n",
       "      <td>Why the Truth Might Get You Fired</td>\n",
       "      <td>Why the Truth Might Get You Fired October 29, ...</td>\n",
       "      <td>1</td>\n",
       "    </tr>\n",
       "    <tr>\n",
       "      <th>3</th>\n",
       "      <td>15 Civilians Killed In Single US Airstrike Hav...</td>\n",
       "      <td>Videos 15 Civilians Killed In Single US Airstr...</td>\n",
       "      <td>1</td>\n",
       "    </tr>\n",
       "    <tr>\n",
       "      <th>4</th>\n",
       "      <td>Iranian woman jailed for fictional unpublished...</td>\n",
       "      <td>Print \\nAn Iranian woman has been sentenced to...</td>\n",
       "      <td>1</td>\n",
       "    </tr>\n",
       "    <tr>\n",
       "      <th>6</th>\n",
       "      <td>Life: Life Of Luxury: Elton John’s 6 Favorite ...</td>\n",
       "      <td>Ever wonder how Britain’s most iconic pop pian...</td>\n",
       "      <td>1</td>\n",
       "    </tr>\n",
       "    <tr>\n",
       "      <th>12</th>\n",
       "      <td>Russian Researchers Discover Secret Nazi Milit...</td>\n",
       "      <td>The mystery surrounding The Third Reich and Na...</td>\n",
       "      <td>1</td>\n",
       "    </tr>\n",
       "    <tr>\n",
       "      <th>13</th>\n",
       "      <td>US Officials See No Link Between Trump and Russia</td>\n",
       "      <td>Clinton Campaign Demands FBI Affirm Trump's Ru...</td>\n",
       "      <td>1</td>\n",
       "    </tr>\n",
       "    <tr>\n",
       "      <th>14</th>\n",
       "      <td>Re: Yes, There Are Paid Government Trolls On S...</td>\n",
       "      <td>Yes, There Are Paid Government Trolls On Socia...</td>\n",
       "      <td>1</td>\n",
       "    </tr>\n",
       "    <tr>\n",
       "      <th>17</th>\n",
       "      <td>Anonymous Donor Pays $2.5 Million To Release E...</td>\n",
       "      <td>A Caddo Nation tribal leader has just been fre...</td>\n",
       "      <td>1</td>\n",
       "    </tr>\n",
       "    <tr>\n",
       "      <th>18</th>\n",
       "      <td>FBI Closes In On Hillary!</td>\n",
       "      <td>FBI Closes In On Hillary! Posted on Home » Hea...</td>\n",
       "      <td>1</td>\n",
       "    </tr>\n",
       "  </tbody>\n",
       "</table>\n",
       "</div>"
      ],
      "text/plain": [
       "                                                title  \\\n",
       "0   House Dem Aide: We Didn’t Even See Comey’s Let...   \n",
       "2                   Why the Truth Might Get You Fired   \n",
       "3   15 Civilians Killed In Single US Airstrike Hav...   \n",
       "4   Iranian woman jailed for fictional unpublished...   \n",
       "6   Life: Life Of Luxury: Elton John’s 6 Favorite ...   \n",
       "12  Russian Researchers Discover Secret Nazi Milit...   \n",
       "13  US Officials See No Link Between Trump and Russia   \n",
       "14  Re: Yes, There Are Paid Government Trolls On S...   \n",
       "17  Anonymous Donor Pays $2.5 Million To Release E...   \n",
       "18                          FBI Closes In On Hillary!   \n",
       "\n",
       "                                                 text  label  \n",
       "0   House Dem Aide: We Didn’t Even See Comey’s Let...      1  \n",
       "2   Why the Truth Might Get You Fired October 29, ...      1  \n",
       "3   Videos 15 Civilians Killed In Single US Airstr...      1  \n",
       "4   Print \\nAn Iranian woman has been sentenced to...      1  \n",
       "6   Ever wonder how Britain’s most iconic pop pian...      1  \n",
       "12  The mystery surrounding The Third Reich and Na...      1  \n",
       "13  Clinton Campaign Demands FBI Affirm Trump's Ru...      1  \n",
       "14  Yes, There Are Paid Government Trolls On Socia...      1  \n",
       "17  A Caddo Nation tribal leader has just been fre...      1  \n",
       "18  FBI Closes In On Hillary! Posted on Home » Hea...      1  "
      ]
     },
     "execution_count": 6,
     "metadata": {},
     "output_type": "execute_result"
    }
   ],
   "source": [
    "# 10 articles labelled fake news\n",
    "data[data.label==1][:10]"
   ]
  },
  {
   "cell_type": "code",
   "execution_count": 7,
   "metadata": {
    "colab": {
     "base_uri": "https://localhost:8080/",
     "height": 363
    },
    "id": "BdDa61tNR_Q8",
    "outputId": "d15e9256-fd1b-4d98-aff4-872bee82a0d5",
    "scrolled": true
   },
   "outputs": [
    {
     "data": {
      "text/html": [
       "<div>\n",
       "<style scoped>\n",
       "    .dataframe tbody tr th:only-of-type {\n",
       "        vertical-align: middle;\n",
       "    }\n",
       "\n",
       "    .dataframe tbody tr th {\n",
       "        vertical-align: top;\n",
       "    }\n",
       "\n",
       "    .dataframe thead th {\n",
       "        text-align: right;\n",
       "    }\n",
       "</style>\n",
       "<table border=\"1\" class=\"dataframe\">\n",
       "  <thead>\n",
       "    <tr style=\"text-align: right;\">\n",
       "      <th></th>\n",
       "      <th>title</th>\n",
       "      <th>text</th>\n",
       "      <th>label</th>\n",
       "    </tr>\n",
       "  </thead>\n",
       "  <tbody>\n",
       "    <tr>\n",
       "      <th>1</th>\n",
       "      <td>FLYNN: Hillary Clinton, Big Woman on Campus - ...</td>\n",
       "      <td>Ever get the feeling your life circles the rou...</td>\n",
       "      <td>0</td>\n",
       "    </tr>\n",
       "    <tr>\n",
       "      <th>5</th>\n",
       "      <td>Jackie Mason: Hollywood Would Love Trump if He...</td>\n",
       "      <td>In these trying times, Jackie Mason is the Voi...</td>\n",
       "      <td>0</td>\n",
       "    </tr>\n",
       "    <tr>\n",
       "      <th>7</th>\n",
       "      <td>Benoît Hamon Wins French Socialist Party’s Pre...</td>\n",
       "      <td>PARIS  —   France chose an idealistic, traditi...</td>\n",
       "      <td>0</td>\n",
       "    </tr>\n",
       "    <tr>\n",
       "      <th>8</th>\n",
       "      <td>Excerpts From a Draft Script for Donald Trump’...</td>\n",
       "      <td>Donald J. Trump is scheduled to make a highly ...</td>\n",
       "      <td>0</td>\n",
       "    </tr>\n",
       "    <tr>\n",
       "      <th>9</th>\n",
       "      <td>A Back-Channel Plan for Ukraine and Russia, Co...</td>\n",
       "      <td>A week before Michael T. Flynn resigned as nat...</td>\n",
       "      <td>0</td>\n",
       "    </tr>\n",
       "    <tr>\n",
       "      <th>10</th>\n",
       "      <td>Obama’s Organizing for Action Partners with So...</td>\n",
       "      <td>Organizing for Action, the activist group that...</td>\n",
       "      <td>0</td>\n",
       "    </tr>\n",
       "    <tr>\n",
       "      <th>11</th>\n",
       "      <td>BBC Comedy Sketch \"Real Housewives of ISIS\" Ca...</td>\n",
       "      <td>The BBC produced spoof on the “Real Housewives...</td>\n",
       "      <td>0</td>\n",
       "    </tr>\n",
       "    <tr>\n",
       "      <th>15</th>\n",
       "      <td>In Major League Soccer, Argentines Find a Home...</td>\n",
       "      <td>Guillermo Barros Schelotto was not the first A...</td>\n",
       "      <td>0</td>\n",
       "    </tr>\n",
       "    <tr>\n",
       "      <th>16</th>\n",
       "      <td>Wells Fargo Chief Abruptly Steps Down - The Ne...</td>\n",
       "      <td>The scandal engulfing Wells Fargo toppled its ...</td>\n",
       "      <td>0</td>\n",
       "    </tr>\n",
       "    <tr>\n",
       "      <th>19</th>\n",
       "      <td>Chuck Todd: ’BuzzFeed Did Donald Trump a Polit...</td>\n",
       "      <td>Wednesday after   Donald Trump’s press confere...</td>\n",
       "      <td>0</td>\n",
       "    </tr>\n",
       "  </tbody>\n",
       "</table>\n",
       "</div>"
      ],
      "text/plain": [
       "                                                title  \\\n",
       "1   FLYNN: Hillary Clinton, Big Woman on Campus - ...   \n",
       "5   Jackie Mason: Hollywood Would Love Trump if He...   \n",
       "7   Benoît Hamon Wins French Socialist Party’s Pre...   \n",
       "8   Excerpts From a Draft Script for Donald Trump’...   \n",
       "9   A Back-Channel Plan for Ukraine and Russia, Co...   \n",
       "10  Obama’s Organizing for Action Partners with So...   \n",
       "11  BBC Comedy Sketch \"Real Housewives of ISIS\" Ca...   \n",
       "15  In Major League Soccer, Argentines Find a Home...   \n",
       "16  Wells Fargo Chief Abruptly Steps Down - The Ne...   \n",
       "19  Chuck Todd: ’BuzzFeed Did Donald Trump a Polit...   \n",
       "\n",
       "                                                 text  label  \n",
       "1   Ever get the feeling your life circles the rou...      0  \n",
       "5   In these trying times, Jackie Mason is the Voi...      0  \n",
       "7   PARIS  —   France chose an idealistic, traditi...      0  \n",
       "8   Donald J. Trump is scheduled to make a highly ...      0  \n",
       "9   A week before Michael T. Flynn resigned as nat...      0  \n",
       "10  Organizing for Action, the activist group that...      0  \n",
       "11  The BBC produced spoof on the “Real Housewives...      0  \n",
       "15  Guillermo Barros Schelotto was not the first A...      0  \n",
       "16  The scandal engulfing Wells Fargo toppled its ...      0  \n",
       "19  Wednesday after   Donald Trump’s press confere...      0  "
      ]
     },
     "execution_count": 7,
     "metadata": {},
     "output_type": "execute_result"
    }
   ],
   "source": [
    "# 10 articles labelled credible\n",
    "data[data.label==0][:10]"
   ]
  },
  {
   "cell_type": "code",
   "execution_count": 30,
   "metadata": {
    "id": "AfL1K88_SBMZ"
   },
   "outputs": [],
   "source": [
    "X = data.drop('label',axis=1)\n",
    "y = data['label']\n",
    "\n",
    "X_train, X_test, y_train, y_test = train_test_split(X, y, test_size=0.2, random_state=53421)"
   ]
  },
  {
   "cell_type": "code",
   "execution_count": null,
   "metadata": {
    "colab": {
     "base_uri": "https://localhost:8080/"
    },
    "id": "K66NgmFBSH9C",
    "outputId": "c01eb531-6e97-4458-e203-efef5f355cce"
   },
   "outputs": [],
   "source": [
    "vo_size = 500\n",
    "X_train.reset_index(inplace=True)\n",
    "\n",
    "ps_title_tr = PorterStemmer()\n",
    "ps_text_tr = PorterStemmer()\n",
    "corpus_title_tr = []\n",
    "corpus_text_tr = []\n",
    "\n",
    "iters = len(X_train)\n",
    "\n",
    "for i in range(0, iters):\n",
    "    print(\"Status: %s / %s\" %(i, iters), end=\"\\r\")\n",
    "    \n",
    "    #preproc title\n",
    "    review = re.sub('[^a-zA-Z]', ' ',X_train['title'][i])\n",
    "    review = review.lower()\n",
    "    review = review.split()\n",
    "    \n",
    "    review = [ps_title_tr.stem(word) for word in review if not word in stopwords.words('english')]\n",
    "    review = ' '.join(review)\n",
    "    corpus_title_tr.append(review)\n",
    "    \n",
    "    #preproc text\n",
    "    review = re.sub('[^a-zA-Z]', ' ',X_train['text'][i])\n",
    "    review = review.lower()\n",
    "    review = review.split()\n",
    "    \n",
    "    review = [ps_text_tr.stem(word) for word in review if not word in stopwords.words('english')]\n",
    "    review = ' '.join(review)\n",
    "    corpus_text_tr.append(review)\n",
    "\n",
    "onehot_title_tr = [one_hot(words, vo_size) for words in corpus_title_tr]\n",
    "onehot_text_tr = [one_hot(words, vo_size) for words in corpus_text_tr]\n",
    "\n",
    "sent_length_title = 20\n",
    "sent_length_text = 1000\n",
    "embedded_doc_title = pad_sequences(onehot_title_tr, padding='pre', maxlen=sent_length_title)\n",
    "embedded_doc_text = pad_sequences(onehot_text_tr, padding='pre', maxlen=sent_length_text)\n",
    "\n",
    "X_train_title = np.array(embedded_doc_title)\n",
    "X_train_text = np.array(embedded_doc_text)\n",
    "print(X_train_title[0:5])\n",
    "print(X_train_text[0:5])\n",
    "\n",
    "print(X_train_title.shape)"
   ]
  },
  {
   "cell_type": "code",
   "execution_count": 31,
   "metadata": {},
   "outputs": [
    {
     "data": {
      "text/html": [
       "<div>\n",
       "<style scoped>\n",
       "    .dataframe tbody tr th:only-of-type {\n",
       "        vertical-align: middle;\n",
       "    }\n",
       "\n",
       "    .dataframe tbody tr th {\n",
       "        vertical-align: top;\n",
       "    }\n",
       "\n",
       "    .dataframe thead th {\n",
       "        text-align: right;\n",
       "    }\n",
       "</style>\n",
       "<table border=\"1\" class=\"dataframe\">\n",
       "  <thead>\n",
       "    <tr style=\"text-align: right;\">\n",
       "      <th></th>\n",
       "      <th>title</th>\n",
       "      <th>text</th>\n",
       "    </tr>\n",
       "  </thead>\n",
       "  <tbody>\n",
       "    <tr>\n",
       "      <th>18889</th>\n",
       "      <td>BREAKING – Obama Betrays America in MASSIVE Mo...</td>\n",
       "      <td>Email Print President Obama has proven he is n...</td>\n",
       "    </tr>\n",
       "    <tr>\n",
       "      <th>812</th>\n",
       "      <td>Schools All Over America Are Closing On Electi...</td>\n",
       "      <td>Schools All Over America Are Closing On Electi...</td>\n",
       "    </tr>\n",
       "    <tr>\n",
       "      <th>19487</th>\n",
       "      <td>Why Do Health Costs Keep Rising? These People ...</td>\n",
       "      <td>DANVILLE, Pa.  —   The Geisinger Health Plan, ...</td>\n",
       "    </tr>\n",
       "    <tr>\n",
       "      <th>7087</th>\n",
       "      <td>’We’re Digging Coal Again’: Trump Celebrates O...</td>\n",
       "      <td>President Donald Trump celebrated the opening ...</td>\n",
       "    </tr>\n",
       "    <tr>\n",
       "      <th>9270</th>\n",
       "      <td>Illegal Immigrant Caught at Border with Child ...</td>\n",
       "      <td>McALLEN, Texas  —   A Salvadoran national has ...</td>\n",
       "    </tr>\n",
       "    <tr>\n",
       "      <th>...</th>\n",
       "      <td>...</td>\n",
       "      <td>...</td>\n",
       "    </tr>\n",
       "    <tr>\n",
       "      <th>14417</th>\n",
       "      <td>Humana to Drop Out of Obamacare Exchanges in 2...</td>\n",
       "      <td>The health insurance giant Humana will exit th...</td>\n",
       "    </tr>\n",
       "    <tr>\n",
       "      <th>158</th>\n",
       "      <td>Burlesque Dancer Fired, Investigated by Secret...</td>\n",
       "      <td>The Secret Service is investigating a burlesqu...</td>\n",
       "    </tr>\n",
       "    <tr>\n",
       "      <th>13999</th>\n",
       "      <td>Look how easily you can be robbed while pumpin...</td>\n",
       "      <td>Print \\nAn increasingly common form of theft h...</td>\n",
       "    </tr>\n",
       "    <tr>\n",
       "      <th>14263</th>\n",
       "      <td>Kurds decide to get on US nerves</td>\n",
       "      <td>Kurds decide to get on US nerves 07.11.2016 | ...</td>\n",
       "    </tr>\n",
       "    <tr>\n",
       "      <th>17225</th>\n",
       "      <td>2:00PM Water Cooler 10/31/2016</td>\n",
       "      <td>Looks like that slippery little scut Marco Rub...</td>\n",
       "    </tr>\n",
       "  </tbody>\n",
       "</table>\n",
       "<p>4041 rows × 2 columns</p>\n",
       "</div>"
      ],
      "text/plain": [
       "                                                   title  \\\n",
       "18889  BREAKING – Obama Betrays America in MASSIVE Mo...   \n",
       "812    Schools All Over America Are Closing On Electi...   \n",
       "19487  Why Do Health Costs Keep Rising? These People ...   \n",
       "7087   ’We’re Digging Coal Again’: Trump Celebrates O...   \n",
       "9270   Illegal Immigrant Caught at Border with Child ...   \n",
       "...                                                  ...   \n",
       "14417  Humana to Drop Out of Obamacare Exchanges in 2...   \n",
       "158    Burlesque Dancer Fired, Investigated by Secret...   \n",
       "13999  Look how easily you can be robbed while pumpin...   \n",
       "14263                   Kurds decide to get on US nerves   \n",
       "17225                     2:00PM Water Cooler 10/31/2016   \n",
       "\n",
       "                                                    text  \n",
       "18889  Email Print President Obama has proven he is n...  \n",
       "812    Schools All Over America Are Closing On Electi...  \n",
       "19487  DANVILLE, Pa.  —   The Geisinger Health Plan, ...  \n",
       "7087   President Donald Trump celebrated the opening ...  \n",
       "9270   McALLEN, Texas  —   A Salvadoran national has ...  \n",
       "...                                                  ...  \n",
       "14417  The health insurance giant Humana will exit th...  \n",
       "158    The Secret Service is investigating a burlesqu...  \n",
       "13999  Print \\nAn increasingly common form of theft h...  \n",
       "14263  Kurds decide to get on US nerves 07.11.2016 | ...  \n",
       "17225  Looks like that slippery little scut Marco Rub...  \n",
       "\n",
       "[4041 rows x 2 columns]"
      ]
     },
     "execution_count": 31,
     "metadata": {},
     "output_type": "execute_result"
    }
   ],
   "source": [
    "X_test"
   ]
  },
  {
   "cell_type": "code",
   "execution_count": 26,
   "metadata": {},
   "outputs": [
    {
     "name": "stdout",
     "output_type": "stream",
     "text": [
      "(0, 20) (16162,)\n",
      "(0, 1000) (16162,)\n"
     ]
    }
   ],
   "source": [
    "X_final_title=np.array(embedded_doc_title)\n",
    "X_final_text=np.array(embedded_doc_text)\n",
    "y_final=np.array(y_train)\n",
    "print(X_final_title.shape,y_final.shape)\n",
    "print(X_final_text.shape,y_final.shape)"
   ]
  },
  {
   "cell_type": "code",
   "execution_count": 19,
   "metadata": {
    "id": "RH9OF9-CTalr"
   },
   "outputs": [
    {
     "name": "stdout",
     "output_type": "stream",
     "text": [
      "[]atus: 4040 / 4041\n",
      "[]\n"
     ]
    }
   ],
   "source": [
    "# test\n",
    "X_test.reset_index(inplace=True)\n",
    "\n",
    "ps_title_test = PorterStemmer()\n",
    "ps_text_test = PorterStemmer()\n",
    "corpus_title_test = []\n",
    "corpus_text_test = []\n",
    "\n",
    "for i in range(0, len(X_test)):\n",
    "    print(\"Status: %s / %s\" %(i, len(X_test)), end=\"\\r\")\n",
    "    \n",
    "    #preproc title\n",
    "    review = re.sub('[^a-zA-Z]', ' ', X_test['title'][i])\n",
    "    review = review.lower()\n",
    "    review = review.split()\n",
    "    \n",
    "    review = [ps_title_test.stem(word) for word in review if not word in stopwords.words('english')]\n",
    "    review = ' '.join(review)\n",
    "    corpus_title_tr.append(review)\n",
    "    \n",
    "    #preproc text\n",
    "    review = re.sub('[^a-zA-Z]', ' ', X_test['text'][i])\n",
    "    review = review.lower()\n",
    "    review = review.split()\n",
    "    \n",
    "    review = [ps_text_test.stem(word) for word in review if not word in stopwords.words('english')]\n",
    "    review = ' '.join(review)\n",
    "    corpus_text_tr.append(review)\n",
    "\n",
    "onehot_title_test = [one_hot(words, vo_size) for words in corpus_title_test]\n",
    "onehot_text_test = [one_hot(words, vo_size) for words in corpus_text_test]\n",
    "\n",
    "embedded_doc_title = pad_sequences(onehot_title_test, padding='pre', maxlen=sent_length_title)\n",
    "embedded_doc_text = pad_sequences(onehot_text_test, padding='pre', maxlen=sent_length_text)\n",
    "\n",
    "X_test_title = np.array(embedded_doc_title)\n",
    "X_test_text = np.array(embedded_doc_text)\n",
    "print(X_test_title[0:5])\n",
    "print(X_test_text[0:5])\n",
    "\n"
   ]
  },
  {
   "cell_type": "code",
   "execution_count": 22,
   "metadata": {},
   "outputs": [],
   "source": [
    "embedding_vec_title = 10\n",
    "embedding_vec_text = 100"
   ]
  },
  {
   "cell_type": "code",
   "execution_count": 23,
   "metadata": {},
   "outputs": [
    {
     "name": "stdout",
     "output_type": "stream",
     "text": [
      "Model: \"model_1\"\n",
      "__________________________________________________________________________________________________\n",
      " Layer (type)                   Output Shape         Param #     Connected to                     \n",
      "==================================================================================================\n",
      " input_4 (InputLayer)           [(None, 1000)]       0           []                               \n",
      "                                                                                                  \n",
      " embedding_3 (Embedding)        (None, 1000, 100)    50000       ['input_4[0][0]']                \n",
      "                                                                                                  \n",
      " lstm_3 (LSTM)                  (None, 1000, 128)    117248      ['embedding_3[0][0]']            \n",
      "                                                                                                  \n",
      " global_max_pooling1d_1 (Global  (None, 128)         0           ['lstm_3[0][0]']                 \n",
      " MaxPooling1D)                                                                                    \n",
      "                                                                                                  \n",
      " input_3 (InputLayer)           [(None, 20)]         0           []                               \n",
      "                                                                                                  \n",
      " dropout_2 (Dropout)            (None, 128)          0           ['global_max_pooling1d_1[0][0]'] \n",
      "                                                                                                  \n",
      " embedding_2 (Embedding)        (None, 20, 10)       5000        ['input_3[0][0]']                \n",
      "                                                                                                  \n",
      " dense_2 (Dense)                (None, 50)           6450        ['dropout_2[0][0]']              \n",
      "                                                                                                  \n",
      " lstm_2 (LSTM)                  (None, 128)          71168       ['embedding_2[0][0]']            \n",
      "                                                                                                  \n",
      " dropout_3 (Dropout)            (None, 50)           0           ['dense_2[0][0]']                \n",
      "                                                                                                  \n",
      " concatenate_1 (Concatenate)    (None, 178)          0           ['lstm_2[0][0]',                 \n",
      "                                                                  'dropout_3[0][0]']              \n",
      "                                                                                                  \n",
      " dense_3 (Dense)                (None, 1)            179         ['concatenate_1[0][0]']          \n",
      "                                                                                                  \n",
      "==================================================================================================\n",
      "Total params: 250,045\n",
      "Trainable params: 250,045\n",
      "Non-trainable params: 0\n",
      "__________________________________________________________________________________________________\n",
      "None\n"
     ]
    }
   ],
   "source": [
    "input_title = Input(shape=(sent_length_title,))\n",
    "input_text = Input(shape=(sent_length_text,))\n",
    "\n",
    "emb_title = Embedding(vo_size, embedding_vector_feature_title)(input_title)\n",
    "lstm_title = LSTM(128, return_sequences=False)(emb_title)\n",
    "\n",
    "emb_text = Embedding(vo_size, embedding_vector_feature_text)(input_text)\n",
    "lstm_text = LSTM(128, return_sequences=True)(emb_text)\n",
    "\n",
    "max_pool_text = GlobalMaxPool1D()(lstm_text)\n",
    "dropout_1_text = Dropout(0.1)(max_pool_text)\n",
    "dense_1_text = Dense(50, activation='relu')(dropout_1_text)\n",
    "dropout_2_text = Dropout(0.1)(dense_1_text)\n",
    "\n",
    "out = concatenate([lstm_title,dropout_2_text],axis=-1)\n",
    "output=Dense(1, activation='sigmoid')(out)\n",
    "\n",
    "model = Model(inputs=[input_title, input_text], outputs=output)\n",
    "model.compile(loss='binary_crossentropy', optimizer='adam', metrics=['accuracy'])\n",
    "print(model.summary())\n"
   ]
  },
  {
   "cell_type": "code",
   "execution_count": 32,
   "metadata": {},
   "outputs": [
    {
     "name": "stdout",
     "output_type": "stream",
     "text": [
      "Epoch 1/10\n"
     ]
    },
    {
     "name": "stderr",
     "output_type": "stream",
     "text": [
      "2022-05-15 21:30:17.994272: W tensorflow/core/platform/profile_utils/cpu_utils.cc:128] Failed to get CPU frequency: 0 Hz\n",
      "2022-05-15 21:30:18.679725: I tensorflow/core/grappler/optimizers/custom_graph_optimizer_registry.cc:113] Plugin optimizer for device_type GPU is enabled.\n",
      "2022-05-15 21:30:18.930458: I tensorflow/core/grappler/optimizers/custom_graph_optimizer_registry.cc:113] Plugin optimizer for device_type GPU is enabled.\n",
      "2022-05-15 21:30:18.930490: I tensorflow/core/grappler/optimizers/custom_graph_optimizer_registry.cc:113] Plugin optimizer for device_type GPU is enabled.\n",
      "2022-05-15 21:30:21.280673: I tensorflow/core/grappler/optimizers/custom_graph_optimizer_registry.cc:113] Plugin optimizer for device_type GPU is enabled.\n",
      "2022-05-15 21:30:21.382032: I tensorflow/core/grappler/optimizers/custom_graph_optimizer_registry.cc:113] Plugin optimizer for device_type GPU is enabled.\n"
     ]
    },
    {
     "name": "stdout",
     "output_type": "stream",
     "text": [
      " 24/102 [======>.......................] - ETA: 1:03 - loss: 0.6755 - accuracy: 0.5902"
     ]
    },
    {
     "name": "stderr",
     "output_type": "stream",
     "text": [
      "\n",
      "KeyboardInterrupt\n",
      "\n"
     ]
    }
   ],
   "source": [
    "model.fit(x=[X_train_title, X_train_text], y=y_final, batch_size=128, epochs=10, verbose=1, validation_split=0.2)\n",
    "\n"
   ]
  },
  {
   "cell_type": "code",
   "execution_count": null,
   "metadata": {},
   "outputs": [],
   "source": []
  }
 ],
 "metadata": {
  "colab": {
   "name": "proj_final.ipynb",
   "provenance": []
  },
  "kernelspec": {
   "display_name": "Python 3 (ipykernel)",
   "language": "python",
   "name": "python3"
  },
  "language_info": {
   "codemirror_mode": {
    "name": "ipython",
    "version": 3
   },
   "file_extension": ".py",
   "mimetype": "text/x-python",
   "name": "python",
   "nbconvert_exporter": "python",
   "pygments_lexer": "ipython3",
   "version": "3.8.12"
  }
 },
 "nbformat": 4,
 "nbformat_minor": 1
}
