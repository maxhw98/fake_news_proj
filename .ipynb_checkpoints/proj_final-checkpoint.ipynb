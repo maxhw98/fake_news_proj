{
 "cells": [
  {
   "cell_type": "code",
   "execution_count": 1,
   "metadata": {
    "colab": {
     "base_uri": "https://localhost:8080/"
    },
    "id": "3WfHAhqAPnmD",
    "outputId": "ceb63f97-14ff-4918-c661-9639e402c735"
   },
   "outputs": [],
   "source": [
    "import pandas as pd\n",
    "import numpy as np\n",
    "\n",
    "from tensorflow.keras.preprocessing.sequence import pad_sequences\n",
    "from tensorflow.keras.preprocessing.text import one_hot\n",
    "\n",
    "from tensorflow.keras.layers import Dense, LSTM, Input,GlobalMaxPool1D,Dropout\n",
    "from keras.utils.vis_utils import plot_model\n",
    "from tensorflow.keras.layers import Embedding, Input,GlobalMaxPool1D,Dropout,concatenate\n",
    "from tensorflow.keras.models import Model, Sequential\n",
    "\n",
    "import nltk\n",
    "import re\n",
    "from nltk.corpus import stopwords\n",
    "from nltk.stem.porter import PorterStemmer\n",
    "\n",
    "from sklearn.model_selection import train_test_split\n",
    "from sklearn.metrics import accuracy_score, confusion_matrix, f1_score, roc_auc_score"
   ]
  },
  {
   "cell_type": "code",
   "execution_count": 117,
   "metadata": {},
   "outputs": [],
   "source": [
    "# print(\"Num GPUs Available: \", len(tf.config.list_physical_devices('GPU')))"
   ]
  },
  {
   "cell_type": "code",
   "execution_count": 2,
   "metadata": {
    "colab": {
     "base_uri": "https://localhost:8080/"
    },
    "id": "PpzydiiLQAca",
    "outputId": "d97b01f7-e6e1-416f-b961-79651001387a"
   },
   "outputs": [
    {
     "name": "stderr",
     "output_type": "stream",
     "text": [
      "[nltk_data] Downloading package stopwords to /Users/max/nltk_data...\n",
      "[nltk_data]   Package stopwords is already up-to-date!\n"
     ]
    },
    {
     "data": {
      "text/plain": [
       "True"
      ]
     },
     "execution_count": 2,
     "metadata": {},
     "output_type": "execute_result"
    }
   ],
   "source": [
    "nltk.download('stopwords')"
   ]
  },
  {
   "cell_type": "code",
   "execution_count": null,
   "metadata": {
    "id": "tGi5EKLoQFMO"
   },
   "outputs": [],
   "source": []
  },
  {
   "cell_type": "code",
   "execution_count": 4,
   "metadata": {
    "colab": {
     "base_uri": "https://localhost:8080/",
     "height": 206
    },
    "id": "GdSt_YZFQBp_",
    "outputId": "d1860107-4934-43c7-cd33-52916412dd45"
   },
   "outputs": [
    {
     "data": {
      "text/html": [
       "<div>\n",
       "<style scoped>\n",
       "    .dataframe tbody tr th:only-of-type {\n",
       "        vertical-align: middle;\n",
       "    }\n",
       "\n",
       "    .dataframe tbody tr th {\n",
       "        vertical-align: top;\n",
       "    }\n",
       "\n",
       "    .dataframe thead th {\n",
       "        text-align: right;\n",
       "    }\n",
       "</style>\n",
       "<table border=\"1\" class=\"dataframe\">\n",
       "  <thead>\n",
       "    <tr style=\"text-align: right;\">\n",
       "      <th></th>\n",
       "      <th>id</th>\n",
       "      <th>title</th>\n",
       "      <th>author</th>\n",
       "      <th>text</th>\n",
       "      <th>label</th>\n",
       "    </tr>\n",
       "  </thead>\n",
       "  <tbody>\n",
       "    <tr>\n",
       "      <th>0</th>\n",
       "      <td>0</td>\n",
       "      <td>House Dem Aide: We Didn’t Even See Comey’s Let...</td>\n",
       "      <td>Darrell Lucus</td>\n",
       "      <td>House Dem Aide: We Didn’t Even See Comey’s Let...</td>\n",
       "      <td>1</td>\n",
       "    </tr>\n",
       "    <tr>\n",
       "      <th>1</th>\n",
       "      <td>1</td>\n",
       "      <td>FLYNN: Hillary Clinton, Big Woman on Campus - ...</td>\n",
       "      <td>Daniel J. Flynn</td>\n",
       "      <td>Ever get the feeling your life circles the rou...</td>\n",
       "      <td>0</td>\n",
       "    </tr>\n",
       "    <tr>\n",
       "      <th>2</th>\n",
       "      <td>2</td>\n",
       "      <td>Why the Truth Might Get You Fired</td>\n",
       "      <td>Consortiumnews.com</td>\n",
       "      <td>Why the Truth Might Get You Fired October 29, ...</td>\n",
       "      <td>1</td>\n",
       "    </tr>\n",
       "    <tr>\n",
       "      <th>3</th>\n",
       "      <td>3</td>\n",
       "      <td>15 Civilians Killed In Single US Airstrike Hav...</td>\n",
       "      <td>Jessica Purkiss</td>\n",
       "      <td>Videos 15 Civilians Killed In Single US Airstr...</td>\n",
       "      <td>1</td>\n",
       "    </tr>\n",
       "    <tr>\n",
       "      <th>4</th>\n",
       "      <td>4</td>\n",
       "      <td>Iranian woman jailed for fictional unpublished...</td>\n",
       "      <td>Howard Portnoy</td>\n",
       "      <td>Print \\nAn Iranian woman has been sentenced to...</td>\n",
       "      <td>1</td>\n",
       "    </tr>\n",
       "  </tbody>\n",
       "</table>\n",
       "</div>"
      ],
      "text/plain": [
       "   id                                              title              author  \\\n",
       "0   0  House Dem Aide: We Didn’t Even See Comey’s Let...       Darrell Lucus   \n",
       "1   1  FLYNN: Hillary Clinton, Big Woman on Campus - ...     Daniel J. Flynn   \n",
       "2   2                  Why the Truth Might Get You Fired  Consortiumnews.com   \n",
       "3   3  15 Civilians Killed In Single US Airstrike Hav...     Jessica Purkiss   \n",
       "4   4  Iranian woman jailed for fictional unpublished...      Howard Portnoy   \n",
       "\n",
       "                                                text  label  \n",
       "0  House Dem Aide: We Didn’t Even See Comey’s Let...      1  \n",
       "1  Ever get the feeling your life circles the rou...      0  \n",
       "2  Why the Truth Might Get You Fired October 29, ...      1  \n",
       "3  Videos 15 Civilians Killed In Single US Airstr...      1  \n",
       "4  Print \\nAn Iranian woman has been sentenced to...      1  "
      ]
     },
     "execution_count": 4,
     "metadata": {},
     "output_type": "execute_result"
    }
   ],
   "source": [
    "data = pd.read_csv(\"fake_news_labelled.csv\")\n",
    "data.head()"
   ]
  },
  {
   "cell_type": "code",
   "execution_count": 5,
   "metadata": {
    "id": "m7M9JSz_RDN6"
   },
   "outputs": [],
   "source": [
    "# drop nulls, keep only title, text and labels\n",
    "data = data[['title', \"text\",\"label\"]].dropna()"
   ]
  },
  {
   "cell_type": "code",
   "execution_count": 6,
   "metadata": {
    "colab": {
     "base_uri": "https://localhost:8080/",
     "height": 363
    },
    "id": "XF7yUTcQRSia",
    "outputId": "eaf010c8-b4d7-4bcb-a78e-54aa6aaad576"
   },
   "outputs": [
    {
     "data": {
      "text/html": [
       "<div>\n",
       "<style scoped>\n",
       "    .dataframe tbody tr th:only-of-type {\n",
       "        vertical-align: middle;\n",
       "    }\n",
       "\n",
       "    .dataframe tbody tr th {\n",
       "        vertical-align: top;\n",
       "    }\n",
       "\n",
       "    .dataframe thead th {\n",
       "        text-align: right;\n",
       "    }\n",
       "</style>\n",
       "<table border=\"1\" class=\"dataframe\">\n",
       "  <thead>\n",
       "    <tr style=\"text-align: right;\">\n",
       "      <th></th>\n",
       "      <th>title</th>\n",
       "      <th>text</th>\n",
       "      <th>label</th>\n",
       "    </tr>\n",
       "  </thead>\n",
       "  <tbody>\n",
       "    <tr>\n",
       "      <th>0</th>\n",
       "      <td>House Dem Aide: We Didn’t Even See Comey’s Let...</td>\n",
       "      <td>House Dem Aide: We Didn’t Even See Comey’s Let...</td>\n",
       "      <td>1</td>\n",
       "    </tr>\n",
       "    <tr>\n",
       "      <th>2</th>\n",
       "      <td>Why the Truth Might Get You Fired</td>\n",
       "      <td>Why the Truth Might Get You Fired October 29, ...</td>\n",
       "      <td>1</td>\n",
       "    </tr>\n",
       "    <tr>\n",
       "      <th>3</th>\n",
       "      <td>15 Civilians Killed In Single US Airstrike Hav...</td>\n",
       "      <td>Videos 15 Civilians Killed In Single US Airstr...</td>\n",
       "      <td>1</td>\n",
       "    </tr>\n",
       "    <tr>\n",
       "      <th>4</th>\n",
       "      <td>Iranian woman jailed for fictional unpublished...</td>\n",
       "      <td>Print \\nAn Iranian woman has been sentenced to...</td>\n",
       "      <td>1</td>\n",
       "    </tr>\n",
       "    <tr>\n",
       "      <th>6</th>\n",
       "      <td>Life: Life Of Luxury: Elton John’s 6 Favorite ...</td>\n",
       "      <td>Ever wonder how Britain’s most iconic pop pian...</td>\n",
       "      <td>1</td>\n",
       "    </tr>\n",
       "    <tr>\n",
       "      <th>12</th>\n",
       "      <td>Russian Researchers Discover Secret Nazi Milit...</td>\n",
       "      <td>The mystery surrounding The Third Reich and Na...</td>\n",
       "      <td>1</td>\n",
       "    </tr>\n",
       "    <tr>\n",
       "      <th>13</th>\n",
       "      <td>US Officials See No Link Between Trump and Russia</td>\n",
       "      <td>Clinton Campaign Demands FBI Affirm Trump's Ru...</td>\n",
       "      <td>1</td>\n",
       "    </tr>\n",
       "    <tr>\n",
       "      <th>14</th>\n",
       "      <td>Re: Yes, There Are Paid Government Trolls On S...</td>\n",
       "      <td>Yes, There Are Paid Government Trolls On Socia...</td>\n",
       "      <td>1</td>\n",
       "    </tr>\n",
       "    <tr>\n",
       "      <th>17</th>\n",
       "      <td>Anonymous Donor Pays $2.5 Million To Release E...</td>\n",
       "      <td>A Caddo Nation tribal leader has just been fre...</td>\n",
       "      <td>1</td>\n",
       "    </tr>\n",
       "    <tr>\n",
       "      <th>18</th>\n",
       "      <td>FBI Closes In On Hillary!</td>\n",
       "      <td>FBI Closes In On Hillary! Posted on Home » Hea...</td>\n",
       "      <td>1</td>\n",
       "    </tr>\n",
       "  </tbody>\n",
       "</table>\n",
       "</div>"
      ],
      "text/plain": [
       "                                                title  \\\n",
       "0   House Dem Aide: We Didn’t Even See Comey’s Let...   \n",
       "2                   Why the Truth Might Get You Fired   \n",
       "3   15 Civilians Killed In Single US Airstrike Hav...   \n",
       "4   Iranian woman jailed for fictional unpublished...   \n",
       "6   Life: Life Of Luxury: Elton John’s 6 Favorite ...   \n",
       "12  Russian Researchers Discover Secret Nazi Milit...   \n",
       "13  US Officials See No Link Between Trump and Russia   \n",
       "14  Re: Yes, There Are Paid Government Trolls On S...   \n",
       "17  Anonymous Donor Pays $2.5 Million To Release E...   \n",
       "18                          FBI Closes In On Hillary!   \n",
       "\n",
       "                                                 text  label  \n",
       "0   House Dem Aide: We Didn’t Even See Comey’s Let...      1  \n",
       "2   Why the Truth Might Get You Fired October 29, ...      1  \n",
       "3   Videos 15 Civilians Killed In Single US Airstr...      1  \n",
       "4   Print \\nAn Iranian woman has been sentenced to...      1  \n",
       "6   Ever wonder how Britain’s most iconic pop pian...      1  \n",
       "12  The mystery surrounding The Third Reich and Na...      1  \n",
       "13  Clinton Campaign Demands FBI Affirm Trump's Ru...      1  \n",
       "14  Yes, There Are Paid Government Trolls On Socia...      1  \n",
       "17  A Caddo Nation tribal leader has just been fre...      1  \n",
       "18  FBI Closes In On Hillary! Posted on Home » Hea...      1  "
      ]
     },
     "execution_count": 6,
     "metadata": {},
     "output_type": "execute_result"
    }
   ],
   "source": [
    "# 10 articles labelled fake news\n",
    "data[data.label==1][:10]"
   ]
  },
  {
   "cell_type": "code",
   "execution_count": 7,
   "metadata": {
    "colab": {
     "base_uri": "https://localhost:8080/",
     "height": 363
    },
    "id": "BdDa61tNR_Q8",
    "outputId": "d15e9256-fd1b-4d98-aff4-872bee82a0d5",
    "scrolled": true
   },
   "outputs": [
    {
     "data": {
      "text/html": [
       "<div>\n",
       "<style scoped>\n",
       "    .dataframe tbody tr th:only-of-type {\n",
       "        vertical-align: middle;\n",
       "    }\n",
       "\n",
       "    .dataframe tbody tr th {\n",
       "        vertical-align: top;\n",
       "    }\n",
       "\n",
       "    .dataframe thead th {\n",
       "        text-align: right;\n",
       "    }\n",
       "</style>\n",
       "<table border=\"1\" class=\"dataframe\">\n",
       "  <thead>\n",
       "    <tr style=\"text-align: right;\">\n",
       "      <th></th>\n",
       "      <th>title</th>\n",
       "      <th>text</th>\n",
       "      <th>label</th>\n",
       "    </tr>\n",
       "  </thead>\n",
       "  <tbody>\n",
       "    <tr>\n",
       "      <th>1</th>\n",
       "      <td>FLYNN: Hillary Clinton, Big Woman on Campus - ...</td>\n",
       "      <td>Ever get the feeling your life circles the rou...</td>\n",
       "      <td>0</td>\n",
       "    </tr>\n",
       "    <tr>\n",
       "      <th>5</th>\n",
       "      <td>Jackie Mason: Hollywood Would Love Trump if He...</td>\n",
       "      <td>In these trying times, Jackie Mason is the Voi...</td>\n",
       "      <td>0</td>\n",
       "    </tr>\n",
       "    <tr>\n",
       "      <th>7</th>\n",
       "      <td>Benoît Hamon Wins French Socialist Party’s Pre...</td>\n",
       "      <td>PARIS  —   France chose an idealistic, traditi...</td>\n",
       "      <td>0</td>\n",
       "    </tr>\n",
       "    <tr>\n",
       "      <th>8</th>\n",
       "      <td>Excerpts From a Draft Script for Donald Trump’...</td>\n",
       "      <td>Donald J. Trump is scheduled to make a highly ...</td>\n",
       "      <td>0</td>\n",
       "    </tr>\n",
       "    <tr>\n",
       "      <th>9</th>\n",
       "      <td>A Back-Channel Plan for Ukraine and Russia, Co...</td>\n",
       "      <td>A week before Michael T. Flynn resigned as nat...</td>\n",
       "      <td>0</td>\n",
       "    </tr>\n",
       "    <tr>\n",
       "      <th>10</th>\n",
       "      <td>Obama’s Organizing for Action Partners with So...</td>\n",
       "      <td>Organizing for Action, the activist group that...</td>\n",
       "      <td>0</td>\n",
       "    </tr>\n",
       "    <tr>\n",
       "      <th>11</th>\n",
       "      <td>BBC Comedy Sketch \"Real Housewives of ISIS\" Ca...</td>\n",
       "      <td>The BBC produced spoof on the “Real Housewives...</td>\n",
       "      <td>0</td>\n",
       "    </tr>\n",
       "    <tr>\n",
       "      <th>15</th>\n",
       "      <td>In Major League Soccer, Argentines Find a Home...</td>\n",
       "      <td>Guillermo Barros Schelotto was not the first A...</td>\n",
       "      <td>0</td>\n",
       "    </tr>\n",
       "    <tr>\n",
       "      <th>16</th>\n",
       "      <td>Wells Fargo Chief Abruptly Steps Down - The Ne...</td>\n",
       "      <td>The scandal engulfing Wells Fargo toppled its ...</td>\n",
       "      <td>0</td>\n",
       "    </tr>\n",
       "    <tr>\n",
       "      <th>19</th>\n",
       "      <td>Chuck Todd: ’BuzzFeed Did Donald Trump a Polit...</td>\n",
       "      <td>Wednesday after   Donald Trump’s press confere...</td>\n",
       "      <td>0</td>\n",
       "    </tr>\n",
       "  </tbody>\n",
       "</table>\n",
       "</div>"
      ],
      "text/plain": [
       "                                                title  \\\n",
       "1   FLYNN: Hillary Clinton, Big Woman on Campus - ...   \n",
       "5   Jackie Mason: Hollywood Would Love Trump if He...   \n",
       "7   Benoît Hamon Wins French Socialist Party’s Pre...   \n",
       "8   Excerpts From a Draft Script for Donald Trump’...   \n",
       "9   A Back-Channel Plan for Ukraine and Russia, Co...   \n",
       "10  Obama’s Organizing for Action Partners with So...   \n",
       "11  BBC Comedy Sketch \"Real Housewives of ISIS\" Ca...   \n",
       "15  In Major League Soccer, Argentines Find a Home...   \n",
       "16  Wells Fargo Chief Abruptly Steps Down - The Ne...   \n",
       "19  Chuck Todd: ’BuzzFeed Did Donald Trump a Polit...   \n",
       "\n",
       "                                                 text  label  \n",
       "1   Ever get the feeling your life circles the rou...      0  \n",
       "5   In these trying times, Jackie Mason is the Voi...      0  \n",
       "7   PARIS  —   France chose an idealistic, traditi...      0  \n",
       "8   Donald J. Trump is scheduled to make a highly ...      0  \n",
       "9   A week before Michael T. Flynn resigned as nat...      0  \n",
       "10  Organizing for Action, the activist group that...      0  \n",
       "11  The BBC produced spoof on the “Real Housewives...      0  \n",
       "15  Guillermo Barros Schelotto was not the first A...      0  \n",
       "16  The scandal engulfing Wells Fargo toppled its ...      0  \n",
       "19  Wednesday after   Donald Trump’s press confere...      0  "
      ]
     },
     "execution_count": 7,
     "metadata": {},
     "output_type": "execute_result"
    }
   ],
   "source": [
    "# 10 articles labelled credible\n",
    "data[data.label==0][:10]"
   ]
  },
  {
   "cell_type": "code",
   "execution_count": 30,
   "metadata": {
    "id": "AfL1K88_SBMZ"
   },
   "outputs": [],
   "source": [
    "X = data.drop('label',axis=1)\n",
    "y = data['label']\n",
    "\n",
    "X_train, X_test, y_train, y_test = train_test_split(X, y, test_size=0.2, random_state=53421)"
   ]
  },
  {
   "cell_type": "code",
   "execution_count": 118,
   "metadata": {},
   "outputs": [
    {
     "data": {
      "text/html": [
       "<div>\n",
       "<style scoped>\n",
       "    .dataframe tbody tr th:only-of-type {\n",
       "        vertical-align: middle;\n",
       "    }\n",
       "\n",
       "    .dataframe tbody tr th {\n",
       "        vertical-align: top;\n",
       "    }\n",
       "\n",
       "    .dataframe thead th {\n",
       "        text-align: right;\n",
       "    }\n",
       "</style>\n",
       "<table border=\"1\" class=\"dataframe\">\n",
       "  <thead>\n",
       "    <tr style=\"text-align: right;\">\n",
       "      <th></th>\n",
       "      <th>title</th>\n",
       "      <th>text</th>\n",
       "    </tr>\n",
       "  </thead>\n",
       "  <tbody>\n",
       "    <tr>\n",
       "      <th>18889</th>\n",
       "      <td>BREAKING – Obama Betrays America in MASSIVE Mo...</td>\n",
       "      <td>Email Print President Obama has proven he is n...</td>\n",
       "    </tr>\n",
       "  </tbody>\n",
       "</table>\n",
       "</div>"
      ],
      "text/plain": [
       "                                                   title  \\\n",
       "18889  BREAKING – Obama Betrays America in MASSIVE Mo...   \n",
       "\n",
       "                                                    text  \n",
       "18889  Email Print President Obama has proven he is n...  "
      ]
     },
     "execution_count": 118,
     "metadata": {},
     "output_type": "execute_result"
    }
   ],
   "source": [
    "X_test[0:1]"
   ]
  },
  {
   "cell_type": "code",
   "execution_count": null,
   "metadata": {
    "colab": {
     "base_uri": "https://localhost:8080/"
    },
    "id": "K66NgmFBSH9C",
    "outputId": "c01eb531-6e97-4458-e203-efef5f355cce"
   },
   "outputs": [],
   "source": [
    "vo_sizevo_size = 500\n",
    "X_train.reset_index(inplace=True)\n",
    "\n",
    "ps_title_tr = PorterStemmer()\n",
    "ps_text_tr = PorterStemmer()\n",
    "corpus_title_tr = []\n",
    "corpus_text_tr = []\n",
    "\n",
    "iters = len(X_train)\n",
    "\n",
    "for i in range(0, iters):\n",
    "    print(\"Status: %s / %s\" %(i, iters), end=\"\\r\")\n",
    "    \n",
    "    #preproc title\n",
    "    review = re.sub('[^a-zA-Z]', ' ',X_train['title'][i])\n",
    "    review = review.lower()\n",
    "    review = review.split()\n",
    "    \n",
    "    review = [ps_title_tr.stem(word) for word in review if not word in stopwords.words('english')]\n",
    "    review = ' '.join(review)\n",
    "    corpus_title_tr.append(review)\n",
    "    \n",
    "    #preproc text\n",
    "    review = re.sub('[^a-zA-Z]', ' ',X_train['text'][i])\n",
    "    review = review.lower()\n",
    "    review = review.split()\n",
    "    \n",
    "    review = [ps_text_tr.stem(word) for word in review if not word in stopwords.words('english')]\n",
    "    review = ' '.join(review)\n",
    "    corpus_text_tr.append(review)\n",
    "\n",
    "onehot_title_tr = [one_hot(words, vo_size) for words in corpus_title_tr]\n",
    "onehot_text_tr = [one_hot(words, vo_size) for words in corpus_text_tr]\n",
    "\n",
    "sent_length_title = 20\n",
    "sent_length_text = 1000\n",
    "embedded_doc_title = pad_sequences(onehot_title_tr, padding='pre', maxlen=sent_length_title)\n",
    "embedded_doc_text = pad_sequences(onehot_text_tr, padding='pre', maxlen=sent_length_text)\n",
    "\n",
    "X_train_title = np.array(embedded_doc_title)\n",
    "X_train_text = np.array(embedded_doc_text)\n",
    "print(X_train_title[0:5])\n",
    "print(X_train_text[0:5])\n",
    "\n",
    "print(X_train_title.shape)"
   ]
  },
  {
   "cell_type": "code",
   "execution_count": 31,
   "metadata": {},
   "outputs": [
    {
     "data": {
      "text/html": [
       "<div>\n",
       "<style scoped>\n",
       "    .dataframe tbody tr th:only-of-type {\n",
       "        vertical-align: middle;\n",
       "    }\n",
       "\n",
       "    .dataframe tbody tr th {\n",
       "        vertical-align: top;\n",
       "    }\n",
       "\n",
       "    .dataframe thead th {\n",
       "        text-align: right;\n",
       "    }\n",
       "</style>\n",
       "<table border=\"1\" class=\"dataframe\">\n",
       "  <thead>\n",
       "    <tr style=\"text-align: right;\">\n",
       "      <th></th>\n",
       "      <th>title</th>\n",
       "      <th>text</th>\n",
       "    </tr>\n",
       "  </thead>\n",
       "  <tbody>\n",
       "    <tr>\n",
       "      <th>18889</th>\n",
       "      <td>BREAKING – Obama Betrays America in MASSIVE Mo...</td>\n",
       "      <td>Email Print President Obama has proven he is n...</td>\n",
       "    </tr>\n",
       "    <tr>\n",
       "      <th>812</th>\n",
       "      <td>Schools All Over America Are Closing On Electi...</td>\n",
       "      <td>Schools All Over America Are Closing On Electi...</td>\n",
       "    </tr>\n",
       "    <tr>\n",
       "      <th>19487</th>\n",
       "      <td>Why Do Health Costs Keep Rising? These People ...</td>\n",
       "      <td>DANVILLE, Pa.  —   The Geisinger Health Plan, ...</td>\n",
       "    </tr>\n",
       "    <tr>\n",
       "      <th>7087</th>\n",
       "      <td>’We’re Digging Coal Again’: Trump Celebrates O...</td>\n",
       "      <td>President Donald Trump celebrated the opening ...</td>\n",
       "    </tr>\n",
       "    <tr>\n",
       "      <th>9270</th>\n",
       "      <td>Illegal Immigrant Caught at Border with Child ...</td>\n",
       "      <td>McALLEN, Texas  —   A Salvadoran national has ...</td>\n",
       "    </tr>\n",
       "    <tr>\n",
       "      <th>...</th>\n",
       "      <td>...</td>\n",
       "      <td>...</td>\n",
       "    </tr>\n",
       "    <tr>\n",
       "      <th>14417</th>\n",
       "      <td>Humana to Drop Out of Obamacare Exchanges in 2...</td>\n",
       "      <td>The health insurance giant Humana will exit th...</td>\n",
       "    </tr>\n",
       "    <tr>\n",
       "      <th>158</th>\n",
       "      <td>Burlesque Dancer Fired, Investigated by Secret...</td>\n",
       "      <td>The Secret Service is investigating a burlesqu...</td>\n",
       "    </tr>\n",
       "    <tr>\n",
       "      <th>13999</th>\n",
       "      <td>Look how easily you can be robbed while pumpin...</td>\n",
       "      <td>Print \\nAn increasingly common form of theft h...</td>\n",
       "    </tr>\n",
       "    <tr>\n",
       "      <th>14263</th>\n",
       "      <td>Kurds decide to get on US nerves</td>\n",
       "      <td>Kurds decide to get on US nerves 07.11.2016 | ...</td>\n",
       "    </tr>\n",
       "    <tr>\n",
       "      <th>17225</th>\n",
       "      <td>2:00PM Water Cooler 10/31/2016</td>\n",
       "      <td>Looks like that slippery little scut Marco Rub...</td>\n",
       "    </tr>\n",
       "  </tbody>\n",
       "</table>\n",
       "<p>4041 rows × 2 columns</p>\n",
       "</div>"
      ],
      "text/plain": [
       "                                                   title  \\\n",
       "18889  BREAKING – Obama Betrays America in MASSIVE Mo...   \n",
       "812    Schools All Over America Are Closing On Electi...   \n",
       "19487  Why Do Health Costs Keep Rising? These People ...   \n",
       "7087   ’We’re Digging Coal Again’: Trump Celebrates O...   \n",
       "9270   Illegal Immigrant Caught at Border with Child ...   \n",
       "...                                                  ...   \n",
       "14417  Humana to Drop Out of Obamacare Exchanges in 2...   \n",
       "158    Burlesque Dancer Fired, Investigated by Secret...   \n",
       "13999  Look how easily you can be robbed while pumpin...   \n",
       "14263                   Kurds decide to get on US nerves   \n",
       "17225                     2:00PM Water Cooler 10/31/2016   \n",
       "\n",
       "                                                    text  \n",
       "18889  Email Print President Obama has proven he is n...  \n",
       "812    Schools All Over America Are Closing On Electi...  \n",
       "19487  DANVILLE, Pa.  —   The Geisinger Health Plan, ...  \n",
       "7087   President Donald Trump celebrated the opening ...  \n",
       "9270   McALLEN, Texas  —   A Salvadoran national has ...  \n",
       "...                                                  ...  \n",
       "14417  The health insurance giant Humana will exit th...  \n",
       "158    The Secret Service is investigating a burlesqu...  \n",
       "13999  Print \\nAn increasingly common form of theft h...  \n",
       "14263  Kurds decide to get on US nerves 07.11.2016 | ...  \n",
       "17225  Looks like that slippery little scut Marco Rub...  \n",
       "\n",
       "[4041 rows x 2 columns]"
      ]
     },
     "execution_count": 31,
     "metadata": {},
     "output_type": "execute_result"
    }
   ],
   "source": [
    "X_test"
   ]
  },
  {
   "cell_type": "code",
   "execution_count": 26,
   "metadata": {},
   "outputs": [
    {
     "name": "stdout",
     "output_type": "stream",
     "text": [
      "(0, 20) (16162,)\n",
      "(0, 1000) (16162,)\n"
     ]
    }
   ],
   "source": [
    "X_final_title=np.array(embedded_doc_title)\n",
    "X_final_text=np.array(embedded_doc_text)\n",
    "y_final=np.array(y_train)\n",
    "print(X_final_title.shape,y_final.shape)\n",
    "print(X_final_text.shape,y_final.shape)"
   ]
  },
  {
   "cell_type": "code",
   "execution_count": 44,
   "metadata": {},
   "outputs": [
    {
     "data": {
      "text/html": [
       "<div>\n",
       "<style scoped>\n",
       "    .dataframe tbody tr th:only-of-type {\n",
       "        vertical-align: middle;\n",
       "    }\n",
       "\n",
       "    .dataframe tbody tr th {\n",
       "        vertical-align: top;\n",
       "    }\n",
       "\n",
       "    .dataframe thead th {\n",
       "        text-align: right;\n",
       "    }\n",
       "</style>\n",
       "<table border=\"1\" class=\"dataframe\">\n",
       "  <thead>\n",
       "    <tr style=\"text-align: right;\">\n",
       "      <th></th>\n",
       "      <th>title</th>\n",
       "      <th>text</th>\n",
       "    </tr>\n",
       "  </thead>\n",
       "  <tbody>\n",
       "    <tr>\n",
       "      <th>18889</th>\n",
       "      <td>BREAKING – Obama Betrays America in MASSIVE Mo...</td>\n",
       "      <td>Email Print President Obama has proven he is n...</td>\n",
       "    </tr>\n",
       "  </tbody>\n",
       "</table>\n",
       "</div>"
      ],
      "text/plain": [
       "                                                   title  \\\n",
       "18889  BREAKING – Obama Betrays America in MASSIVE Mo...   \n",
       "\n",
       "                                                    text  \n",
       "18889  Email Print President Obama has proven he is n...  "
      ]
     },
     "execution_count": 44,
     "metadata": {},
     "output_type": "execute_result"
    }
   ],
   "source": [
    "X_test[0:1]"
   ]
  },
  {
   "cell_type": "code",
   "execution_count": 34,
   "metadata": {
    "id": "RH9OF9-CTalr"
   },
   "outputs": [
    {
     "name": "stdout",
     "output_type": "stream",
     "text": [
      "(4041, 20)40 / 4041\n",
      "(4041, 1000)\n"
     ]
    }
   ],
   "source": [
    "# test\n",
    "messages=X_test.copy()\n",
    "messages.reset_index(inplace=True)\n",
    "\n",
    "ps_title =PorterStemmer()\n",
    "ps_text =PorterStemmer()\n",
    "corpus_title = []\n",
    "corpus_text = []\n",
    "\n",
    "for i in range(0, len(messages)):\n",
    "    print(\"Status: %s / %s\" %(i, len(messages)), end=\"\\r\")\n",
    "    \n",
    "    #preproc title\n",
    "    review = re.sub('[^a-zA-Z]', ' ',messages['title'][i])\n",
    "    review = review.lower()\n",
    "    review = review.split()\n",
    "    \n",
    "    review = [ps_title.stem(word) for word in review if not word in stopwords.words('english')]\n",
    "    review = ' '.join(review)\n",
    "    corpus_title.append(review)\n",
    "    \n",
    "    #preproc text\n",
    "    review = re.sub('[^a-zA-Z]', ' ',messages['text'][i])\n",
    "    review = review.lower()\n",
    "    review = review.split()\n",
    "    \n",
    "    review = [ps_text.stem(word) for word in review if not word in stopwords.words('english')]\n",
    "    review = ' '.join(review)\n",
    "    corpus_text.append(review)\n",
    "\n",
    "onehot_rep_title = [one_hot(words, vo_size) for words in corpus_title]\n",
    "onehot_rep_text = [one_hot(words, vo_size) for words in corpus_text]\n",
    "\n",
    "sent_length_title = 20\n",
    "sent_length_text = 1000\n",
    "embedded_doc_title=pad_sequences(onehot_rep_title, padding='pre', maxlen=sent_length_title)\n",
    "embedded_doc_text=pad_sequences(onehot_rep_text, padding='pre', maxlen=sent_length_text)\n",
    "\n",
    "X_final_title=np.array(embedded_doc_title)\n",
    "X_final_text=np.array(embedded_doc_text)\n",
    "print(X_final_title.shape)\n",
    "print(X_final_text.shape)\n",
    "\n",
    "\n"
   ]
  },
  {
   "cell_type": "code",
   "execution_count": 22,
   "metadata": {},
   "outputs": [],
   "source": [
    "embedding_vec_title = 10\n",
    "embedding_vec_text = 100"
   ]
  },
  {
   "cell_type": "code",
   "execution_count": 23,
   "metadata": {},
   "outputs": [
    {
     "name": "stdout",
     "output_type": "stream",
     "text": [
      "Model: \"model_1\"\n",
      "__________________________________________________________________________________________________\n",
      " Layer (type)                   Output Shape         Param #     Connected to                     \n",
      "==================================================================================================\n",
      " input_4 (InputLayer)           [(None, 1000)]       0           []                               \n",
      "                                                                                                  \n",
      " embedding_3 (Embedding)        (None, 1000, 100)    50000       ['input_4[0][0]']                \n",
      "                                                                                                  \n",
      " lstm_3 (LSTM)                  (None, 1000, 128)    117248      ['embedding_3[0][0]']            \n",
      "                                                                                                  \n",
      " global_max_pooling1d_1 (Global  (None, 128)         0           ['lstm_3[0][0]']                 \n",
      " MaxPooling1D)                                                                                    \n",
      "                                                                                                  \n",
      " input_3 (InputLayer)           [(None, 20)]         0           []                               \n",
      "                                                                                                  \n",
      " dropout_2 (Dropout)            (None, 128)          0           ['global_max_pooling1d_1[0][0]'] \n",
      "                                                                                                  \n",
      " embedding_2 (Embedding)        (None, 20, 10)       5000        ['input_3[0][0]']                \n",
      "                                                                                                  \n",
      " dense_2 (Dense)                (None, 50)           6450        ['dropout_2[0][0]']              \n",
      "                                                                                                  \n",
      " lstm_2 (LSTM)                  (None, 128)          71168       ['embedding_2[0][0]']            \n",
      "                                                                                                  \n",
      " dropout_3 (Dropout)            (None, 50)           0           ['dense_2[0][0]']                \n",
      "                                                                                                  \n",
      " concatenate_1 (Concatenate)    (None, 178)          0           ['lstm_2[0][0]',                 \n",
      "                                                                  'dropout_3[0][0]']              \n",
      "                                                                                                  \n",
      " dense_3 (Dense)                (None, 1)            179         ['concatenate_1[0][0]']          \n",
      "                                                                                                  \n",
      "==================================================================================================\n",
      "Total params: 250,045\n",
      "Trainable params: 250,045\n",
      "Non-trainable params: 0\n",
      "__________________________________________________________________________________________________\n",
      "None\n"
     ]
    }
   ],
   "source": [
    "input_title = Input(shape=(sent_length_title,))\n",
    "input_text = Input(shape=(sent_length_text,))\n",
    "\n",
    "emb_title = Embedding(vo_size, embedding_vector_feature_title)(input_title)\n",
    "lstm_title = LSTM(128, return_sequences=False)(emb_title)\n",
    "\n",
    "emb_text = Embedding(vo_size, embedding_vector_feature_text)(input_text)\n",
    "lstm_text = LSTM(128, return_sequences=True)(emb_text)\n",
    "\n",
    "max_pool_text = GlobalMaxPool1D()(lstm_text)\n",
    "dropout_1_text = Dropout(0.1)(max_pool_text)\n",
    "dense_1_text = Dense(50, activation='relu')(dropout_1_text)\n",
    "dropout_2_text = Dropout(0.1)(dense_1_text)\n",
    "\n",
    "out = concatenate([lstm_title,dropout_2_text],axis=-1)\n",
    "output=Dense(1, activation='sigmoid')(out)\n",
    "\n",
    "model = Model(inputs=[input_title, input_text], outputs=output)\n",
    "model.compile(loss='binary_crossentropy', optimizer='adam', metrics=['accuracy'])\n",
    "print(model.summary())\n"
   ]
  },
  {
   "cell_type": "code",
   "execution_count": 37,
   "metadata": {},
   "outputs": [
    {
     "name": "stdout",
     "output_type": "stream",
     "text": [
      "Epoch 1/10\n",
      "102/102 [==============================] - ETA: 0s - loss: 0.3403 - accuracy: 0.8522"
     ]
    },
    {
     "name": "stderr",
     "output_type": "stream",
     "text": [
      "2022-05-15 21:36:20.940453: I tensorflow/core/grappler/optimizers/custom_graph_optimizer_registry.cc:113] Plugin optimizer for device_type GPU is enabled.\n",
      "2022-05-15 21:36:21.025219: I tensorflow/core/grappler/optimizers/custom_graph_optimizer_registry.cc:113] Plugin optimizer for device_type GPU is enabled.\n",
      "2022-05-15 21:36:21.025266: I tensorflow/core/grappler/optimizers/custom_graph_optimizer_registry.cc:113] Plugin optimizer for device_type GPU is enabled.\n"
     ]
    },
    {
     "name": "stdout",
     "output_type": "stream",
     "text": [
      "102/102 [==============================] - 101s 992ms/step - loss: 0.3403 - accuracy: 0.8522 - val_loss: 0.2351 - val_accuracy: 0.9106\n",
      "Epoch 2/10\n",
      "102/102 [==============================] - 85s 837ms/step - loss: 0.1579 - accuracy: 0.9418 - val_loss: 0.1508 - val_accuracy: 0.9453\n",
      "Epoch 3/10\n",
      "102/102 [==============================] - 79s 778ms/step - loss: 0.1137 - accuracy: 0.9600 - val_loss: 0.1447 - val_accuracy: 0.9480\n",
      "Epoch 4/10\n",
      "102/102 [==============================] - 81s 796ms/step - loss: 0.0971 - accuracy: 0.9647 - val_loss: 0.1359 - val_accuracy: 0.9542\n",
      "Epoch 5/10\n",
      "102/102 [==============================] - 81s 796ms/step - loss: 0.0819 - accuracy: 0.9699 - val_loss: 0.1845 - val_accuracy: 0.9233\n",
      "Epoch 6/10\n",
      "102/102 [==============================] - 81s 799ms/step - loss: 0.1060 - accuracy: 0.9634 - val_loss: 0.1262 - val_accuracy: 0.9539\n",
      "Epoch 7/10\n",
      "102/102 [==============================] - 72s 710ms/step - loss: 0.0808 - accuracy: 0.9715 - val_loss: 0.1793 - val_accuracy: 0.9453\n",
      "Epoch 8/10\n",
      "102/102 [==============================] - 76s 748ms/step - loss: 0.0617 - accuracy: 0.9772 - val_loss: 0.1256 - val_accuracy: 0.9558\n",
      "Epoch 9/10\n",
      "102/102 [==============================] - 75s 733ms/step - loss: 0.0501 - accuracy: 0.9823 - val_loss: 0.1441 - val_accuracy: 0.9567\n",
      "Epoch 10/10\n",
      "102/102 [==============================] - 74s 723ms/step - loss: 0.0403 - accuracy: 0.9865 - val_loss: 0.1336 - val_accuracy: 0.9579\n"
     ]
    },
    {
     "data": {
      "text/plain": [
       "<keras.callbacks.History at 0x3044f3e20>"
      ]
     },
     "execution_count": 37,
     "metadata": {},
     "output_type": "execute_result"
    }
   ],
   "source": [
    "model.fit(x=[X_train_title, X_train_text], y=y_final, batch_size=128, epochs=10, verbose=1, validation_split=0.2)\n"
   ]
  },
  {
   "cell_type": "code",
   "execution_count": 38,
   "metadata": {},
   "outputs": [
    {
     "name": "stderr",
     "output_type": "stream",
     "text": [
      "2022-05-16 01:07:14.794928: I tensorflow/core/grappler/optimizers/custom_graph_optimizer_registry.cc:113] Plugin optimizer for device_type GPU is enabled.\n",
      "2022-05-16 01:07:14.870265: I tensorflow/core/grappler/optimizers/custom_graph_optimizer_registry.cc:113] Plugin optimizer for device_type GPU is enabled.\n",
      "2022-05-16 01:07:14.870300: I tensorflow/core/grappler/optimizers/custom_graph_optimizer_registry.cc:113] Plugin optimizer for device_type GPU is enabled.\n"
     ]
    }
   ],
   "source": [
    "# predict final\n",
    "y_pred_final = model.predict([X_final_title,X_final_text])\n",
    "y_prob = pd.DataFrame(y_pred_final)\n",
    "y_prob['0'] = 1 - y_prob[0]\n",
    "y_class = pd.DataFrame(y_prob.values.argmax(axis=-1))\n",
    "y_class[0] = np.where(y_class[0]==1, 0, 1)\n",
    "\n"
   ]
  },
  {
   "cell_type": "code",
   "execution_count": 116,
   "metadata": {},
   "outputs": [
    {
     "data": {
      "text/plain": [
       "array([[8.3586490e-01],\n",
       "       [9.9996650e-01],\n",
       "       [5.1796576e-08],\n",
       "       ...,\n",
       "       [9.9992287e-01],\n",
       "       [9.9996603e-01],\n",
       "       [6.0107550e-03]], dtype=float32)"
      ]
     },
     "execution_count": 116,
     "metadata": {},
     "output_type": "execute_result"
    }
   ],
   "source": [
    "y_pred_final"
   ]
  },
  {
   "cell_type": "code",
   "execution_count": 40,
   "metadata": {},
   "outputs": [],
   "source": [
    "# nice, 91.6% "
   ]
  },
  {
   "cell_type": "code",
   "execution_count": 39,
   "metadata": {},
   "outputs": [
    {
     "data": {
      "text/plain": [
       "0.9163573372927494"
      ]
     },
     "execution_count": 39,
     "metadata": {},
     "output_type": "execute_result"
    }
   ],
   "source": [
    "accuracy_score(y_test, y_class[0])"
   ]
  },
  {
   "cell_type": "markdown",
   "metadata": {},
   "source": [
    "## Gets harder with Custom Input"
   ]
  },
  {
   "cell_type": "code",
   "execution_count": 106,
   "metadata": {},
   "outputs": [],
   "source": [
    "# https://www.theguardian.com/politics/2022/may/15/margaret-thatcher-statue-grantham-egged-within-hours-of-it-being-installed\n",
    "title1 = \"Margaret Thatcher statue egged within hours of it being installed\"\n",
    "text1 = \"\"\"Warnings that a new statue of Margaret Thatcher would attract egg-throwing protests came true within two hours of it being installed in her home town of Grantham on Sunday.\n",
    "\n",
    "The bronze statue was, without ceremony, placed on a 3-metre (10ft) high plinth to make it more difficult for protesters to inflict any damage.\n",
    "\n",
    "Shortly afterwards a man was seen throwing eggs from behind a temporary fence and, when one connected, a cry of “oi” could be heard.\n",
    "\n",
    "The egg-throwing came as a surprise to nobody in Grantham. There is pride but also heightened awareness of how divisive a figure Thatcher remains.\n",
    "\n",
    "After it was installed on a warm Sunday morning, a number of people stopped to take selfies. But loud booing could also be heard from passing motorists.\n",
    "\n",
    "The Labour councillor Lee Steptoe said the egg-throwing was “absolutely inevitable”. \"\"\""
   ]
  },
  {
   "cell_type": "code",
   "execution_count": 107,
   "metadata": {},
   "outputs": [],
   "source": [
    "def process_input(title, text):\n",
    "    messages= pd.DataFrame({'title':[title], 'text':[text]})\n",
    "    messages.reset_index(inplace=True)\n",
    "\n",
    "    ps_title =PorterStemmer()\n",
    "    ps_text =PorterStemmer()\n",
    "    corpus_title = []\n",
    "    corpus_text = []\n",
    "\n",
    "    for i in range(0, len(messages)):\n",
    "        print(\"Status: %s / %s\" %(i, len(messages)), end=\"\\r\")\n",
    "\n",
    "        #preproc title\n",
    "        review = re.sub('[^a-zA-Z]', ' ',messages['title'][i])\n",
    "        review = review.lower()\n",
    "        review = review.split()\n",
    "\n",
    "        review = [ps_title.stem(word) for word in review if not word in stopwords.words('english')]\n",
    "        review = ' '.join(review)\n",
    "        corpus_title.append(review)\n",
    "\n",
    "        #preproc text\n",
    "        review = re.sub('[^a-zA-Z]', ' ',messages['text'][i])\n",
    "        review = review.lower()\n",
    "        review = review.split()\n",
    "\n",
    "        review = [ps_text.stem(word) for word in review if not word in stopwords.words('english')]\n",
    "        review = ' '.join(review)\n",
    "        corpus_text.append(review)\n",
    "\n",
    "    onehot_rep_title = [one_hot(words, vo_size) for words in corpus_title]\n",
    "    onehot_rep_text = [one_hot(words, vo_size) for words in corpus_text]\n",
    "\n",
    "    sent_length_title = 20\n",
    "    sent_length_text = 1000\n",
    "    embedded_doc_title=pad_sequences(onehot_rep_title, padding='pre', maxlen=sent_length_title)\n",
    "    embedded_doc_text=pad_sequences(onehot_rep_text, padding='pre', maxlen=sent_length_text)\n",
    "\n",
    "    X_final_title=np.array(embedded_doc_title)\n",
    "    X_final_text=np.array(embedded_doc_text)\n",
    "    \n",
    "    return [X_final_title, X_final_text]"
   ]
  },
  {
   "cell_type": "code",
   "execution_count": 113,
   "metadata": {},
   "outputs": [
    {
     "name": "stdout",
     "output_type": "stream",
     "text": [
      "Status: 0 / 1\r"
     ]
    },
    {
     "data": {
      "text/plain": [
       "[array([[  0,   0,   0,   0,   0,   0,   0,   0,   0,   0,   0,   0,   0,\n",
       "         251, 473, 318, 443, 379, 105, 346]], dtype=int32),\n",
       " array([[  0,   0,   0,   0,   0,   0,   0,   0,   0,   0,   0,   0,   0,\n",
       "           0,   0,   0,   0,   0,   0,   0,   0,   0,   0,   0,   0,   0,\n",
       "           0,   0,   0,   0,   0,   0,   0,   0,   0,   0,   0,   0,   0,\n",
       "           0,   0,   0,   0,   0,   0,   0,   0,   0,   0,   0,   0,   0,\n",
       "           0,   0,   0,   0,   0,   0,   0,   0,   0,   0,   0,   0,   0,\n",
       "           0,   0,   0,   0,   0,   0,   0,   0,   0,   0,   0,   0,   0,\n",
       "           0,   0,   0,   0,   0,   0,   0,   0,   0,   0,   0,   0,   0,\n",
       "           0,   0,   0,   0,   0,   0,   0,   0,   0,   0,   0,   0,   0,\n",
       "           0,   0,   0,   0,   0,   0,   0,   0,   0,   0,   0,   0,   0,\n",
       "           0,   0,   0,   0,   0,   0,   0,   0,   0,   0,   0,   0,   0,\n",
       "           0,   0,   0,   0,   0,   0,   0,   0,   0,   0,   0,   0,   0,\n",
       "           0,   0,   0,   0,   0,   0,   0,   0,   0,   0,   0,   0,   0,\n",
       "           0,   0,   0,   0,   0,   0,   0,   0,   0,   0,   0,   0,   0,\n",
       "           0,   0,   0,   0,   0,   0,   0,   0,   0,   0,   0,   0,   0,\n",
       "           0,   0,   0,   0,   0,   0,   0,   0,   0,   0,   0,   0,   0,\n",
       "           0,   0,   0,   0,   0,   0,   0,   0,   0,   0,   0,   0,   0,\n",
       "           0,   0,   0,   0,   0,   0,   0,   0,   0,   0,   0,   0,   0,\n",
       "           0,   0,   0,   0,   0,   0,   0,   0,   0,   0,   0,   0,   0,\n",
       "           0,   0,   0,   0,   0,   0,   0,   0,   0,   0,   0,   0,   0,\n",
       "           0,   0,   0,   0,   0,   0,   0,   0,   0,   0,   0,   0,   0,\n",
       "           0,   0,   0,   0,   0,   0,   0,   0,   0,   0,   0,   0,   0,\n",
       "           0,   0,   0,   0,   0,   0,   0,   0,   0,   0,   0,   0,   0,\n",
       "           0,   0,   0,   0,   0,   0,   0,   0,   0,   0,   0,   0,   0,\n",
       "           0,   0,   0,   0,   0,   0,   0,   0,   0,   0,   0,   0,   0,\n",
       "           0,   0,   0,   0,   0,   0,   0,   0,   0,   0,   0,   0,   0,\n",
       "           0,   0,   0,   0,   0,   0,   0,   0,   0,   0,   0,   0,   0,\n",
       "           0,   0,   0,   0,   0,   0,   0,   0,   0,   0,   0,   0,   0,\n",
       "           0,   0,   0,   0,   0,   0,   0,   0,   0,   0,   0,   0,   0,\n",
       "           0,   0,   0,   0,   0,   0,   0,   0,   0,   0,   0,   0,   0,\n",
       "           0,   0,   0,   0,   0,   0,   0,   0,   0,   0,   0,   0,   0,\n",
       "           0,   0,   0,   0,   0,   0,   0,   0,   0,   0,   0,   0,   0,\n",
       "           0,   0,   0,   0,   0,   0,   0,   0,   0,   0,   0,   0,   0,\n",
       "           0,   0,   0,   0,   0,   0,   0,   0,   0,   0,   0,   0,   0,\n",
       "           0,   0,   0,   0,   0,   0,   0,   0,   0,   0,   0,   0,   0,\n",
       "           0,   0,   0,   0,   0,   0,   0,   0,   0,   0,   0,   0,   0,\n",
       "           0,   0,   0,   0,   0,   0,   0,   0,   0,   0,   0,   0,   0,\n",
       "           0,   0,   0,   0,   0,   0,   0,   0,   0,   0,   0,   0,   0,\n",
       "           0,   0,   0,   0,   0,   0,   0,   0,   0,   0,   0,   0,   0,\n",
       "           0,   0,   0,   0,   0,   0,   0,   0,   0,   0,   0,   0,   0,\n",
       "           0,   0,   0,   0,   0,   0,   0,   0,   0,   0,   0,   0,   0,\n",
       "           0,   0,   0,   0,   0,   0,   0,   0,   0,   0,   0,   0,   0,\n",
       "           0,   0,   0,   0,   0,   0,   0,   0,   0,   0,   0,   0,   0,\n",
       "           0,   0,   0,   0,   0,   0,   0,   0,   0,   0,   0,   0,   0,\n",
       "           0,   0,   0,   0,   0,   0,   0,   0,   0,   0,   0,   0,   0,\n",
       "           0,   0,   0,   0,   0,   0,   0,   0,   0,   0,   0,   0,   0,\n",
       "           0,   0,   0,   0,   0,   0,   0,   0,   0,   0,   0,   0,   0,\n",
       "           0,   0,   0,   0,   0,   0,   0,   0,   0,   0,   0,   0,   0,\n",
       "           0,   0,   0,   0,   0,   0,   0,   0,   0,   0,   0,   0,   0,\n",
       "           0,   0,   0,   0,   0,   0,   0,   0,   0,   0,   0,   0,   0,\n",
       "           0,   0,   0,   0,   0,   0,   0,   0,   0,   0,   0,   0,   0,\n",
       "           0,   0,   0,   0,   0,   0,   0,   0,   0,   0,   0,   0,   0,\n",
       "           0,   0,   0,   0,   0,   0,   0,   0,   0,   0,   0,   0,   0,\n",
       "           0,   0,   0,   0,   0,   0,   0,   0,   0,   0,   0,   0,   0,\n",
       "           0,   0,   0,   0,   0,   0,   0,   0,   0,   0,   0,   0,   0,\n",
       "           0,   0,   0,   0,   0,   0,   0,   0,   0,   0,   0,   0,   0,\n",
       "           0,   0,   0,   0,   0,   0,   0,   0,   0,   0,   0,   0,   0,\n",
       "           0,   0,   0,   0,   0,   0,   0,   0,   0,   0,   0,   0,   0,\n",
       "           0,   0,   0,   0,   0,   0,   0,   0,   0,   0,   0,   0,   0,\n",
       "           0,   0,   0,   0,   0,   0,   0,   0,   0,   0,   0,   0,   0,\n",
       "           0,   0,   0,   0,   0,   0,   0,   0,   0,   0,   0,   0,   0,\n",
       "           0,   0,   0,   0,   0,   0,   0,   0,   0,   0,   0,   0,   0,\n",
       "           0,   0,   0,   0,   0,   0,   0,   0,   0,   0,   0,   0,   0,\n",
       "           0,   0,   0,   0,   0,   0,   0,   0,   0,   0,   0,   0,   0,\n",
       "           0,   0,   0,   0,   0,   0,   0,   0,   0,   0,   0,   0,   0,\n",
       "           0,   0,   0,   0,   0,   0,   0,   0,   0,   0,   0,   0,   0,\n",
       "           0,   0,   0,   0,   0,   0,   0,   0,   0,   0,   0,   0,   0,\n",
       "           0,   0,   0,   0,   0,   0,   0,   0,   0,   0,   0,   0,   0,\n",
       "           0,   0,   0,   0,   0,   0,   0,   0,   0,   0,   0,   0,   0,\n",
       "           0,   0,   0,   0,   0,   0,   0,   0,   0,   0,   0,   0,   0,\n",
       "           0,   0,   0,   0,   0,   0,   0,   0,   0,   0,   0,   0,   0,\n",
       "           0,   0, 468, 404, 318, 251, 473, 425, 306, 126, 457, 172, 431,\n",
       "         402, 379, 149, 105, 346, 299, 298,  11, 377,  82, 318, 433,  83,\n",
       "         475,  71, 168, 478, 108, 253,  89, 172, 287, 391, 365, 259, 266,\n",
       "         414, 457, 126, 241,  85, 498, 449, 102, 366,  57,  56, 487, 126,\n",
       "         457, 431, 406, 268,  11, 393, 209,  78, 405, 313, 444, 473, 350,\n",
       "         346,  37, 377,  14, 149, 140, 183, 321, 136, 390, 147,  56, 209,\n",
       "         487, 416, 193,  10, 194,  74, 346, 493, 126, 457, 329, 357]],\n",
       "       dtype=int32)]"
      ]
     },
     "execution_count": 113,
     "metadata": {},
     "output_type": "execute_result"
    }
   ],
   "source": [
    "process_input(title1, text1)"
   ]
  },
  {
   "cell_type": "code",
   "execution_count": 109,
   "metadata": {},
   "outputs": [
    {
     "data": {
      "text/plain": [
       "array([[  0,   0,   0,   0,   0,   0,   0, 372, 432, 150,  88, 108, 337,\n",
       "        317, 416,  57, 360, 304, 380,  82]], dtype=int32)"
      ]
     },
     "execution_count": 109,
     "metadata": {},
     "output_type": "execute_result"
    }
   ],
   "source": [
    "X_final_title[0:1]"
   ]
  },
  {
   "cell_type": "code",
   "execution_count": null,
   "metadata": {},
   "outputs": [],
   "source": []
  },
  {
   "cell_type": "code",
   "execution_count": 114,
   "metadata": {},
   "outputs": [
    {
     "name": "stdout",
     "output_type": "stream",
     "text": [
      "Status: 0 / 1\r"
     ]
    },
    {
     "data": {
      "text/plain": [
       "array([[0.9934454]], dtype=float32)"
      ]
     },
     "execution_count": 114,
     "metadata": {},
     "output_type": "execute_result"
    }
   ],
   "source": [
    "model.predict(process_input(title1, text1))\n"
   ]
  },
  {
   "cell_type": "code",
   "execution_count": 111,
   "metadata": {},
   "outputs": [
    {
     "data": {
      "text/plain": [
       "18889    BREAKING – Obama Betrays America in MASSIVE Mo...\n",
       "Name: title, dtype: object"
      ]
     },
     "execution_count": 111,
     "metadata": {},
     "output_type": "execute_result"
    }
   ],
   "source": [
    "X_test[0:1]['title']"
   ]
  },
  {
   "cell_type": "code",
   "execution_count": 112,
   "metadata": {},
   "outputs": [
    {
     "name": "stdout",
     "output_type": "stream",
     "text": [
      "Status: 0 / 1\r",
      "[[  0   0   0   0   0   0   0 372 432 150  88 108 337 317 416  57 360 304\n",
      "  380  82]]\n",
      "[[  0   0   0   0   0   0   0   0   0   0   0   0   0   0   0   0   0   0\n",
      "    0   0   0   0   0   0   0   0   0   0   0   0   0   0   0   0   0   0\n",
      "    0   0   0   0   0   0   0   0   0   0   0   0   0   0   0   0   0   0\n",
      "    0   0   0   0   0   0   0   0   0   0   0   0   0   0   0   0   0   0\n",
      "    0   0   0   0   0   0   0   0   0   0   0   0   0   0   0   0   0   0\n",
      "    0   0   0   0   0   0   0   0   0   0   0   0   0   0   0   0   0   0\n",
      "    0   0   0   0   0   0   0   0   0   0   0   0   0   0   0   0   0   0\n",
      "    0   0   0   0   0   0   0   0   0   0   0   0   0   0   0   0   0   0\n",
      "    0   0   0   0   0   0   0   0   0   0   0   0   0   0   0   0   0   0\n",
      "    0   0   0   0   0   0   0   0   0   0   0   0   0   0   0   0   0   0\n",
      "    0   0   0   0   0   0   0   0   0   0   0   0   0   0   0   0   0   0\n",
      "    0   0   0   0   0   0   0   0   0   0   0   0   0   0   0   0   0   0\n",
      "    0   0   0   0   0   0   0   0   0   0   0   0   0   0   0   0   0   0\n",
      "    0   0   0   0   0   0   0   0   0   0   0   0   0   0   0   0   0   0\n",
      "    0   0   0   0   0   0   0   0   0   0   0   0   0   0   0   0   0   0\n",
      "    0   0   0   0   0   0   0   0   0   0   0   0   0   0   0   0   0   0\n",
      "    0   0   0   0   0   0   0   0   0   0   0   0   0   0   0   0   0   0\n",
      "    0   0   0   0   0   0   0   0   0   0   0   0   0   0   0   0   0   0\n",
      "    0   0   0   0   0   0   0   0   0   0   0   0   0   0   0   0   0   0\n",
      "    0   0   0   0   0   0   0   0   0   0   0   0   0   0   0   0   0   0\n",
      "    0   0   0   0   0   0   0   0   0   0   0   0   0   0   0   0   0   0\n",
      "    0   0   0   0   0   0   0   0   0   0   0   0   0   0   0   0   0   0\n",
      "    0   0   0   0   0   0   0   0   0   0   0   0   0   0   0   0   0   0\n",
      "    0   0   0   0   0   0   0   0   0   0   0   0   0   0   0   0   0   0\n",
      "    0   0   0   0   0   0   0   0   0   0   0   0   0   0   0   0   0   0\n",
      "    0   0   0   0   0   0   0   0   0   0   0   0   0   0   0   0   0   0\n",
      "    0   0   0   0   0   0   0   0   0   0   0   0   0   0   0   0   0   0\n",
      "    0   0   0   0   0   0   0   0   0   0   0   0   0   0   0   0   0   0\n",
      "    0   0   0   0   0   0   0   0   0   0   0   0   0   0   0   0   0   0\n",
      "    0   0   0   0   0   0   0   0   0   0   0   0   0   0   0   0   0   0\n",
      "    0   0   0   0   0   0   0   0   0   0   0   0   0   0   0   0   0   0\n",
      "    0   0   0   0   0   0   0   0   0   0   0   0   0   0   0   0   0   0\n",
      "    0   0   0   0   0   0   0   0   0   0   0   0   0   0   0   0   0   0\n",
      "    0   0   0   0   0   0   0   0   0   0   0   0   0   0   0   0   0   0\n",
      "    0   0   0   0   0   0   0   0   0   0   0   0   0   0   0   0   0   0\n",
      "    0   0   0   0   0   0   0   0   0   0   0   0   0   0   0   0   0   0\n",
      "    0   0   0   0   0   0   0   0   0   0   0   0   0   0   0   0   0   0\n",
      "    0   0   0   0   0   0   0   0   0   0   0   0   0   0   0   0   0   0\n",
      "    0   0   0   0   0   0   0   0   0   0   0   0   0   0   0   0   0   0\n",
      "   94 395  99 432 330 439 290 266  14 468 318 486 360 285 292 470 208 245\n",
      "  378 233  37 416 130  99 432 290 473 255   9 167  81 149  42 499  99 148\n",
      "  253  89  99 470 419 258 246   3 256  99 330 190   9  51 190 267  81 489\n",
      "   25  25   9  50 337  24 462 124 277 491 432 253 129  89 372 333 414 212\n",
      "  126   9  99 330 190 290  65  23 473 335  24 486 378  51 462 461  81 150\n",
      "  337 297 402  54 252 437 169 179  65 194  50 344 252 360 340 452 281 330\n",
      "  190 185 309  43 168 150  10 188 422  52 419 233 422 297  24 203 185  40\n",
      "   36 252 213 422 331 344 461  23  87  65 366 252  95 308 203 319 155 423\n",
      "  261 402 222 463 423 381 463 374 240 150 427  91  67  65 359  81 227 167\n",
      "  344 169 491 268 350 190  81 433  56 489 239 463 129 463 209 340 253  22\n",
      "  318 150  10  67 217 405  48 110 342 181 136 456  81 445  61 299 331 462\n",
      "  145 150 437 462 277   9 195 203  20  81  79 152  40 499 420  17 431 344\n",
      "  429  15 373  81 257  65  23 250  79  50 461 476  23 442  49 243 170 368\n",
      "  307 432 425 436 419 258 406 165 387 266  41  99 425 267 365  51 277 491\n",
      "  253 288 359 258 432 295 258 295 231 140 463 258 416  14 428  23 130 432\n",
      "  357 183 158 432 337 290 473 255 267  81  62 269 188   4 234 486 158 114\n",
      "  183 281 447 468   4 242  62 397 317 266]]\n"
     ]
    }
   ],
   "source": [
    "# test\n",
    "messages=X_test[0:1].copy()\n",
    "messages.reset_index(inplace=True)\n",
    "\n",
    "ps_title =PorterStemmer()\n",
    "ps_text =PorterStemmer()\n",
    "corpus_title = []\n",
    "corpus_text = []\n",
    "\n",
    "for i in range(0, len(messages)):\n",
    "    print(\"Status: %s / %s\" %(i, len(messages)), end=\"\\r\")\n",
    "    \n",
    "    #preproc title\n",
    "    review = re.sub('[^a-zA-Z]', ' ',messages['title'][i])\n",
    "    review = review.lower()\n",
    "    review = review.split()\n",
    "    \n",
    "    review = [ps_title.stem(word) for word in review if not word in stopwords.words('english')]\n",
    "    review = ' '.join(review)\n",
    "    corpus_title.append(review)\n",
    "    \n",
    "    #preproc text\n",
    "    review = re.sub('[^a-zA-Z]', ' ',messages['text'][i])\n",
    "    review = review.lower()\n",
    "    review = review.split()\n",
    "    \n",
    "    review = [ps_text.stem(word) for word in review if not word in stopwords.words('english')]\n",
    "    review = ' '.join(review)\n",
    "    corpus_text.append(review)\n",
    "\n",
    "onehot_rep_title = [one_hot(words, vo_size) for words in corpus_title]\n",
    "onehot_rep_text = [one_hot(words, vo_size) for words in corpus_text]\n",
    "\n",
    "sent_length_title = 20\n",
    "sent_length_text = 1000\n",
    "embedded_doc_title=pad_sequences(onehot_rep_title, padding='pre', maxlen=sent_length_title)\n",
    "embedded_doc_text=pad_sequences(onehot_rep_text, padding='pre', maxlen=sent_length_text)\n",
    "\n",
    "X_final_title=np.array(embedded_doc_title)\n",
    "X_final_text=np.array(embedded_doc_text)\n",
    "print(X_final_title)\n",
    "print(X_final_text)\n",
    "\n"
   ]
  },
  {
   "cell_type": "code",
   "execution_count": null,
   "metadata": {},
   "outputs": [],
   "source": []
  }
 ],
 "metadata": {
  "colab": {
   "name": "proj_final.ipynb",
   "provenance": []
  },
  "kernelspec": {
   "display_name": "Python 3 (ipykernel)",
   "language": "python",
   "name": "python3"
  },
  "language_info": {
   "codemirror_mode": {
    "name": "ipython",
    "version": 3
   },
   "file_extension": ".py",
   "mimetype": "text/x-python",
   "name": "python",
   "nbconvert_exporter": "python",
   "pygments_lexer": "ipython3",
   "version": "3.8.12"
  }
 },
 "nbformat": 4,
 "nbformat_minor": 1
}
