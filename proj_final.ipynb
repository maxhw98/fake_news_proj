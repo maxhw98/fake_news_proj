{
 "cells": [
  {
   "cell_type": "code",
   "execution_count": 1,
   "metadata": {
    "colab": {
     "base_uri": "https://localhost:8080/"
    },
    "id": "3WfHAhqAPnmD",
    "outputId": "ceb63f97-14ff-4918-c661-9639e402c735"
   },
   "outputs": [],
   "source": [
    "import pandas as pd\n",
    "import numpy as np\n",
    "\n",
    "from tensorflow.keras.preprocessing.sequence import pad_sequences\n",
    "from tensorflow.keras.preprocessing.text import one_hot\n",
    "\n",
    "from tensorflow.keras.layers import Dense, LSTM, Input,GlobalMaxPool1D,Dropout\n",
    "from keras.utils.vis_utils import plot_model\n",
    "from tensorflow.keras.layers import Embedding, Input,GlobalMaxPool1D,Dropout,concatenate\n",
    "from tensorflow.keras.models import Model, Sequential\n",
    "\n",
    "import nltk\n",
    "import re\n",
    "from nltk.corpus import stopwords\n",
    "from nltk.stem.porter import PorterStemmer\n",
    "\n",
    "from sklearn.model_selection import train_test_split\n",
    "from sklearn.metrics import accuracy_score, confusion_matrix, f1_score, roc_auc_score"
   ]
  },
  {
   "cell_type": "code",
   "execution_count": 117,
   "metadata": {},
   "outputs": [],
   "source": [
    "# print(\"Num GPUs Available: \", len(tf.config.list_physical_devices('GPU')))"
   ]
  },
  {
   "cell_type": "code",
   "execution_count": 2,
   "metadata": {
    "colab": {
     "base_uri": "https://localhost:8080/"
    },
    "id": "PpzydiiLQAca",
    "outputId": "d97b01f7-e6e1-416f-b961-79651001387a"
   },
   "outputs": [
    {
     "name": "stderr",
     "output_type": "stream",
     "text": [
      "[nltk_data] Downloading package stopwords to /Users/max/nltk_data...\n",
      "[nltk_data]   Package stopwords is already up-to-date!\n"
     ]
    },
    {
     "data": {
      "text/plain": [
       "True"
      ]
     },
     "execution_count": 2,
     "metadata": {},
     "output_type": "execute_result"
    }
   ],
   "source": [
    "nltk.download('stopwords')"
   ]
  },
  {
   "cell_type": "code",
   "execution_count": null,
   "metadata": {},
   "outputs": [],
   "source": [
    "# 20,000 news articles"
   ]
  },
  {
   "cell_type": "code",
   "execution_count": 183,
   "metadata": {
    "colab": {
     "base_uri": "https://localhost:8080/",
     "height": 206
    },
    "id": "GdSt_YZFQBp_",
    "outputId": "d1860107-4934-43c7-cd33-52916412dd45"
   },
   "outputs": [
    {
     "data": {
      "text/html": [
       "<div>\n",
       "<style scoped>\n",
       "    .dataframe tbody tr th:only-of-type {\n",
       "        vertical-align: middle;\n",
       "    }\n",
       "\n",
       "    .dataframe tbody tr th {\n",
       "        vertical-align: top;\n",
       "    }\n",
       "\n",
       "    .dataframe thead th {\n",
       "        text-align: right;\n",
       "    }\n",
       "</style>\n",
       "<table border=\"1\" class=\"dataframe\">\n",
       "  <thead>\n",
       "    <tr style=\"text-align: right;\">\n",
       "      <th></th>\n",
       "      <th>id</th>\n",
       "      <th>title</th>\n",
       "      <th>author</th>\n",
       "      <th>text</th>\n",
       "      <th>label</th>\n",
       "    </tr>\n",
       "  </thead>\n",
       "  <tbody>\n",
       "    <tr>\n",
       "      <th>0</th>\n",
       "      <td>0</td>\n",
       "      <td>House Dem Aide: We Didn’t Even See Comey’s Let...</td>\n",
       "      <td>Darrell Lucus</td>\n",
       "      <td>House Dem Aide: We Didn’t Even See Comey’s Let...</td>\n",
       "      <td>1</td>\n",
       "    </tr>\n",
       "    <tr>\n",
       "      <th>1</th>\n",
       "      <td>1</td>\n",
       "      <td>FLYNN: Hillary Clinton, Big Woman on Campus - ...</td>\n",
       "      <td>Daniel J. Flynn</td>\n",
       "      <td>Ever get the feeling your life circles the rou...</td>\n",
       "      <td>0</td>\n",
       "    </tr>\n",
       "    <tr>\n",
       "      <th>2</th>\n",
       "      <td>2</td>\n",
       "      <td>Why the Truth Might Get You Fired</td>\n",
       "      <td>Consortiumnews.com</td>\n",
       "      <td>Why the Truth Might Get You Fired October 29, ...</td>\n",
       "      <td>1</td>\n",
       "    </tr>\n",
       "    <tr>\n",
       "      <th>3</th>\n",
       "      <td>3</td>\n",
       "      <td>15 Civilians Killed In Single US Airstrike Hav...</td>\n",
       "      <td>Jessica Purkiss</td>\n",
       "      <td>Videos 15 Civilians Killed In Single US Airstr...</td>\n",
       "      <td>1</td>\n",
       "    </tr>\n",
       "    <tr>\n",
       "      <th>4</th>\n",
       "      <td>4</td>\n",
       "      <td>Iranian woman jailed for fictional unpublished...</td>\n",
       "      <td>Howard Portnoy</td>\n",
       "      <td>Print \\nAn Iranian woman has been sentenced to...</td>\n",
       "      <td>1</td>\n",
       "    </tr>\n",
       "  </tbody>\n",
       "</table>\n",
       "</div>"
      ],
      "text/plain": [
       "   id                                              title              author  \\\n",
       "0   0  House Dem Aide: We Didn’t Even See Comey’s Let...       Darrell Lucus   \n",
       "1   1  FLYNN: Hillary Clinton, Big Woman on Campus - ...     Daniel J. Flynn   \n",
       "2   2                  Why the Truth Might Get You Fired  Consortiumnews.com   \n",
       "3   3  15 Civilians Killed In Single US Airstrike Hav...     Jessica Purkiss   \n",
       "4   4  Iranian woman jailed for fictional unpublished...      Howard Portnoy   \n",
       "\n",
       "                                                text  label  \n",
       "0  House Dem Aide: We Didn’t Even See Comey’s Let...      1  \n",
       "1  Ever get the feeling your life circles the rou...      0  \n",
       "2  Why the Truth Might Get You Fired October 29, ...      1  \n",
       "3  Videos 15 Civilians Killed In Single US Airstr...      1  \n",
       "4  Print \\nAn Iranian woman has been sentenced to...      1  "
      ]
     },
     "execution_count": 183,
     "metadata": {},
     "output_type": "execute_result"
    }
   ],
   "source": [
    "data = pd.read_csv(\"fake_news_labelled.csv\")\n",
    "# print(data.shape)\n",
    "data.head()"
   ]
  },
  {
   "cell_type": "code",
   "execution_count": 5,
   "metadata": {
    "id": "m7M9JSz_RDN6"
   },
   "outputs": [],
   "source": [
    "# drop nulls, keep only title, text and labels\n",
    "data = data[['title', \"text\",\"label\"]].dropna()"
   ]
  },
  {
   "cell_type": "code",
   "execution_count": 6,
   "metadata": {
    "colab": {
     "base_uri": "https://localhost:8080/",
     "height": 363
    },
    "id": "XF7yUTcQRSia",
    "outputId": "eaf010c8-b4d7-4bcb-a78e-54aa6aaad576"
   },
   "outputs": [
    {
     "data": {
      "text/html": [
       "<div>\n",
       "<style scoped>\n",
       "    .dataframe tbody tr th:only-of-type {\n",
       "        vertical-align: middle;\n",
       "    }\n",
       "\n",
       "    .dataframe tbody tr th {\n",
       "        vertical-align: top;\n",
       "    }\n",
       "\n",
       "    .dataframe thead th {\n",
       "        text-align: right;\n",
       "    }\n",
       "</style>\n",
       "<table border=\"1\" class=\"dataframe\">\n",
       "  <thead>\n",
       "    <tr style=\"text-align: right;\">\n",
       "      <th></th>\n",
       "      <th>title</th>\n",
       "      <th>text</th>\n",
       "      <th>label</th>\n",
       "    </tr>\n",
       "  </thead>\n",
       "  <tbody>\n",
       "    <tr>\n",
       "      <th>0</th>\n",
       "      <td>House Dem Aide: We Didn’t Even See Comey’s Let...</td>\n",
       "      <td>House Dem Aide: We Didn’t Even See Comey’s Let...</td>\n",
       "      <td>1</td>\n",
       "    </tr>\n",
       "    <tr>\n",
       "      <th>2</th>\n",
       "      <td>Why the Truth Might Get You Fired</td>\n",
       "      <td>Why the Truth Might Get You Fired October 29, ...</td>\n",
       "      <td>1</td>\n",
       "    </tr>\n",
       "    <tr>\n",
       "      <th>3</th>\n",
       "      <td>15 Civilians Killed In Single US Airstrike Hav...</td>\n",
       "      <td>Videos 15 Civilians Killed In Single US Airstr...</td>\n",
       "      <td>1</td>\n",
       "    </tr>\n",
       "    <tr>\n",
       "      <th>4</th>\n",
       "      <td>Iranian woman jailed for fictional unpublished...</td>\n",
       "      <td>Print \\nAn Iranian woman has been sentenced to...</td>\n",
       "      <td>1</td>\n",
       "    </tr>\n",
       "    <tr>\n",
       "      <th>6</th>\n",
       "      <td>Life: Life Of Luxury: Elton John’s 6 Favorite ...</td>\n",
       "      <td>Ever wonder how Britain’s most iconic pop pian...</td>\n",
       "      <td>1</td>\n",
       "    </tr>\n",
       "    <tr>\n",
       "      <th>12</th>\n",
       "      <td>Russian Researchers Discover Secret Nazi Milit...</td>\n",
       "      <td>The mystery surrounding The Third Reich and Na...</td>\n",
       "      <td>1</td>\n",
       "    </tr>\n",
       "    <tr>\n",
       "      <th>13</th>\n",
       "      <td>US Officials See No Link Between Trump and Russia</td>\n",
       "      <td>Clinton Campaign Demands FBI Affirm Trump's Ru...</td>\n",
       "      <td>1</td>\n",
       "    </tr>\n",
       "    <tr>\n",
       "      <th>14</th>\n",
       "      <td>Re: Yes, There Are Paid Government Trolls On S...</td>\n",
       "      <td>Yes, There Are Paid Government Trolls On Socia...</td>\n",
       "      <td>1</td>\n",
       "    </tr>\n",
       "    <tr>\n",
       "      <th>17</th>\n",
       "      <td>Anonymous Donor Pays $2.5 Million To Release E...</td>\n",
       "      <td>A Caddo Nation tribal leader has just been fre...</td>\n",
       "      <td>1</td>\n",
       "    </tr>\n",
       "    <tr>\n",
       "      <th>18</th>\n",
       "      <td>FBI Closes In On Hillary!</td>\n",
       "      <td>FBI Closes In On Hillary! Posted on Home » Hea...</td>\n",
       "      <td>1</td>\n",
       "    </tr>\n",
       "  </tbody>\n",
       "</table>\n",
       "</div>"
      ],
      "text/plain": [
       "                                                title  \\\n",
       "0   House Dem Aide: We Didn’t Even See Comey’s Let...   \n",
       "2                   Why the Truth Might Get You Fired   \n",
       "3   15 Civilians Killed In Single US Airstrike Hav...   \n",
       "4   Iranian woman jailed for fictional unpublished...   \n",
       "6   Life: Life Of Luxury: Elton John’s 6 Favorite ...   \n",
       "12  Russian Researchers Discover Secret Nazi Milit...   \n",
       "13  US Officials See No Link Between Trump and Russia   \n",
       "14  Re: Yes, There Are Paid Government Trolls On S...   \n",
       "17  Anonymous Donor Pays $2.5 Million To Release E...   \n",
       "18                          FBI Closes In On Hillary!   \n",
       "\n",
       "                                                 text  label  \n",
       "0   House Dem Aide: We Didn’t Even See Comey’s Let...      1  \n",
       "2   Why the Truth Might Get You Fired October 29, ...      1  \n",
       "3   Videos 15 Civilians Killed In Single US Airstr...      1  \n",
       "4   Print \\nAn Iranian woman has been sentenced to...      1  \n",
       "6   Ever wonder how Britain’s most iconic pop pian...      1  \n",
       "12  The mystery surrounding The Third Reich and Na...      1  \n",
       "13  Clinton Campaign Demands FBI Affirm Trump's Ru...      1  \n",
       "14  Yes, There Are Paid Government Trolls On Socia...      1  \n",
       "17  A Caddo Nation tribal leader has just been fre...      1  \n",
       "18  FBI Closes In On Hillary! Posted on Home » Hea...      1  "
      ]
     },
     "execution_count": 6,
     "metadata": {},
     "output_type": "execute_result"
    }
   ],
   "source": [
    "# 10 articles labelled fake news\n",
    "data[data.label==1][:10]"
   ]
  },
  {
   "cell_type": "code",
   "execution_count": 7,
   "metadata": {
    "colab": {
     "base_uri": "https://localhost:8080/",
     "height": 363
    },
    "id": "BdDa61tNR_Q8",
    "outputId": "d15e9256-fd1b-4d98-aff4-872bee82a0d5",
    "scrolled": false
   },
   "outputs": [
    {
     "data": {
      "text/html": [
       "<div>\n",
       "<style scoped>\n",
       "    .dataframe tbody tr th:only-of-type {\n",
       "        vertical-align: middle;\n",
       "    }\n",
       "\n",
       "    .dataframe tbody tr th {\n",
       "        vertical-align: top;\n",
       "    }\n",
       "\n",
       "    .dataframe thead th {\n",
       "        text-align: right;\n",
       "    }\n",
       "</style>\n",
       "<table border=\"1\" class=\"dataframe\">\n",
       "  <thead>\n",
       "    <tr style=\"text-align: right;\">\n",
       "      <th></th>\n",
       "      <th>title</th>\n",
       "      <th>text</th>\n",
       "      <th>label</th>\n",
       "    </tr>\n",
       "  </thead>\n",
       "  <tbody>\n",
       "    <tr>\n",
       "      <th>1</th>\n",
       "      <td>FLYNN: Hillary Clinton, Big Woman on Campus - ...</td>\n",
       "      <td>Ever get the feeling your life circles the rou...</td>\n",
       "      <td>0</td>\n",
       "    </tr>\n",
       "    <tr>\n",
       "      <th>5</th>\n",
       "      <td>Jackie Mason: Hollywood Would Love Trump if He...</td>\n",
       "      <td>In these trying times, Jackie Mason is the Voi...</td>\n",
       "      <td>0</td>\n",
       "    </tr>\n",
       "    <tr>\n",
       "      <th>7</th>\n",
       "      <td>Benoît Hamon Wins French Socialist Party’s Pre...</td>\n",
       "      <td>PARIS  —   France chose an idealistic, traditi...</td>\n",
       "      <td>0</td>\n",
       "    </tr>\n",
       "    <tr>\n",
       "      <th>8</th>\n",
       "      <td>Excerpts From a Draft Script for Donald Trump’...</td>\n",
       "      <td>Donald J. Trump is scheduled to make a highly ...</td>\n",
       "      <td>0</td>\n",
       "    </tr>\n",
       "    <tr>\n",
       "      <th>9</th>\n",
       "      <td>A Back-Channel Plan for Ukraine and Russia, Co...</td>\n",
       "      <td>A week before Michael T. Flynn resigned as nat...</td>\n",
       "      <td>0</td>\n",
       "    </tr>\n",
       "    <tr>\n",
       "      <th>10</th>\n",
       "      <td>Obama’s Organizing for Action Partners with So...</td>\n",
       "      <td>Organizing for Action, the activist group that...</td>\n",
       "      <td>0</td>\n",
       "    </tr>\n",
       "    <tr>\n",
       "      <th>11</th>\n",
       "      <td>BBC Comedy Sketch \"Real Housewives of ISIS\" Ca...</td>\n",
       "      <td>The BBC produced spoof on the “Real Housewives...</td>\n",
       "      <td>0</td>\n",
       "    </tr>\n",
       "    <tr>\n",
       "      <th>15</th>\n",
       "      <td>In Major League Soccer, Argentines Find a Home...</td>\n",
       "      <td>Guillermo Barros Schelotto was not the first A...</td>\n",
       "      <td>0</td>\n",
       "    </tr>\n",
       "    <tr>\n",
       "      <th>16</th>\n",
       "      <td>Wells Fargo Chief Abruptly Steps Down - The Ne...</td>\n",
       "      <td>The scandal engulfing Wells Fargo toppled its ...</td>\n",
       "      <td>0</td>\n",
       "    </tr>\n",
       "    <tr>\n",
       "      <th>19</th>\n",
       "      <td>Chuck Todd: ’BuzzFeed Did Donald Trump a Polit...</td>\n",
       "      <td>Wednesday after   Donald Trump’s press confere...</td>\n",
       "      <td>0</td>\n",
       "    </tr>\n",
       "  </tbody>\n",
       "</table>\n",
       "</div>"
      ],
      "text/plain": [
       "                                                title  \\\n",
       "1   FLYNN: Hillary Clinton, Big Woman on Campus - ...   \n",
       "5   Jackie Mason: Hollywood Would Love Trump if He...   \n",
       "7   Benoît Hamon Wins French Socialist Party’s Pre...   \n",
       "8   Excerpts From a Draft Script for Donald Trump’...   \n",
       "9   A Back-Channel Plan for Ukraine and Russia, Co...   \n",
       "10  Obama’s Organizing for Action Partners with So...   \n",
       "11  BBC Comedy Sketch \"Real Housewives of ISIS\" Ca...   \n",
       "15  In Major League Soccer, Argentines Find a Home...   \n",
       "16  Wells Fargo Chief Abruptly Steps Down - The Ne...   \n",
       "19  Chuck Todd: ’BuzzFeed Did Donald Trump a Polit...   \n",
       "\n",
       "                                                 text  label  \n",
       "1   Ever get the feeling your life circles the rou...      0  \n",
       "5   In these trying times, Jackie Mason is the Voi...      0  \n",
       "7   PARIS  —   France chose an idealistic, traditi...      0  \n",
       "8   Donald J. Trump is scheduled to make a highly ...      0  \n",
       "9   A week before Michael T. Flynn resigned as nat...      0  \n",
       "10  Organizing for Action, the activist group that...      0  \n",
       "11  The BBC produced spoof on the “Real Housewives...      0  \n",
       "15  Guillermo Barros Schelotto was not the first A...      0  \n",
       "16  The scandal engulfing Wells Fargo toppled its ...      0  \n",
       "19  Wednesday after   Donald Trump’s press confere...      0  "
      ]
     },
     "execution_count": 7,
     "metadata": {},
     "output_type": "execute_result"
    }
   ],
   "source": [
    "# 10 articles labelled credible\n",
    "data[data.label==0][:10]"
   ]
  },
  {
   "cell_type": "code",
   "execution_count": 289,
   "metadata": {},
   "outputs": [
    {
     "data": {
      "text/plain": [
       "0    8331\n",
       "1    7831\n",
       "Name: label, dtype: int64"
      ]
     },
     "execution_count": 289,
     "metadata": {},
     "output_type": "execute_result"
    }
   ],
   "source": [
    "y_train.value_counts()"
   ]
  },
  {
   "cell_type": "code",
   "execution_count": 290,
   "metadata": {},
   "outputs": [
    {
     "data": {
      "text/plain": [
       "0    2056\n",
       "1    1985\n",
       "Name: label, dtype: int64"
      ]
     },
     "execution_count": 290,
     "metadata": {},
     "output_type": "execute_result"
    }
   ],
   "source": [
    "y_test.value_counts()"
   ]
  },
  {
   "cell_type": "code",
   "execution_count": 30,
   "metadata": {
    "id": "AfL1K88_SBMZ"
   },
   "outputs": [],
   "source": [
    "X = data.drop('label',axis=1)\n",
    "y = data['label']\n",
    "\n",
    "X_train, X_test, y_train, y_test = train_test_split(X, y, test_size=0.2, random_state=53421)"
   ]
  },
  {
   "cell_type": "code",
   "execution_count": 283,
   "metadata": {},
   "outputs": [
    {
     "data": {
      "text/html": [
       "<div>\n",
       "<style scoped>\n",
       "    .dataframe tbody tr th:only-of-type {\n",
       "        vertical-align: middle;\n",
       "    }\n",
       "\n",
       "    .dataframe tbody tr th {\n",
       "        vertical-align: top;\n",
       "    }\n",
       "\n",
       "    .dataframe thead th {\n",
       "        text-align: right;\n",
       "    }\n",
       "</style>\n",
       "<table border=\"1\" class=\"dataframe\">\n",
       "  <thead>\n",
       "    <tr style=\"text-align: right;\">\n",
       "      <th></th>\n",
       "      <th>title</th>\n",
       "      <th>text</th>\n",
       "    </tr>\n",
       "  </thead>\n",
       "  <tbody>\n",
       "    <tr>\n",
       "      <th>19487</th>\n",
       "      <td>Why Do Health Costs Keep Rising? These People ...</td>\n",
       "      <td>DANVILLE, Pa.  —   The Geisinger Health Plan, ...</td>\n",
       "    </tr>\n",
       "  </tbody>\n",
       "</table>\n",
       "</div>"
      ],
      "text/plain": [
       "                                                   title  \\\n",
       "19487  Why Do Health Costs Keep Rising? These People ...   \n",
       "\n",
       "                                                    text  \n",
       "19487  DANVILLE, Pa.  —   The Geisinger Health Plan, ...  "
      ]
     },
     "execution_count": 283,
     "metadata": {},
     "output_type": "execute_result"
    }
   ],
   "source": [
    "X_test[2:3]"
   ]
  },
  {
   "cell_type": "code",
   "execution_count": 287,
   "metadata": {},
   "outputs": [
    {
     "data": {
      "text/plain": [
       "'Why Do Health Costs Keep Rising? These People Know - The New York Times'"
      ]
     },
     "execution_count": 287,
     "metadata": {},
     "output_type": "execute_result"
    }
   ],
   "source": [
    "X_test[2:3]['title'][19487]"
   ]
  },
  {
   "cell_type": "code",
   "execution_count": 288,
   "metadata": {},
   "outputs": [
    {
     "data": {
      "text/plain": [
       "'DANVILLE, Pa.  —   The Geisinger Health Plan, run by one of the nation’s   health care organizations, foresees medical costs increasing next year by 7. 5 percent for people buying insurance under the Affordable Care Act. So when Geisinger requested a rate increase of 40 percent for 2017, consumer advocates were amazed. And Kurt J. Wrobel, Geisinger’s chief actuary, found himself, along with other members of his profession, in the middle of the health care wars still raging in this political year. Actuaries normally toil far from the limelight, anonymous technicians stereotyped as dull and boring. But as they crunch the numbers for their Affordable Care Act business, their calculations are feeding a roaring national debate over insurance premiums, widely used to gauge the success of President Obama’s health care law. Health plans around the country have just filed proposed rates for 2017. State insurance commissioners are still reviewing them. But questions about the proposed increases are reverberating through the health care system and into the political campaign. “Historical experience is the lifeblood of what we do,” Mr. Wrobel said, in an interview at Geisinger’s headquarters here. “We take that experience, adjust it for the underlying growth of health costs and project it into the future so we can estimate the expected costs for a particular insurance policy. ” Such niceties may be lost in this scorching campaign season. “There is panic and anger as health care costs explode!” Donald J. Trump, the presumptive Republican presidential nominee, wrote in a recent Twitter post, seizing on increases of nearly 60 percent sought by Blue Cross and Blue Shield of Texas. Obama administration officials are more sanguine. Consumers, they say, should not worry. Proposed rate increases are often reduced by state officials. Federal subsidies will generally rise along with premiums, offsetting much of the additional costs, and consumers can, in any event, switch to cheaper health plans next year. But as they prepare for the fourth year of coverage under the Affordable Care Act, many insurers are struggling to find the best ways of providing care to their new customers. The giant UnitedHealth Group, having lost money on individual policies under the federal health law, is pulling out of many insurance exchanges next year. A number of health insurance cooperatives created under the law have shut down. Geisinger is different. During debate on the 2010 health care law, Mr. Obama and members of Congress repeatedly hailed it as a model providing “  care at costs well below average,” in the president’s words. Geisinger serves residents of rural central and northeast Pennsylvania, and its roots in the community are as deep as the coal mines that once flourished here. Dr. David T. Feinberg, the president and chief executive of the Geisinger Health System, said its health plan was losing $30 million a year on coverage sold on the federal exchange in Pennsylvania. But leaving the market here would be unthinkable. “For its shareholders, United made the right decision,” Dr. Feinberg said, “but we don’t answer to shareholders. We answer to the nice people of Danville, Shamokin and Bloomsburg. ” It would be difficult to find a health plan more aligned with the goals of the federal law. The Obama administration recruited a former chief executive of the Geisinger Health Plan, Dr. Richard J. Gilfillan, to be the first director of the Center for Medicare and Medicaid Innovation, created by the health law to test ways to improve care and cut costs. Geisinger has been a pioneer in the use of electronic health records and genomic medicine, recruiting 100, 000 patients for DNA sequencing studies in the last two years. It has embraced “pay for performance,” offering a warranty for major surgical procedures and promising not to charge extra if complications occur. But innovation has been no match for the actuarial surprises dealt out by the Affordable Care Act. Mr. Wrobel said Geisinger had simply underestimated how much care its new customers would need. “Our rates for Medicare, Medicaid and   insurance have been relatively stable, but those products have to bear the cost of our losses on exchange business,” Mr. Wrobel said. Last October the Pennsylvania Insurance Department, headed by a former Obama administration official, approved a 20 percent increase in Geisinger’s rates, about half of what the company had requested. “But based on experience,” Mr. Wrobel said, “the 2016 premium rate is too low, so we want to correct it in 2017. ” Julia T. Philips, an   actuary who worked 19 years for the state of Minnesota, said insurance regulators generally do not let a company make up for past losses with future rate increases. “But regulators often allow companies to catch up,” she said. “If you assumed that claims would average $400 per member per month in 2015 and the actual cost was $440, you can use the higher number as a starting point in predicting claims costs for 2017. ” Obama administration officials suggest that insurance companies seeking big rate increases have been slow to adapt to the new law. But Geisinger executives welcome innovation, and they have celebrated the reduction in the number of uninsured under the Affordable Care Act. Geisinger is not alone. The Pennsylvania Insurance Department says insurers have proposed premium increases averaging 23. 6 percent for individual coverage for 2017. “People with   conditions are now getting treatment,” said Antoinette Kraus, the director of a statewide consumer group, the Pennsylvania Health Access Network, “and it’s more expensive because they were shut out of the market for many years. ” But, she added, “we expect that they’ll eventually become healthier, so we won’t see these huge rate increases every year. ” Kevin J. Counihan, the chief executive of the federal insurance marketplace, acknowledged that “  demand for health care is greater than people expected and is lasting longer than expected. ” In April, before most insurers had filed their rate requests for 2017, the Obama administration began a campaign to play down their significance. “Proposed rates aren’t what consumers pay,” the Department of Health and Human Services said. “Most people receive tax credits and can buy a plan for less than $75 per month. ” Moreover, the administration says that the health law created a competitive market in which consumers can shop for the best deal. As evidence that this market is working, the administration boasts that more than 40 percent of returning consumers switched to different plans for 2016. However, Mr. Wrobel said, such turnover is making it more difficult for insurers to predict costs. “The whole point of what we do, the foundation of good health insurance,” he said, “is to develop   relationships with our members and to make   investments in their health. It’s not like buying a book on Amazon. ” Besides, he said, substantial numbers of consumers do not receive subsidies. The Congressional Budget Office estimates that 12 million people will receive subsidies, in the form of tax credits, next year. But it says that an equal number  —   three million on the exchanges and nine million buying insurance outside the exchanges  —   will have to pay the full unsubsidized price. “When we developed rates for 2014,” Mr. Wrobel said, “we had no historical data. It was basically an educated guess. ” Mr. Wrobel said rates were still being affected by a federal policy, adopted in late 2013, that allowed some people to keep and renew insurance that did not meet standards in the Affordable Care Act. “Healthier people chose to keep their plans,” he said, “so the collective cost of care for people buying insurance on the exchange was higher than expected. ” Many insurers hope to profit from the Affordable Care Act, but for Geisinger, the calculus is a little different. “Geisinger has been here for 100 years, and we expect to be here another hundred,” Mr. Wrobel said. “We are going to be taking care of the people in this community one way or another. So it’s really important for this program to be financially stable and sustainable. ”'"
      ]
     },
     "execution_count": 288,
     "metadata": {},
     "output_type": "execute_result"
    }
   ],
   "source": [
    "X_test[2:3]['text'][19487]"
   ]
  },
  {
   "cell_type": "code",
   "execution_count": 282,
   "metadata": {},
   "outputs": [
    {
     "data": {
      "text/plain": [
       "[array([[  0,   0,   0,   0,   0,   0,   0,   0,   0,   0,   0,  22, 179,\n",
       "           8, 262, 140, 323, 404, 351, 233]], dtype=int32),\n",
       " array([[  0,   0,   0,   0,   0,   0,   0,   0,   0,   0,   0,   0,   0,\n",
       "           0,   0,   0,   0,   0,   0,   0,   0,   0,   0,   0,   0,   0,\n",
       "           0,   0,   0,   0,   0,   0,   0,   0,   0,   0,   0,   0,   0,\n",
       "           0,   0,   0,   0,   0,   0,   0,   0,   0,   0,   0,   0,   0,\n",
       "           0,   0,   0,   0,   0,   0,   0,   0,   0,   0,   0,   0,   0,\n",
       "           0,   0,   0,   0,   0,   0,   0,   0,   0,   0,   0,   0,   0,\n",
       "           0,   0,   0,   0,   0,   0,   0,   0,   0,   0,   0,   0,   0,\n",
       "           0,   0,   0,   0,   0,   0,   0,   0,   0,   0,   0,   0,   0,\n",
       "           0,   0,   0,   0,   0,   0,   0,   0,   0,   0,   0,   0,   0,\n",
       "           0,   0,   0,   0,   0,   0,   0,   0,   0,   0,   0,   0,   0,\n",
       "           0,   0,   0,   0,   0,   0,   0,   0,   0,   0,   0,   0,   0,\n",
       "           0,   0,   0,   0,   0,   0,   0,   0,   0,   0,   0,   0,   0,\n",
       "           0,   0,   0,   0,   0,   0,   0,   0,   0,   0,   0,   0,   0,\n",
       "           0,   0,   0,   0,   0,   0,   0,   0,   0,   0,   0,   0,   0,\n",
       "           0,   0,   0,   0,   0,   0,   0,   0,   0,   0,   0,   0,   0,\n",
       "           0,   0,   0,   0,   0,   0,   0,   0,   0,   0,   0,   0,   0,\n",
       "           0,   0,   0,   0,   0,   0,   0,   0,   0,   0,   0,   0,   0,\n",
       "           0,   0,   0,   0,   0,   0,   0,   0,   0,   0,   0,   0,   0,\n",
       "           0,   0,   0,   0,   0,   0,   0,   0, 472, 222,   8,  22, 398,\n",
       "         130, 449, 326,  22, 413, 349, 224, 124, 179,  12, 323, 344,  17,\n",
       "         140,  38, 242, 112, 413, 418,   8, 372, 105,  12,  17, 106, 235,\n",
       "         493, 112, 462, 460,   8, 163, 465, 307, 487, 360,   3, 205,  22,\n",
       "         413,  73, 412, 136, 307, 344, 465, 201, 413, 329, 239, 285, 115,\n",
       "         123,  79, 366, 309, 149, 112, 413, 418,  10, 116, 278, 154, 326,\n",
       "          54, 242,  42, 392,  48, 433, 415,  99, 432,  22, 413, 333,  22,\n",
       "         398, 164, 491,  51, 174, 105, 129, 242, 320, 412, 397, 102, 174,\n",
       "          12, 458,  22, 413,   4, 307, 325,  53, 476,  48, 404, 460, 493,\n",
       "           4,   8, 267, 321, 476,  78, 234, 237,  22, 179, 109,  35, 396,\n",
       "         464, 179,  20, 242, 384, 198,  71, 382, 436, 325,  35, 272,   6,\n",
       "          22, 413, 179, 437, 419, 462, 258, 345, 244, 274, 171, 310, 449,\n",
       "         415,  39,  49,  12, 250,  17, 476,  59, 170,  59, 426, 203, 432,\n",
       "         265, 198,  39, 106, 406, 288, 174, 105,  12, 493, 366, 129, 198,\n",
       "          75, 248, 341, 262, 487,  42, 360, 256, 254, 179, 106, 364, 472,\n",
       "         499,  22, 398, 323, 344, 347, 399, 344, 365, 112, 413, 418, 247,\n",
       "         242,  17, 260, 483,  52, 491, 413, 404, 272,  58, 363, 476, 382,\n",
       "         338, 362, 384,  75,  22, 333, 263, 247, 242, 234, 323, 344, 149,\n",
       "          22, 242, 137, 123, 333, 290,   8, 490,  54,  22, 413, 333, 404,\n",
       "         432, 360, 169, 174, 182, 281, 491, 413, 179,  62, 302,  99, 378,\n",
       "           8,  70, 423, 285, 425, 247, 196, 240, 242, 323, 409,   5, 338,\n",
       "         114, 274, 451,  99, 163, 443,   8,  22,   4, 493,  22, 398,  67,\n",
       "         288, 344, 365, 292,  75, 234, 196, 317, 326, 425, 298, 341,  28,\n",
       "          37,  50, 477, 114, 451, 493, 141, 341, 141, 463, 140, 472, 464,\n",
       "         433, 425,  89, 260,  22, 398,   2, 489,  75, 333, 432, 265,  89,\n",
       "          81, 163, 443,   8,  22, 398, 114, 319, 462, 433, 419, 370, 452,\n",
       "         387,  70, 345, 123,  22, 333, 155,  52, 140, 413, 447, 179,   8,\n",
       "         344,  48, 446,  22,  80,  94,  33,  89, 478,   8, 249, 175, 227,\n",
       "         149, 344,  58, 436, 278, 206,  40, 421, 268, 455, 355, 465, 237,\n",
       "         263, 289, 345, 201, 465, 406, 108, 112, 413, 418, 404, 460, 493,\n",
       "           8, 108, 354, 256, 413, 404, 272, 425, 260, 105, 387,  70, 242,\n",
       "         169, 281, 118, 478, 179, 341, 234,  10, 404, 460, 493, 227, 156,\n",
       "         196, 242,  99, 451,  81, 432, 265, 198, 198,  17,  12,   8, 105,\n",
       "         450, 449, 372, 278, 476, 404, 460, 493,  42, 105, 195, 114, 222,\n",
       "         130, 188, 465, 340, 344, 129, 385, 493, 242, 448, 341, 267, 449,\n",
       "         253, 310, 341,  35, 105,  12, 448, 493, 191, 449, 358, 493, 263,\n",
       "         437, 425, 302, 246, 360, 246,  42, 496, 179,  48, 369, 149, 133,\n",
       "         165, 299, 437, 179, 432, 265, 198, 451, 242, 449,  29,  29, 105,\n",
       "          12, 311, 369, 404, 333,   8, 443, 471, 345, 437, 335, 149,  37,\n",
       "         112, 413, 418,   8, 429, 196, 242,  99, 406, 242, 174,  42,  12,\n",
       "         302,  17, 362, 365, 140,  12,  55, 157, 493, 414, 272, 370, 205,\n",
       "         106, 476, 196,  22, 230,  82,  25, 290, 326, 247, 344, 367, 464,\n",
       "          35, 107, 244, 356, 211, 105,  12, 129, 344,  98, 462, 390, 163,\n",
       "         443,  75, 242, 323, 128,  12,  22, 413,  68, 140, 464, 227,   9,\n",
       "         464,  74, 242,  51, 105, 372, 432, 265, 181, 325,  58, 254, 174,\n",
       "         105, 106, 436,  99,  22, 453, 354, 493, 140, 442, 214, 442,  38,\n",
       "         398, 129, 246,  42, 438, 265, 406,  22, 333, 123, 331, 326, 106,\n",
       "         132, 483, 329,  67, 326, 340, 265, 378,  17, 190, 106, 472, 490,\n",
       "         398, 428, 404, 460, 493,  39, 253,  89, 242, 299, 179,  50, 165,\n",
       "         176, 409,  22, 242, 493, 427, 116, 360, 253, 201,  22, 468,  38,\n",
       "          34, 326, 243, 493, 325, 149, 106, 442, 248,  30, 479, 416, 396,\n",
       "         288, 140, 442, 248, 284, 214, 442, 323, 344, 406, 222, 149, 267,\n",
       "         288, 234, 302, 288,  38, 242, 164, 234, 436,   6, 288, 400, 427,\n",
       "         105, 404, 460, 493,  53, 276, 497, 454, 245, 404, 460, 493, 105,\n",
       "         412, 342,  75, 384, 478, 187, 191, 140,   8,  53, 242,  59, 349,\n",
       "         112, 413, 418, 244, 140, 443,   8, 398, 493,  15, 179, 413, 140,\n",
       "          38, 242, 234, 369, 464, 247, 242, 456, 387, 112, 413, 418,   8,\n",
       "          16,  30, 490,   8, 344, 464, 198, 143, 404, 460, 493, 397, 321,\n",
       "         413, 140, 242, 449,  52, 198, 313,  54, 335, 447, 281, 463]],\n",
       "       dtype=int32)]"
      ]
     },
     "execution_count": 282,
     "metadata": {},
     "output_type": "execute_result"
    }
   ],
   "source": [
    "# what does input look like\n",
    "process_input(health_title, health_text)"
   ]
  },
  {
   "cell_type": "code",
   "execution_count": null,
   "metadata": {
    "colab": {
     "base_uri": "https://localhost:8080/"
    },
    "id": "K66NgmFBSH9C",
    "outputId": "c01eb531-6e97-4458-e203-efef5f355cce"
   },
   "outputs": [],
   "source": [
    "vo_sizevo_size = 500\n",
    "X_train.reset_index(inplace=True)\n",
    "\n",
    "ps_title_tr = PorterStemmer()\n",
    "ps_text_tr = PorterStemmer()\n",
    "corpus_title_tr = []\n",
    "corpus_text_tr = []\n",
    "\n",
    "iters = len(X_train)\n",
    "\n",
    "for i in range(0, iters):\n",
    "    print(\"Status: %s / %s\" %(i, iters), end=\"\\r\")\n",
    "    \n",
    "    #preproc title\n",
    "    review = re.sub('[^a-zA-Z]', ' ',X_train['title'][i])\n",
    "    review = review.lower()\n",
    "    review = review.split()\n",
    "    \n",
    "    review = [ps_title_tr.stem(word) for word in review if not word in stopwords.words('english')]\n",
    "    review = ' '.join(review)\n",
    "    corpus_title_tr.append(review)\n",
    "    \n",
    "    #preproc text\n",
    "    review = re.sub('[^a-zA-Z]', ' ',X_train['text'][i])\n",
    "    review = review.lower()\n",
    "    review = review.split()\n",
    "    \n",
    "    review = [ps_text_tr.stem(word) for word in review if not word in stopwords.words('english')]\n",
    "    review = ' '.join(review)\n",
    "    corpus_text_tr.append(review)\n",
    "\n",
    "onehot_title_tr = [one_hot(words, vo_size) for words in corpus_title_tr]\n",
    "onehot_text_tr = [one_hot(words, vo_size) for words in corpus_text_tr]\n",
    "\n",
    "sent_length_title = 20\n",
    "sent_length_text = 1000\n",
    "embedded_doc_title = pad_sequences(onehot_title_tr, padding='pre', maxlen=sent_length_title)\n",
    "embedded_doc_text = pad_sequences(onehot_text_tr, padding='pre', maxlen=sent_length_text)\n",
    "\n",
    "X_train_title = np.array(embedded_doc_title)\n",
    "X_train_text = np.array(embedded_doc_text)\n",
    "print(X_train_title[0:5])\n",
    "print(X_train_text[0:5])\n",
    "\n",
    "print(X_train_title.shape)"
   ]
  },
  {
   "cell_type": "code",
   "execution_count": 136,
   "metadata": {},
   "outputs": [
    {
     "data": {
      "text/plain": [
       "18889    BREAKING – Obama Betrays America in MASSIVE Mo...\n",
       "Name: title, dtype: object"
      ]
     },
     "execution_count": 136,
     "metadata": {},
     "output_type": "execute_result"
    }
   ],
   "source": [
    "X_test[0:1]['title']"
   ]
  },
  {
   "cell_type": "code",
   "execution_count": 26,
   "metadata": {},
   "outputs": [
    {
     "name": "stdout",
     "output_type": "stream",
     "text": [
      "(0, 20) (16162,)\n",
      "(0, 1000) (16162,)\n"
     ]
    }
   ],
   "source": [
    "X_final_title=np.array(embedded_doc_title)\n",
    "X_final_text=np.array(embedded_doc_text)\n",
    "y_final=np.array(y_train)\n",
    "print(X_final_title.shape,y_final.shape)\n",
    "print(X_final_text.shape,y_final.shape)"
   ]
  },
  {
   "cell_type": "code",
   "execution_count": 230,
   "metadata": {},
   "outputs": [
    {
     "data": {
      "text/html": [
       "<div>\n",
       "<style scoped>\n",
       "    .dataframe tbody tr th:only-of-type {\n",
       "        vertical-align: middle;\n",
       "    }\n",
       "\n",
       "    .dataframe tbody tr th {\n",
       "        vertical-align: top;\n",
       "    }\n",
       "\n",
       "    .dataframe thead th {\n",
       "        text-align: right;\n",
       "    }\n",
       "</style>\n",
       "<table border=\"1\" class=\"dataframe\">\n",
       "  <thead>\n",
       "    <tr style=\"text-align: right;\">\n",
       "      <th></th>\n",
       "      <th>title</th>\n",
       "      <th>text</th>\n",
       "    </tr>\n",
       "  </thead>\n",
       "  <tbody>\n",
       "    <tr>\n",
       "      <th>18889</th>\n",
       "      <td>BREAKING – Obama Betrays America in MASSIVE Mo...</td>\n",
       "      <td>Email Print President Obama has proven he is n...</td>\n",
       "    </tr>\n",
       "    <tr>\n",
       "      <th>812</th>\n",
       "      <td>Schools All Over America Are Closing On Electi...</td>\n",
       "      <td>Schools All Over America Are Closing On Electi...</td>\n",
       "    </tr>\n",
       "    <tr>\n",
       "      <th>19487</th>\n",
       "      <td>Why Do Health Costs Keep Rising? These People ...</td>\n",
       "      <td>DANVILLE, Pa.  —   The Geisinger Health Plan, ...</td>\n",
       "    </tr>\n",
       "    <tr>\n",
       "      <th>7087</th>\n",
       "      <td>’We’re Digging Coal Again’: Trump Celebrates O...</td>\n",
       "      <td>President Donald Trump celebrated the opening ...</td>\n",
       "    </tr>\n",
       "    <tr>\n",
       "      <th>9270</th>\n",
       "      <td>Illegal Immigrant Caught at Border with Child ...</td>\n",
       "      <td>McALLEN, Texas  —   A Salvadoran national has ...</td>\n",
       "    </tr>\n",
       "    <tr>\n",
       "      <th>5086</th>\n",
       "      <td>Russia Has a Dead Nuclear Submarine (Armed Wit...</td>\n",
       "      <td>Bias bashers Russia Has a Dead Nuclear Submari...</td>\n",
       "    </tr>\n",
       "    <tr>\n",
       "      <th>6028</th>\n",
       "      <td>Man seems to think he helped out with World Wa...</td>\n",
       "      <td>Man seems to think he helped out with World Wa...</td>\n",
       "    </tr>\n",
       "  </tbody>\n",
       "</table>\n",
       "</div>"
      ],
      "text/plain": [
       "                                                   title  \\\n",
       "18889  BREAKING – Obama Betrays America in MASSIVE Mo...   \n",
       "812    Schools All Over America Are Closing On Electi...   \n",
       "19487  Why Do Health Costs Keep Rising? These People ...   \n",
       "7087   ’We’re Digging Coal Again’: Trump Celebrates O...   \n",
       "9270   Illegal Immigrant Caught at Border with Child ...   \n",
       "5086   Russia Has a Dead Nuclear Submarine (Armed Wit...   \n",
       "6028   Man seems to think he helped out with World Wa...   \n",
       "\n",
       "                                                    text  \n",
       "18889  Email Print President Obama has proven he is n...  \n",
       "812    Schools All Over America Are Closing On Electi...  \n",
       "19487  DANVILLE, Pa.  —   The Geisinger Health Plan, ...  \n",
       "7087   President Donald Trump celebrated the opening ...  \n",
       "9270   McALLEN, Texas  —   A Salvadoran national has ...  \n",
       "5086   Bias bashers Russia Has a Dead Nuclear Submari...  \n",
       "6028   Man seems to think he helped out with World Wa...  "
      ]
     },
     "execution_count": 230,
     "metadata": {},
     "output_type": "execute_result"
    }
   ],
   "source": [
    "X_test[0:7]"
   ]
  },
  {
   "cell_type": "code",
   "execution_count": 34,
   "metadata": {
    "id": "RH9OF9-CTalr"
   },
   "outputs": [
    {
     "name": "stdout",
     "output_type": "stream",
     "text": [
      "(4041, 20)40 / 4041\n",
      "(4041, 1000)\n"
     ]
    }
   ],
   "source": [
    "# test\n",
    "messages=X_test.copy()\n",
    "messages.reset_index(inplace=True)\n",
    "\n",
    "ps_title =PorterStemmer()\n",
    "ps_text =PorterStemmer()\n",
    "corpus_title = []\n",
    "corpus_text = []\n",
    "\n",
    "for i in range(0, len(messages)):\n",
    "    print(\"Status: %s / %s\" %(i, len(messages)), end=\"\\r\")\n",
    "    \n",
    "    #preproc title\n",
    "    review = re.sub('[^a-zA-Z]', ' ',messages['title'][i])\n",
    "    review = review.lower()\n",
    "    review = review.split()\n",
    "    \n",
    "    review = [ps_title.stem(word) for word in review if not word in stopwords.words('english')]\n",
    "    review = ' '.join(review)\n",
    "    corpus_title.append(review)\n",
    "    \n",
    "    #preproc text\n",
    "    review = re.sub('[^a-zA-Z]', ' ',messages['text'][i])\n",
    "    review = review.lower()\n",
    "    review = review.split()\n",
    "    \n",
    "    review = [ps_text.stem(word) for word in review if not word in stopwords.words('english')]\n",
    "    review = ' '.join(review)\n",
    "    corpus_text.append(review)\n",
    "\n",
    "onehot_rep_title = [one_hot(words, vo_size) for words in corpus_title]\n",
    "onehot_rep_text = [one_hot(words, vo_size) for words in corpus_text]\n",
    "\n",
    "sent_length_title = 20\n",
    "sent_length_text = 1000\n",
    "embedded_doc_title=pad_sequences(onehot_rep_title, padding='pre', maxlen=sent_length_title)\n",
    "embedded_doc_text=pad_sequences(onehot_rep_text, padding='pre', maxlen=sent_length_text)\n",
    "\n",
    "X_final_title=np.array(embedded_doc_title)\n",
    "X_final_text=np.array(embedded_doc_text)\n",
    "print(X_final_title.shape)\n",
    "print(X_final_text.shape)\n",
    "\n",
    "\n"
   ]
  },
  {
   "cell_type": "code",
   "execution_count": 22,
   "metadata": {},
   "outputs": [],
   "source": [
    "embedding_vec_title = 10\n",
    "embedding_vec_text = 100"
   ]
  },
  {
   "cell_type": "code",
   "execution_count": 23,
   "metadata": {},
   "outputs": [
    {
     "name": "stdout",
     "output_type": "stream",
     "text": [
      "Model: \"model_1\"\n",
      "__________________________________________________________________________________________________\n",
      " Layer (type)                   Output Shape         Param #     Connected to                     \n",
      "==================================================================================================\n",
      " input_4 (InputLayer)           [(None, 1000)]       0           []                               \n",
      "                                                                                                  \n",
      " embedding_3 (Embedding)        (None, 1000, 100)    50000       ['input_4[0][0]']                \n",
      "                                                                                                  \n",
      " lstm_3 (LSTM)                  (None, 1000, 128)    117248      ['embedding_3[0][0]']            \n",
      "                                                                                                  \n",
      " global_max_pooling1d_1 (Global  (None, 128)         0           ['lstm_3[0][0]']                 \n",
      " MaxPooling1D)                                                                                    \n",
      "                                                                                                  \n",
      " input_3 (InputLayer)           [(None, 20)]         0           []                               \n",
      "                                                                                                  \n",
      " dropout_2 (Dropout)            (None, 128)          0           ['global_max_pooling1d_1[0][0]'] \n",
      "                                                                                                  \n",
      " embedding_2 (Embedding)        (None, 20, 10)       5000        ['input_3[0][0]']                \n",
      "                                                                                                  \n",
      " dense_2 (Dense)                (None, 50)           6450        ['dropout_2[0][0]']              \n",
      "                                                                                                  \n",
      " lstm_2 (LSTM)                  (None, 128)          71168       ['embedding_2[0][0]']            \n",
      "                                                                                                  \n",
      " dropout_3 (Dropout)            (None, 50)           0           ['dense_2[0][0]']                \n",
      "                                                                                                  \n",
      " concatenate_1 (Concatenate)    (None, 178)          0           ['lstm_2[0][0]',                 \n",
      "                                                                  'dropout_3[0][0]']              \n",
      "                                                                                                  \n",
      " dense_3 (Dense)                (None, 1)            179         ['concatenate_1[0][0]']          \n",
      "                                                                                                  \n",
      "==================================================================================================\n",
      "Total params: 250,045\n",
      "Trainable params: 250,045\n",
      "Non-trainable params: 0\n",
      "__________________________________________________________________________________________________\n",
      "None\n"
     ]
    }
   ],
   "source": [
    "input_title = Input(shape=(sent_length_title,))\n",
    "input_text = Input(shape=(sent_length_text,))\n",
    "\n",
    "emb_title = Embedding(vo_size, embedding_vector_feature_title)(input_title)\n",
    "lstm_title = LSTM(128, return_sequences=False)(emb_title)\n",
    "\n",
    "emb_text = Embedding(vo_size, embedding_vector_feature_text)(input_text)\n",
    "lstm_text = LSTM(128, return_sequences=True)(emb_text)\n",
    "\n",
    "max_pool_text = GlobalMaxPool1D()(lstm_text)\n",
    "dropout_1_text = Dropout(0.1)(max_pool_text)\n",
    "dense_1_text = Dense(50, activation='relu')(dropout_1_text)\n",
    "dropout_2_text = Dropout(0.1)(dense_1_text)\n",
    "\n",
    "out = concatenate([lstm_title,dropout_2_text],axis=-1)\n",
    "output=Dense(1, activation='sigmoid')(out)\n",
    "\n",
    "model = Model(inputs=[input_title, input_text], outputs=output)\n",
    "model.compile(loss='binary_crossentropy', optimizer='adam', metrics=['accuracy'])\n",
    "print(model.summary())\n"
   ]
  },
  {
   "cell_type": "code",
   "execution_count": 37,
   "metadata": {},
   "outputs": [
    {
     "name": "stdout",
     "output_type": "stream",
     "text": [
      "Epoch 1/10\n",
      "102/102 [==============================] - ETA: 0s - loss: 0.3403 - accuracy: 0.8522"
     ]
    },
    {
     "name": "stderr",
     "output_type": "stream",
     "text": [
      "2022-05-15 21:36:20.940453: I tensorflow/core/grappler/optimizers/custom_graph_optimizer_registry.cc:113] Plugin optimizer for device_type GPU is enabled.\n",
      "2022-05-15 21:36:21.025219: I tensorflow/core/grappler/optimizers/custom_graph_optimizer_registry.cc:113] Plugin optimizer for device_type GPU is enabled.\n",
      "2022-05-15 21:36:21.025266: I tensorflow/core/grappler/optimizers/custom_graph_optimizer_registry.cc:113] Plugin optimizer for device_type GPU is enabled.\n"
     ]
    },
    {
     "name": "stdout",
     "output_type": "stream",
     "text": [
      "102/102 [==============================] - 101s 992ms/step - loss: 0.3403 - accuracy: 0.8522 - val_loss: 0.2351 - val_accuracy: 0.9106\n",
      "Epoch 2/10\n",
      "102/102 [==============================] - 85s 837ms/step - loss: 0.1579 - accuracy: 0.9418 - val_loss: 0.1508 - val_accuracy: 0.9453\n",
      "Epoch 3/10\n",
      "102/102 [==============================] - 79s 778ms/step - loss: 0.1137 - accuracy: 0.9600 - val_loss: 0.1447 - val_accuracy: 0.9480\n",
      "Epoch 4/10\n",
      "102/102 [==============================] - 81s 796ms/step - loss: 0.0971 - accuracy: 0.9647 - val_loss: 0.1359 - val_accuracy: 0.9542\n",
      "Epoch 5/10\n",
      "102/102 [==============================] - 81s 796ms/step - loss: 0.0819 - accuracy: 0.9699 - val_loss: 0.1845 - val_accuracy: 0.9233\n",
      "Epoch 6/10\n",
      "102/102 [==============================] - 81s 799ms/step - loss: 0.1060 - accuracy: 0.9634 - val_loss: 0.1262 - val_accuracy: 0.9539\n",
      "Epoch 7/10\n",
      "102/102 [==============================] - 72s 710ms/step - loss: 0.0808 - accuracy: 0.9715 - val_loss: 0.1793 - val_accuracy: 0.9453\n",
      "Epoch 8/10\n",
      "102/102 [==============================] - 76s 748ms/step - loss: 0.0617 - accuracy: 0.9772 - val_loss: 0.1256 - val_accuracy: 0.9558\n",
      "Epoch 9/10\n",
      "102/102 [==============================] - 75s 733ms/step - loss: 0.0501 - accuracy: 0.9823 - val_loss: 0.1441 - val_accuracy: 0.9567\n",
      "Epoch 10/10\n",
      "102/102 [==============================] - 74s 723ms/step - loss: 0.0403 - accuracy: 0.9865 - val_loss: 0.1336 - val_accuracy: 0.9579\n"
     ]
    },
    {
     "data": {
      "text/plain": [
       "<keras.callbacks.History at 0x3044f3e20>"
      ]
     },
     "execution_count": 37,
     "metadata": {},
     "output_type": "execute_result"
    }
   ],
   "source": [
    "model.fit(x=[X_train_title, X_train_text], y=y_final, batch_size=128, epochs=10, verbose=1, validation_split=0.2)\n"
   ]
  },
  {
   "cell_type": "code",
   "execution_count": 38,
   "metadata": {},
   "outputs": [
    {
     "name": "stderr",
     "output_type": "stream",
     "text": [
      "2022-05-16 01:07:14.794928: I tensorflow/core/grappler/optimizers/custom_graph_optimizer_registry.cc:113] Plugin optimizer for device_type GPU is enabled.\n",
      "2022-05-16 01:07:14.870265: I tensorflow/core/grappler/optimizers/custom_graph_optimizer_registry.cc:113] Plugin optimizer for device_type GPU is enabled.\n",
      "2022-05-16 01:07:14.870300: I tensorflow/core/grappler/optimizers/custom_graph_optimizer_registry.cc:113] Plugin optimizer for device_type GPU is enabled.\n"
     ]
    }
   ],
   "source": [
    "# predict final\n",
    "y_pred_final = model.predict([X_final_title,X_final_text])\n",
    "y_prob = pd.DataFrame(y_pred_final)\n",
    "y_prob['0'] = 1 - y_prob[0]\n",
    "y_class = pd.DataFrame(y_prob.values.argmax(axis=-1))\n",
    "y_class[0] = np.where(y_class[0]==1, 0, 1)\n",
    "\n"
   ]
  },
  {
   "cell_type": "code",
   "execution_count": 40,
   "metadata": {},
   "outputs": [],
   "source": [
    "# nice, 91.6% "
   ]
  },
  {
   "cell_type": "code",
   "execution_count": 39,
   "metadata": {},
   "outputs": [
    {
     "data": {
      "text/plain": [
       "0.9163573372927494"
      ]
     },
     "execution_count": 39,
     "metadata": {},
     "output_type": "execute_result"
    }
   ],
   "source": [
    "accuracy_score(y_test, y_class[0])"
   ]
  },
  {
   "cell_type": "markdown",
   "metadata": {},
   "source": [
    "## Gets harder with Custom Input"
   ]
  },
  {
   "cell_type": "code",
   "execution_count": 263,
   "metadata": {},
   "outputs": [],
   "source": [
    "# https://www.theguardian.com/politics/2022/may/15/margaret-thatcher-statue-grantham-egged-within-hours-of-it-being-installed\n",
    "buffalo_title = \"Buffalo Shooting: Suspect Was Held For Mental Health Evaluation Last Year\"\n",
    "buffalo_text = \"\"\" guard bound together by little more than tragic happenstance.\n",
    "\n",
    "But Mr. Gendron picked his target carefully, the police said, choosing an area known for its large Black population and even visiting the neighborhood the day before the attack in what authorities described as “reconnaissance.”\n",
    "\n",
    "And nearly a year before the mass shooting, his words had already caused alarm elsewhere.\n",
    "\n",
    "The police said on Sunday that Mr. Gendron had been picked up at his high school last June by state police after making a threatening remark and had been taken to a hospital for a mental health evaluation.  \n",
    "\n",
    "Responding to a question for a class project about his post-graduation plans, Mr. Gendron said his involved a murder-suicide, a law enforcement official familiar with the case said.\n",
    "\n",
    "But Mr. Gendron described the remark as a joke, the official said. And after the evaluation, which lasted about a day and a half, he was released, according to Joseph Gramaglia, the Buffalo police commissioner.\n",
    "\n",
    "That account was confirmed by Special Agent Steven Belongia of the F.B.I., who said that Mr. Gendron was “not on the radar” of federal authorities.\n",
    "\n",
    "Mr. Gendron, who the police said wore body armor and camouflage during his spree, is believed to have posted a lengthy screed riddled with racist writings and expressing admiration for a white supremacist ideology known as replacement theory, as well as for gunmen in other racist mass shootings.\"\"\"\n"
   ]
  },
  {
   "cell_type": "code",
   "execution_count": 279,
   "metadata": {},
   "outputs": [],
   "source": [
    "# supposedly credible by labellers\n",
    "secret_service_burlesque_title = \"'Burlesque Dancer Fired, Investigated by Secret Service for Trump Assassination Tweet - Breitbart'\"\n",
    "secret_service_burlesque_text = \"\"\"'The Secret Service is investigating a burlesque dancer from Kentucky after she posted a Tweet that said she hoped someone would be “kind enough” to assassinate President Donald Trump. [“If someone was cruel enough to assassinate MLK, maybe someone will be kind enough to assassinate Trump,” Heather Lowrey, 26, of Louisville wrote on Twitter.  The Secret Service confirmed it interviewed Lowrey and is still investigating the incident, the New York Daily News reported. Lowrey posted the Tweet Jan. 17, three days before Trump’s inauguration. The Tweet disappeared not long after it was posted, along with all her social media accounts. The bio on her profile said she was a “a Louisville Vixen and aspiring WWE diva” before the account was taken down, the Daily News reported. No charges have been announced against her yet, but her former employers have already issued statements denouncing the Tweet and have severed ties with her, WAVE reported. Va Va Vixens, a burlesque group in Louisville, let Lowrey go as soon as they found out about the incident, citing a “zero tolerance policy” for her behavior. “We do not condone hate by any party and will not partake in it. We in no way support negative behavior or malicious intent from anyone,” the group said. American Income Life, Travis Moody Office, also severed ties with Lowrey and issued a statement on the company’s Facebook page saying, “Heather Lowrey is no longer contracted with the Travis Moody Agency. ” “The Travis Moody Agency, its agents and its staff do not share the same views, nor opinions as Heather Lowrey. We have a zero tolerance policy and would never condone this behavior,” the company said. She is the only person to face a federal investigation for posting about the assassination of President Trump. The Secret Service is also reportedly looking into Madonna’s comments at the Women’s March on Washington Saturday after the singer said she had thought of “blowing up the White House. ”'\"\"\"\n"
   ]
  },
  {
   "cell_type": "code",
   "execution_count": 218,
   "metadata": {},
   "outputs": [],
   "source": [
    "# not credible by laebllers\n",
    "obama_title = \"'BREAKING – Obama Betrays America in MASSIVE Move Before He Leaves Office, Media is Silent | EndingFed News Network'\"\n",
    "obama_text = \"'Email Print President Obama has proven he is nothing but a vindictive man who is upset like the rest of the liberals that the person he was lobbying for didn’t win the 2016 election. But you’d never guess what he did with hit time in the Oval Office running out. President Obama has shut down the aerial surveillance over the U.S./ Mexican border with only two months left in his presidency. He’s trying to make it difficult for President-Elect Donald Trump, as per Watchdog.org The Department of Homeland Security can no longer do its job, and it is not securing the southern border with even the limited measures it has at its disposal right now! This is a move to help illegal immigrants come into this country, with Obama making it less difficult for them to break the law! They won’t be seen, and, thus, they won’t be caught. The U.S. Department of Homeland Security shut down Operation Phalanx, the aerial program that helps halt the movement of drugs and illegals across the border. This DHS move is challenged by Rep. Henry Cuellar, who claims that Congress gave this operation funding for the whole year of 2017. Cuellar, who is a member of the House Appropriations Committee and the Homeland Security Subcommittee, is composing a letter to send to DHS Secretary Jeh Johnson about the shutdown. And this is not the first time Johnson has been challenged. With the help of Texas Governor Greg Abbott, Cuellar went against Johnson earlier in the year in February when the Phalanx’s flight operations were reduced. Now, Cuellar is looking for reinforcements in Texas including Sen. John Cornyn and Reps. Mike McCaul and John Carter. McCaul has previously called on DHS to “develop a strategy to gain operational control” of the border. “Over the last several years, Congress has provided billions of dollars to secure the borders but without an end goal in mind,” McCaul stated. McCaul has also worked to make legislation “to require the [DHS] secretary to gain situational awareness through the use of sophisticated technologies and others means, giving our border agents the ability to predict changes in illegal activity.” The DHS claims the illegals coming into the U.S. have declined at the Texas stretch of the border, but apprehensions in the Rio Grande Valley rose 27 percent in the fiscal 2016 year alone. In the small Laredo border section, Operation Phalanx accounted for 10,559 apprehensions and 4,007 “turnbacks” from March 2012 to December 2015. Phalanx was credited with seizing 12,851 pounds of narcotics during the period. The fact that Obama would do away with that just because Donald Trump won says a lot about what kind of man our outgoing president is. He would let more criminals and drugs come into this country just to make it harder to control for Trump, but Obama is not hurting Trump—he’s hurting the American people. And that’s disgraceful. With Trump in office in January, however, Phalanx will be up and running once more… and Obama can’t do anything to stop it. What do you think of Obama’s move to shut down aerial surveillance of our southern border? Please share this story on Facebook and tell us what you think because we want to hear YOUR voice! \\nIf you haven’t checked out and liked our Facebook page, please go here and do so. Leave a comment... '\"\n",
    "custom_input = pd.DataFrame({'title':[obama_title], 'text':[obama_text]})\n",
    "\n"
   ]
  },
  {
   "cell_type": "code",
   "execution_count": 243,
   "metadata": {},
   "outputs": [],
   "source": [
    "# quite credible imho, correcly labelled\n",
    "health_title = 'Why Do Health Costs Keep Rising? These People Know - The New York Times'\n",
    "health_text = \"'DANVILLE, Pa.  —   The Geisinger Health Plan, run by one of the nation’s   health care organizations, foresees medical costs increasing next year by 7. 5 percent for people buying insurance under the Affordable Care Act. So when Geisinger requested a rate increase of 40 percent for 2017, consumer advocates were amazed. And Kurt J. Wrobel, Geisinger’s chief actuary, found himself, along with other members of his profession, in the middle of the health care wars still raging in this political year. Actuaries normally toil far from the limelight, anonymous technicians stereotyped as dull and boring. But as they crunch the numbers for their Affordable Care Act business, their calculations are feeding a roaring national debate over insurance premiums, widely used to gauge the success of President Obama’s health care law. Health plans around the country have just filed proposed rates for 2017. State insurance commissioners are still reviewing them. But questions about the proposed increases are reverberating through the health care system and into the political campaign. “Historical experience is the lifeblood of what we do,” Mr. Wrobel said, in an interview at Geisinger’s headquarters here. “We take that experience, adjust it for the underlying growth of health costs and project it into the future so we can estimate the expected costs for a particular insurance policy. ” Such niceties may be lost in this scorching campaign season. “There is panic and anger as health care costs explode!” Donald J. Trump, the presumptive Republican presidential nominee, wrote in a recent Twitter post, seizing on increases of nearly 60 percent sought by Blue Cross and Blue Shield of Texas. Obama administration officials are more sanguine. Consumers, they say, should not worry. Proposed rate increases are often reduced by state officials. Federal subsidies will generally rise along with premiums, offsetting much of the additional costs, and consumers can, in any event, switch to cheaper health plans next year. But as they prepare for the fourth year of coverage under the Affordable Care Act, many insurers are struggling to find the best ways of providing care to their new customers. The giant UnitedHealth Group, having lost money on individual policies under the federal health law, is pulling out of many insurance exchanges next year. A number of health insurance cooperatives created under the law have shut down. Geisinger is different. During debate on the 2010 health care law, Mr. Obama and members of Congress repeatedly hailed it as a model providing “  care at costs well below average,” in the president’s words. Geisinger serves residents of rural central and northeast Pennsylvania, and its roots in the community are as deep as the coal mines that once flourished here. Dr. David T. Feinberg, the president and chief executive of the Geisinger Health System, said its health plan was losing $30 million a year on coverage sold on the federal exchange in Pennsylvania. But leaving the market here would be unthinkable. “For its shareholders, United made the right decision,” Dr. Feinberg said, “but we don’t answer to shareholders. We answer to the nice people of Danville, Shamokin and Bloomsburg. ” It would be difficult to find a health plan more aligned with the goals of the federal law. The Obama administration recruited a former chief executive of the Geisinger Health Plan, Dr. Richard J. Gilfillan, to be the first director of the Center for Medicare and Medicaid Innovation, created by the health law to test ways to improve care and cut costs. Geisinger has been a pioneer in the use of electronic health records and genomic medicine, recruiting 100, 000 patients for DNA sequencing studies in the last two years. It has embraced “pay for performance,” offering a warranty for major surgical procedures and promising not to charge extra if complications occur. But innovation has been no match for the actuarial surprises dealt out by the Affordable Care Act. Mr. Wrobel said Geisinger had simply underestimated how much care its new customers would need. “Our rates for Medicare, Medicaid and   insurance have been relatively stable, but those products have to bear the cost of our losses on exchange business,” Mr. Wrobel said. Last October the Pennsylvania Insurance Department, headed by a former Obama administration official, approved a 20 percent increase in Geisinger’s rates, about half of what the company had requested. “But based on experience,” Mr. Wrobel said, “the 2016 premium rate is too low, so we want to correct it in 2017. ” Julia T. Philips, an   actuary who worked 19 years for the state of Minnesota, said insurance regulators generally do not let a company make up for past losses with future rate increases. “But regulators often allow companies to catch up,” she said. “If you assumed that claims would average $400 per member per month in 2015 and the actual cost was $440, you can use the higher number as a starting point in predicting claims costs for 2017. ” Obama administration officials suggest that insurance companies seeking big rate increases have been slow to adapt to the new law. But Geisinger executives welcome innovation, and they have celebrated the reduction in the number of uninsured under the Affordable Care Act. Geisinger is not alone. The Pennsylvania Insurance Department says insurers have proposed premium increases averaging 23. 6 percent for individual coverage for 2017. “People with   conditions are now getting treatment,” said Antoinette Kraus, the director of a statewide consumer group, the Pennsylvania Health Access Network, “and it’s more expensive because they were shut out of the market for many years. ” But, she added, “we expect that they’ll eventually become healthier, so we won’t see these huge rate increases every year. ” Kevin J. Counihan, the chief executive of the federal insurance marketplace, acknowledged that “  demand for health care is greater than people expected and is lasting longer than expected. ” In April, before most insurers had filed their rate requests for 2017, the Obama administration began a campaign to play down their significance. “Proposed rates aren’t what consumers pay,” the Department of Health and Human Services said. “Most people receive tax credits and can buy a plan for less than $75 per month. ” Moreover, the administration says that the health law created a competitive market in which consumers can shop for the best deal. As evidence that this market is working, the administration boasts that more than 40 percent of returning consumers switched to different plans for 2016. However, Mr. Wrobel said, such turnover is making it more difficult for insurers to predict costs. “The whole point of what we do, the foundation of good health insurance,” he said, “is to develop   relationships with our members and to make   investments in their health. It’s not like buying a book on Amazon. ” Besides, he said, substantial numbers of consumers do not receive subsidies. The Congressional Budget Office estimates that 12 million people will receive subsidies, in the form of tax credits, next year. But it says that an equal number  —   three million on the exchanges and nine million buying insurance outside the exchanges  —   will have to pay the full unsubsidized price. “When we developed rates for 2014,” Mr. Wrobel said, “we had no historical data. It was basically an educated guess. ” Mr. Wrobel said rates were still being affected by a federal policy, adopted in late 2013, that allowed some people to keep and renew insurance that did not meet standards in the Affordable Care Act. “Healthier people chose to keep their plans,” he said, “so the collective cost of care for people buying insurance on the exchange was higher than expected. ” Many insurers hope to profit from the Affordable Care Act, but for Geisinger, the calculus is a little different. “Geisinger has been here for 100 years, and we expect to be here another hundred,” Mr. Wrobel said. “We are going to be taking care of the people in this community one way or another. So it’s really important for this program to be financially stable and sustainable. ”'\"\n",
    "custom_input_2 = pd.DataFrame({'title':[health_title], 'text':[health_text]})\n"
   ]
  },
  {
   "cell_type": "code",
   "execution_count": 258,
   "metadata": {},
   "outputs": [],
   "source": [
    "def process_input(title, text):\n",
    "    \n",
    "    custom_df = pd.DataFrame({'title':[title], 'text':[text]})\n",
    "    \n",
    "    # test\n",
    "    messages=custom_df.copy()\n",
    "    messages.reset_index(inplace=True)\n",
    "\n",
    "\n",
    "    ps_title = PorterStemmer()\n",
    "    ps_text = PorterStemmer()\n",
    "    corpus_title = []\n",
    "    corpus_text = []\n",
    "\n",
    "    for i in range(0, len(messages)):\n",
    "\n",
    "        #preproc title\n",
    "        review = re.sub('[^a-zA-Z]', ' ', str(messages['title'][0]))\n",
    "        review = review.lower()\n",
    "        review = review.split()\n",
    "\n",
    "        review = [ps_title.stem(word) for word in review if not word in stopwords.words('english')]\n",
    "        review = ' '.join(review)\n",
    "        corpus_title.append(review)\n",
    "\n",
    "        #preproc text\n",
    "        review = re.sub('[^a-zA-Z]', ' ', str(messages['text'][0]))\n",
    "        review = review.lower()\n",
    "        review = review.split()\n",
    "\n",
    "        review = [ps_text.stem(word) for word in review if not word in stopwords.words('english')]\n",
    "        review = ' '.join(review)\n",
    "        corpus_text.append(review)\n",
    "\n",
    "    onehot_rep_title = [one_hot(words, vo_size) for words in corpus_title]\n",
    "    onehot_rep_text = [one_hot(words, vo_size) for words in corpus_text]\n",
    "\n",
    "    sent_length_title = 20\n",
    "    sent_length_text = 1000\n",
    "    embedded_doc_title=pad_sequences(onehot_rep_title, padding='pre', maxlen=sent_length_title)\n",
    "    embedded_doc_text=pad_sequences(onehot_rep_text, padding='pre', maxlen=sent_length_text)\n",
    "\n",
    "    custom_title=np.array(embedded_doc_title)\n",
    "    custom_text=np.array(embedded_doc_text)\n",
    "    return [custom_title, custom_text]\n"
   ]
  },
  {
   "cell_type": "code",
   "execution_count": null,
   "metadata": {},
   "outputs": [],
   "source": []
  },
  {
   "cell_type": "code",
   "execution_count": 277,
   "metadata": {},
   "outputs": [
    {
     "data": {
      "text/plain": [
       "array([[1.9932824e-05]], dtype=float32)"
      ]
     },
     "execution_count": 277,
     "metadata": {},
     "output_type": "execute_result"
    }
   ],
   "source": [
    "# predict final\n",
    "model.predict(process_input(X_test.loc[158]['title'], X_test.loc[158]['text']))\n",
    "\n",
    "\n"
   ]
  },
  {
   "cell_type": "code",
   "execution_count": 253,
   "metadata": {},
   "outputs": [
    {
     "data": {
      "text/plain": [
       "5.1796714e-08"
      ]
     },
     "execution_count": 253,
     "metadata": {},
     "output_type": "execute_result"
    }
   ],
   "source": [
    "y_pred_final[0][0]"
   ]
  },
  {
   "cell_type": "code",
   "execution_count": 278,
   "metadata": {},
   "outputs": [
    {
     "data": {
      "text/plain": [
       "'The Secret Service is investigating a burlesque dancer from Kentucky after she posted a Tweet that said she hoped someone would be “kind enough” to assassinate President Donald Trump. [“If someone was cruel enough to assassinate MLK, maybe someone will be kind enough to assassinate Trump,” Heather Lowrey, 26, of Louisville wrote on Twitter.  The Secret Service confirmed it interviewed Lowrey and is still investigating the incident, the New York Daily News reported. Lowrey posted the Tweet Jan. 17, three days before Trump’s inauguration. The Tweet disappeared not long after it was posted, along with all her social media accounts. The bio on her profile said she was a “a Louisville Vixen and aspiring WWE diva” before the account was taken down, the Daily News reported. No charges have been announced against her yet, but her former employers have already issued statements denouncing the Tweet and have severed ties with her, WAVE reported. Va Va Vixens, a burlesque group in Louisville, let Lowrey go as soon as they found out about the incident, citing a “zero tolerance policy” for her behavior. “We do not condone hate by any party and will not partake in it. We in no way support negative behavior or malicious intent from anyone,” the group said. American Income Life, Travis Moody Office, also severed ties with Lowrey and issued a statement on the company’s Facebook page saying, “Heather Lowrey is no longer contracted with the Travis Moody Agency. ” “The Travis Moody Agency, its agents and its staff do not share the same views, nor opinions as Heather Lowrey. We have a zero tolerance policy and would never condone this behavior,” the company said. She is the only person to face a federal investigation for posting about the assassination of President Trump. The Secret Service is also reportedly looking into Madonna’s comments at the Women’s March on Washington Saturday after the singer said she had thought of “blowing up the White House. ”'"
      ]
     },
     "execution_count": 278,
     "metadata": {},
     "output_type": "execute_result"
    }
   ],
   "source": [
    "X_test.loc[158]['text']\n",
    "\n"
   ]
  },
  {
   "cell_type": "code",
   "execution_count": 266,
   "metadata": {},
   "outputs": [
    {
     "data": {
      "text/plain": [
       "18889    1\n",
       "812      1\n",
       "19487    0\n",
       "7087     0\n",
       "9270     0\n",
       "        ..\n",
       "14417    0\n",
       "158      0\n",
       "13999    1\n",
       "14263    1\n",
       "17225    1\n",
       "Name: label, Length: 4041, dtype: int64"
      ]
     },
     "execution_count": 266,
     "metadata": {},
     "output_type": "execute_result"
    }
   ],
   "source": [
    "y_test"
   ]
  },
  {
   "cell_type": "markdown",
   "metadata": {},
   "source": [
    "# Summary"
   ]
  },
  {
   "cell_type": "markdown",
   "metadata": {},
   "source": [
    "Accuracy is good but subjective on the test set. I find that it looks a lot at facts and numbers the most.\n",
    "Some Breitbart texts were labelled as not. The model baises towards thinking most things are fake"
   ]
  },
  {
   "cell_type": "code",
   "execution_count": 296,
   "metadata": {},
   "outputs": [
    {
     "data": {
      "text/plain": [
       "array([[0.8335579]], dtype=float32)"
      ]
     },
     "execution_count": 296,
     "metadata": {},
     "output_type": "execute_result"
    }
   ],
   "source": [
    "# Reuters\n",
    "# https://www.reuters.com/world/europe/ukraine-counter-attacks-russian-forces-east-2022-05-16/\n",
    "reut_title = \"Russian forces fall back in northeast Ukraine, McDonald's retreats from Moscow\"\n",
    "reut_text = \"\"\"RUSKA LOZOVA, Ukraine/KYIV, May 16 (Reuters) - Ukrainian troops have pushed Russian forces back from the northeastern city of Kharkiv and some have advanced as far as the border with Russia, Ukrainian officials said on Monday.\n",
    "\n",
    "The developments, if confirmed, would signal a further shift in momentum in favour of Ukraine nearly three months into a conflict that began when Russia sent tens of thousands of troops over the border into Ukraine on Feb. 24.\n",
    "\n",
    "Sweden meanwhile was expected to take a formal decision on Monday to apply to join NATO following a similar move by Finland - a change in the Nordic countries' long-standing policy of neutrality brought on by the Russian invasion and concern about President Vladimir Putin's wider ambitions. read more\n",
    "\n",
    "\"Europe, Sweden and the Swedish people are living now in a new and dangerous reality,\" Swedish Prime Minister Magdalena Andersson said during a debate in parliament in Stockholm.\n",
    "\n",
    "Moscow warned of \"far-reaching consequences\" should they should go ahead.\n",
    "\n",
    "And in another setback for Putin, McDonald's Corp (MCD.N), the world's largest fast food chain, said it was pulling out of Russia because of the conflict.\n",
    "\n",
    "In Brussels, the European Union was working on a package of further economic sanctions on Russia to step up international pressure on Putin.\n",
    "\n",
    "COUNTER-OFFENSIVE\n",
    "\n",
    "On the battlefields near Kharkiv, Ukraine's second-largest city, interior ministry adviser Vadym Denisenko said Ukrainian troops were mounting a counter-offensive.\n",
    "\n",
    "\"It can no longer be stopped... Thanks to this, we can go to the rear of the Russian group of forces,\" he said.\n",
    "\n",
    "Kharkiv, lying about 30 miles (50 km) from the border with Russia, had endured weeks of heavy Russian bombardments. The Russian retreat from the city follows their failure to capture the capital Kyiv in the early stages of the war.\n",
    "\n",
    "But thousands of people, including many civilians, have been killed across the country, cities have been blasted into ruins, and more than six million people have fled their homes to seek refuge in neighbouring states in scenes not seen in Europe since the Balkan wars of the 1990s. Russia denies targeting civilians.\n",
    "\n",
    "Ukraine's defence ministry said on Monday the 227th Battalion of the 127th Brigade of Ukraine's Territorial Defence Forces had reached the border with Russia.\n",
    "\n",
    "Kharkiv region governor Oleh Sinegubov said the troops had restored a sign on the border.\n",
    "\n",
    "\"We thank everyone who, risking their lives, liberates Ukraine from Russian invaders,\" Sinegubov said.\n",
    "\n",
    "Reuters could not verify Ukraine's account and it was not clear how many troops had reached the Russian border or where.\n",
    "\n",
    "If confirmed, it would suggest the northeastern counter-offensive is having increasing success after Western military agencies said Moscow's offensive in two eastern provinces known as the Donbas had stalled.\n",
    "\n",
    "Konrad Muzyka, director of the Poland-based Rochan consultancy, said he was not surprised at the Ukrainian gains.\n",
    "\n",
    "\"The Ukrainians have been in the border regions for a few days already,\" he told Reuters. \"It's symbolic and it definitely has PR value, but this was to be expected.\n",
    "\n",
    "\"Don't get me wrong, the Russians still enjoy overall artillery superiority in terms of numbers, but I'm not sure if the same goes for the quality now.\"\n",
    "\n",
    "The governor of the Luhansk region in Donbas, Serhiy Gaidai, said the situation \"remains difficult\", with Russian forces trying to capture the town of Sieverodonetsk.\n",
    "\n",
    "He said leaders of the Lugansk People's Republic, the territory in Luhansk controlled by Russian-backed separatists, declared a general mobilisation, adding it was \"either fight or get shot, there is no other choice\".\n",
    "\n",
    "In the south, fighting was raging around the city of Kherson and Russian missiles struck residential areas of Mykolayiv, the presidential office in Kyiv said. Reuters was unable to verify the reports.\n",
    "\n",
    "NATO Secretary-General Jens Stoltenberg said on Sunday Ukraine could win the war, an outcome few military analysts predicted when Russia invaded Ukraine.\n",
    "\"\"\"\n",
    "model.predict(process_input(reut_title, reut_text))\n",
    "\n"
   ]
  },
  {
   "cell_type": "code",
   "execution_count": 297,
   "metadata": {},
   "outputs": [
    {
     "data": {
      "text/plain": [
       "array([[0.00408525]], dtype=float32)"
      ]
     },
     "execution_count": 297,
     "metadata": {},
     "output_type": "execute_result"
    }
   ],
   "source": [
    "# west point ISW\n",
    "# https://www.understandingwar.org/backgrounder/ukraine-conflict-updates\n",
    "\n",
    "isw_title = \"Russian Offensive Campaign Assessment, May 14\"\n",
    "isw_text = \"\"\"\n",
    "\n",
    "The Ukrainian destruction of significant elements of a Russian motorized rifle brigade that tried to cross a pontoon bridge over the Siverskyi Donets River on May 11 has shocked prominent Russian milbloggers. Those bloggers have begun commenting on the incompetence of the Russian military to their hundreds of thousands of followers. The attempted river crossing showed a stunning lack of tactical sense as satellite images show (destroyed) Russian vehicles tightly bunched up at both ends of the (destroyed) bridge, clearly allowing Ukrainian artillerymen to kill hundreds and destroy scores of vehicles with concentrated strikes. The milbloggers who have hitherto been cheering on the Russian military criticized Russian armed forces leadership for failing to learn from experience in the war. They also expressed the concern that the constant pushing of Russia’s propaganda lines was making it hard for them to understand what was actually going on.\n",
    "\n",
    "The effects of this change in tone and discourse by these milbloggers are uncertain but could be potent. People living under tightly censored regimes often trust individuals who seem to be independent of but generally aligned with the government more than the government line (even more than do citizens of democratic societies). The commentary by these widely read milbloggers may fuel burgeoning doubts in Russia about Russia’s prospects in this war and the competence of Russia’s military leaders (at least).\n",
    "\n",
    "The destruction of the motorized rifle elements may also severely disrupt Russian efforts to isolate Severodonetsk and Lysychansk from the north. Russian troops made no attempts to advance in that area in the last 24 hours.\n",
    "\n",
    "Russian forces continued operations to set conditions for the Battle of Severodonetsk from the south, however, advancing on the town of Zolote, roughly 30 km south of Severodonetsk. Russian troops likely seek to secure the highway north from Zolote to Severodonetsk for their advance, but they may also seek to cut the last highway linking Severodonetsk with the rest of Ukraine via Bakhmut. They could try to strike northwest across the country from their current positions to cut that highway closer to Lysychansk and Severodonetsk. The Russians are extremely unlikely to be able to take Bakhmut but they may be able to cut or render unusable the highway from Bakhmut to Severodonetsk if they can advance far enough along either of these possible routes.\n",
    "\n",
    "Ukrainian forces will likely conduct counteroffensive operations to dislodge the Russians from around Izyum, according to Ukrainian officials. We have previously noted that Russian artillery fire directed to the west from around Izyum was more likely intended to disrupt such a counter-offensive than to set conditions for a Russian attack.\n",
    "\n",
    "Russian forces continued their withdrawal from Kharkiv Oblast but will likely seek to hold a line east of Vovchansk to secure the ground line of communication (GLOC) running from Belgorod through Vovchansk to Izyum. The terrain in this area generally favors the defender, and the Russians have other GLOCs with which to supply Izyum, so the Ukrainians may not try to advance much farther to the east at this time.\n",
    "\n",
    "Ukrainian defenders continued to fight in the Azovstal Plant in Mariupol despite horrific conditions and continued Russian attacks. The Ukrainian defense of Azovstal is still tying down Russian combat forces and inflicting casualties.\n",
    "\n",
    "\"\"\"\n",
    "model.predict(process_input(isw_title, isw_text))\n",
    "\n"
   ]
  },
  {
   "cell_type": "markdown",
   "metadata": {},
   "source": [
    "### It selects somewhat for academic language in my view. \n",
    "\n",
    "In the lab we can see 92% accuracy, though in the wild things get wierd. It's also quite subjective but I do find that tone is key. \n",
    "\n",
    "Also, encoding consistenly is extremely extremely difficult\n",
    "\n",
    "It really is a kind of sentiment analysis \n",
    "\n",
    "Overall not as good as I’d hoped, sentiment is a much easier problem than credibility"
   ]
  },
  {
   "cell_type": "code",
   "execution_count": null,
   "metadata": {},
   "outputs": [],
   "source": []
  }
 ],
 "metadata": {
  "colab": {
   "name": "proj_final.ipynb",
   "provenance": []
  },
  "kernelspec": {
   "display_name": "Python 3 (ipykernel)",
   "language": "python",
   "name": "python3"
  },
  "language_info": {
   "codemirror_mode": {
    "name": "ipython",
    "version": 3
   },
   "file_extension": ".py",
   "mimetype": "text/x-python",
   "name": "python",
   "nbconvert_exporter": "python",
   "pygments_lexer": "ipython3",
   "version": "3.8.12"
  }
 },
 "nbformat": 4,
 "nbformat_minor": 1
}
